{
  "nbformat": 4,
  "nbformat_minor": 0,
  "metadata": {
    "colab": {
      "name": "Intro Assignment 2 - Intro to Data Exploration",
      "version": "0.3.2",
      "provenance": [],
      "collapsed_sections": []
    },
    "kernelspec": {
      "name": "python3",
      "display_name": "Python 3"
    }
  },
  "cells": [
    {
      "cell_type": "markdown",
      "metadata": {
        "id": "dJNVAHIX8XCi",
        "colab_type": "text"
      },
      "source": [
        "## 1) Copy the notebook to your google account."
      ]
    },
    {
      "cell_type": "markdown",
      "metadata": {
        "id": "ViAyRUAM8cMo",
        "colab_type": "text"
      },
      "source": [
        "## 2) Import the pandas library and alias it as \"pd\"."
      ]
    },
    {
      "cell_type": "code",
      "metadata": {
        "id": "Kd_nusDS98v7",
        "colab_type": "code",
        "colab": {}
      },
      "source": [
        "import pandas as pd"
      ],
      "execution_count": 0,
      "outputs": []
    },
    {
      "cell_type": "markdown",
      "metadata": {
        "id": "YjCgT50E8zPu",
        "colab_type": "text"
      },
      "source": [
        "## 3) Read in the CSV dataset that is found at the following URL:\n",
        "[DATASET HERE](https://raw.githubusercontent.com/ryanleeallred/datasets/master/messy-data.csv)\n"
      ]
    },
    {
      "cell_type": "code",
      "metadata": {
        "id": "HzEBd-hz99Ma",
        "colab_type": "code",
        "colab": {}
      },
      "source": [
        "df = pd.read_csv(\"https://raw.githubusercontent.com/ryanleeallred/datasets/master/messy-data.csv\")"
      ],
      "execution_count": 0,
      "outputs": []
    },
    {
      "cell_type": "markdown",
      "metadata": {
        "id": "Mu1IYH3g9EF3",
        "colab_type": "text"
      },
      "source": [
        "## 4) Print out the shape as well as the first 5 rows of the dataframe."
      ]
    },
    {
      "cell_type": "code",
      "metadata": {
        "id": "ZLnVdtLW99vN",
        "colab_type": "code",
        "outputId": "b3dc1931-6081-421c-b482-186b9c761f1a",
        "colab": {
          "base_uri": "https://localhost:8080/",
          "height": 136
        }
      },
      "source": [
        "print(df.shape)\n",
        "print(df.head(5))"
      ],
      "execution_count": 0,
      "outputs": [
        {
          "output_type": "stream",
          "text": [
            "(165, 7)\n",
            "   alpha  beta  gamma  delta  epsilon zeta eta\n",
            "0      2    48     12    240      3.0  Yes  AZ\n",
            "1      3    46     18    230      5.0  NaN  VT\n",
            "2      4    44     24    220      7.0   No  PA\n",
            "3      5    42     30    210      9.0  Yes  OK\n",
            "4      6    44     36    220     11.0  Yes  MD\n"
          ],
          "name": "stdout"
        }
      ]
    },
    {
      "cell_type": "markdown",
      "metadata": {
        "id": "lQXA62rd9OWM",
        "colab_type": "text"
      },
      "source": [
        "## 5) Print out the datatypes of the dataframe columns (dataset features)."
      ]
    },
    {
      "cell_type": "code",
      "metadata": {
        "id": "5hPgdg0W9-1j",
        "colab_type": "code",
        "outputId": "313c8676-d5b3-4212-feda-bb6aac920a0d",
        "colab": {
          "base_uri": "https://localhost:8080/",
          "height": 153
        }
      },
      "source": [
        "print(df.dtypes)"
      ],
      "execution_count": 0,
      "outputs": [
        {
          "output_type": "stream",
          "text": [
            "alpha        int64\n",
            "beta         int64\n",
            "gamma        int64\n",
            "delta        int64\n",
            "epsilon    float64\n",
            "zeta        object\n",
            "eta         object\n",
            "dtype: object\n"
          ],
          "name": "stdout"
        }
      ]
    },
    {
      "cell_type": "markdown",
      "metadata": {
        "id": "WcMnUSW5fb9b",
        "colab_type": "text"
      },
      "source": [
        "## 6) Print out the summary statistics of the numeric values of your dataset i.e. min, max, mean, standard deviation, etc."
      ]
    },
    {
      "cell_type": "code",
      "metadata": {
        "id": "4Np346ECfn0i",
        "colab_type": "code",
        "outputId": "c63bd5b2-a43c-4820-df6c-fa98894e741e",
        "colab": {
          "base_uri": "https://localhost:8080/",
          "height": 170
        }
      },
      "source": [
        "print(df.describe())"
      ],
      "execution_count": 0,
      "outputs": [
        {
          "output_type": "stream",
          "text": [
            "            alpha        beta       gamma       delta     epsilon\n",
            "count  165.000000  165.000000  165.000000  165.000000  141.000000\n",
            "mean    46.169697   17.921212  277.018182   89.606061  164.794326\n",
            "std     24.371521   17.769180  146.229125   88.845900   96.430843\n",
            "min      2.000000  -11.000000   12.000000  -55.000000    3.000000\n",
            "25%     28.000000    7.000000  168.000000   35.000000   83.000000\n",
            "50%     44.000000   15.000000  264.000000   75.000000  163.000000\n",
            "75%     65.000000   32.000000  390.000000  160.000000  247.000000\n",
            "max     85.000000   50.000000  510.000000  250.000000  331.000000\n"
          ],
          "name": "stdout"
        }
      ]
    },
    {
      "cell_type": "markdown",
      "metadata": {
        "id": "m2KFAh6T97-t",
        "colab_type": "text"
      },
      "source": [
        "## 6) Clean all NaN values from the dataset.\n",
        "\n",
        "Feel free to add code cells as needed."
      ]
    },
    {
      "cell_type": "code",
      "metadata": {
        "id": "9fkfvv5ELfuE",
        "colab_type": "code",
        "outputId": "5e58857c-0ec9-4f7d-862d-6c0306741372",
        "colab": {
          "base_uri": "https://localhost:8080/",
          "height": 204
        }
      },
      "source": [
        "import numpy as np\n",
        "\n",
        "print(df.isnull().any())\n",
        "# dataframe has null values in epsilon and zeta columns\n",
        "\n",
        "null_counts = df.isnull().sum()\n",
        "print(null_counts[null_counts > 0].sort_values(ascending=False))\n",
        "# 24 in epsilon, 19 in zeta"
      ],
      "execution_count": 0,
      "outputs": [
        {
          "output_type": "stream",
          "text": [
            "alpha      False\n",
            "beta       False\n",
            "gamma      False\n",
            "delta      False\n",
            "epsilon     True\n",
            "zeta        True\n",
            "eta        False\n",
            "dtype: bool\n",
            "epsilon    24\n",
            "zeta       19\n",
            "dtype: int64\n"
          ],
          "name": "stdout"
        }
      ]
    },
    {
      "cell_type": "code",
      "metadata": {
        "id": "3pwjWdXHRV93",
        "colab_type": "code",
        "outputId": "4321f59b-ca7a-44ca-f969-e48e6a714884",
        "colab": {
          "base_uri": "https://localhost:8080/",
          "height": 442
        }
      },
      "source": [
        "# epsilon has some NaN values\n",
        "# we'll take the average of the values before and after NaN\n",
        "# and fill it with those values since it looks like\n",
        "# they are increments of 2.0 each row\n",
        "print(df[df['epsilon'].isnull() == True])"
      ],
      "execution_count": 0,
      "outputs": [
        {
          "output_type": "stream",
          "text": [
            "     alpha  beta  gamma  delta  epsilon zeta eta\n",
            "9        5    38     30    190      NaN   No  DE\n",
            "18      12    37     72    185      NaN  Yes  NM\n",
            "24      17    32    102    160      NaN  Yes  VT\n",
            "26      19    37    114    185      NaN   No  TX\n",
            "32      23    47    138    235      NaN  Yes  UT\n",
            "54      32     9    192     45      NaN   No  DE\n",
            "60      36    22    216    110      NaN   No  TX\n",
            "67      42    27    252    135      NaN   No  CT\n",
            "72      43    25    258    125      NaN  Yes  MN\n",
            "74      43    21    258    105      NaN  Yes  OH\n",
            "83      40     9    240     45      NaN   No  CA\n",
            "90      50    18    300     90      NaN  Yes  MS\n",
            "95      54    10    324     50      NaN   No  WV\n",
            "98      56    16    336     80      NaN  NaN  NY\n",
            "107     62     7    372     35      NaN   No  WV\n",
            "113     63     3    378     15      NaN  Yes  WV\n",
            "119     63    -9    378    -45      NaN  Yes  NE\n",
            "124     64   -11    384    -55      NaN   No  NJ\n",
            "126     66   -11    396    -55      NaN  NaN  FL\n",
            "134     76     7    456     35      NaN  Yes  NJ\n",
            "136     78     7    468     35      NaN  Yes  SD\n",
            "148     83     5    498     25      NaN   No  NY\n",
            "153     83    -9    498    -45      NaN  Yes  NM\n",
            "162     84     8    504     40      NaN   No  NJ\n"
          ],
          "name": "stdout"
        }
      ]
    },
    {
      "cell_type": "code",
      "metadata": {
        "id": "ugeZmZFNnf3b",
        "colab_type": "code",
        "outputId": "757df52f-22e7-49dd-81f0-cf11bf9a4e25",
        "colab": {
          "base_uri": "https://localhost:8080/",
          "height": 204
        }
      },
      "source": [
        "# missing value on index 9, should be 21.0\n",
        "print(df['epsilon'].head(10))"
      ],
      "execution_count": 0,
      "outputs": [
        {
          "output_type": "stream",
          "text": [
            "0     3.0\n",
            "1     5.0\n",
            "2     7.0\n",
            "3     9.0\n",
            "4    11.0\n",
            "5    13.0\n",
            "6    15.0\n",
            "7    17.0\n",
            "8    19.0\n",
            "9     NaN\n",
            "Name: epsilon, dtype: float64\n"
          ],
          "name": "stdout"
        }
      ]
    },
    {
      "cell_type": "code",
      "metadata": {
        "id": "CiuEXCgnnpnv",
        "colab_type": "code",
        "outputId": "2eed4db4-492d-4d8d-c458-6f6088ef4930",
        "colab": {
          "base_uri": "https://localhost:8080/",
          "height": 204
        }
      },
      "source": [
        "# missing value on 162nd index, should be 327.0\n",
        "print(df['epsilon'].tail(10))"
      ],
      "execution_count": 0,
      "outputs": [
        {
          "output_type": "stream",
          "text": [
            "155    313.0\n",
            "156    315.0\n",
            "157    317.0\n",
            "158    319.0\n",
            "159    321.0\n",
            "160    323.0\n",
            "161    325.0\n",
            "162      NaN\n",
            "163    329.0\n",
            "164    331.0\n",
            "Name: epsilon, dtype: float64\n"
          ],
          "name": "stdout"
        }
      ]
    },
    {
      "cell_type": "code",
      "metadata": {
        "id": "ji6TPALUS2HM",
        "colab_type": "code",
        "colab": {}
      },
      "source": [
        "# make a copy of dataset so we don't overwrite original\n",
        "dfcopy = df.copy()\n",
        "# fill na values with zeroes\n",
        "dfcopy['epsilon'] = dfcopy['epsilon'].fillna(0)\n",
        "# becomes floats 0.0"
      ],
      "execution_count": 0,
      "outputs": []
    },
    {
      "cell_type": "code",
      "metadata": {
        "id": "gco2tSjjkuMu",
        "colab_type": "code",
        "outputId": "0b9e5c3d-2326-4d1b-c3a1-ede7bbda4dcd",
        "colab": {
          "base_uri": "https://localhost:8080/",
          "height": 102
        }
      },
      "source": [
        "# looping until i hits maximum row count\n",
        "for i in range(dfcopy['epsilon'].shape[0]):\n",
        "  # if value is 0.0\n",
        "  if dfcopy['epsilon'].iloc[i] == 0.0:\n",
        "    # replace by taking average of value before and after 0.0's\n",
        "    dfcopy['epsilon'].iloc[i] = (dfcopy['epsilon'].iloc[i-1] + dfcopy['epsilon'].iloc[i+1]) / 2"
      ],
      "execution_count": 0,
      "outputs": [
        {
          "output_type": "stream",
          "text": [
            "/usr/local/lib/python3.6/dist-packages/pandas/core/indexing.py:190: SettingWithCopyWarning: \n",
            "A value is trying to be set on a copy of a slice from a DataFrame\n",
            "\n",
            "See the caveats in the documentation: http://pandas.pydata.org/pandas-docs/stable/indexing.html#indexing-view-versus-copy\n",
            "  self._setitem_with_indexer(indexer, value)\n"
          ],
          "name": "stderr"
        }
      ]
    },
    {
      "cell_type": "code",
      "metadata": {
        "id": "5YKVFgM5mEUv",
        "colab_type": "code",
        "outputId": "bd970bf5-6df6-45bd-a9dc-eb895cbf68cd",
        "colab": {
          "base_uri": "https://localhost:8080/",
          "height": 204
        }
      },
      "source": [
        "# expected output should be increments of 2.0\n",
        "# index 9 is 21.0\n",
        "dfcopy['epsilon'].head(10)"
      ],
      "execution_count": 0,
      "outputs": [
        {
          "output_type": "execute_result",
          "data": {
            "text/plain": [
              "0     3.0\n",
              "1     5.0\n",
              "2     7.0\n",
              "3     9.0\n",
              "4    11.0\n",
              "5    13.0\n",
              "6    15.0\n",
              "7    17.0\n",
              "8    19.0\n",
              "9    21.0\n",
              "Name: epsilon, dtype: float64"
            ]
          },
          "metadata": {
            "tags": []
          },
          "execution_count": 12
        }
      ]
    },
    {
      "cell_type": "code",
      "metadata": {
        "id": "PUsTEQa7l_AJ",
        "colab_type": "code",
        "outputId": "6f7bfa0c-c317-4142-d140-e18efbdb23a3",
        "colab": {
          "base_uri": "https://localhost:8080/",
          "height": 204
        }
      },
      "source": [
        "# checking last 10 values\n",
        "dfcopy['epsilon'].tail(10)"
      ],
      "execution_count": 0,
      "outputs": [
        {
          "output_type": "execute_result",
          "data": {
            "text/plain": [
              "155    313.0\n",
              "156    315.0\n",
              "157    317.0\n",
              "158    319.0\n",
              "159    321.0\n",
              "160    323.0\n",
              "161    325.0\n",
              "162    327.0\n",
              "163    329.0\n",
              "164    331.0\n",
              "Name: epsilon, dtype: float64"
            ]
          },
          "metadata": {
            "tags": []
          },
          "execution_count": 13
        }
      ]
    },
    {
      "cell_type": "code",
      "metadata": {
        "id": "UUPlwWmJTG0q",
        "colab_type": "code",
        "outputId": "00339d43-42c7-4954-e95b-c99a599d196d",
        "colab": {
          "base_uri": "https://localhost:8080/",
          "height": 119
        }
      },
      "source": [
        "# check to see if there are any null or 0.0 values left\n",
        "print(dfcopy[dfcopy['epsilon'].isnull() == True])\n",
        "print(dfcopy[dfcopy['epsilon'] == 0.0])\n",
        "# so far so good"
      ],
      "execution_count": 0,
      "outputs": [
        {
          "output_type": "stream",
          "text": [
            "Empty DataFrame\n",
            "Columns: [alpha, beta, gamma, delta, epsilon, zeta, eta]\n",
            "Index: []\n",
            "Empty DataFrame\n",
            "Columns: [alpha, beta, gamma, delta, epsilon, zeta, eta]\n",
            "Index: []\n"
          ],
          "name": "stdout"
        }
      ]
    },
    {
      "cell_type": "code",
      "metadata": {
        "id": "rjKMOYzDSntY",
        "colab_type": "code",
        "outputId": "96bf8ae0-3e4f-4240-c8a2-2b9009004e9b",
        "colab": {
          "base_uri": "https://localhost:8080/",
          "height": 357
        }
      },
      "source": [
        "# printing indexes of null values for zeta\n",
        "print(dfcopy[dfcopy['zeta'].isnull() == True])"
      ],
      "execution_count": 0,
      "outputs": [
        {
          "output_type": "stream",
          "text": [
            "     alpha  beta  gamma  delta  epsilon zeta eta\n",
            "1        3    46     18    230      5.0  NaN  VT\n",
            "16      12    43     72    215     35.0  NaN  OH\n",
            "29      18    47    108    235     62.0  NaN  SD\n",
            "40      27    33    162    165     83.0  NaN  MD\n",
            "52      30    12    180     60    107.0  NaN  MT\n",
            "62      36    24    216    120    127.0  NaN  OR\n",
            "71      46    27    276    135    145.0  NaN  TN\n",
            "79      43    11    258     55    161.0  NaN  WY\n",
            "89      50    21    300    105    181.0  NaN  MI\n",
            "98      56    16    336     80    199.0  NaN  NY\n",
            "115     63    -1    378     -5    233.0  NaN  PA\n",
            "122     61   -11    366    -55    247.0  NaN  WI\n",
            "126     66   -11    396    -55    255.0  NaN  FL\n",
            "133     75     7    450     35    269.0  NaN  CT\n",
            "135     77     7    462     35    273.0  NaN  CT\n",
            "141     74    -1    444     -5    285.0  NaN  AK\n",
            "144     74    -7    444    -35    291.0  NaN  DE\n",
            "147     83     7    498     35    297.0  NaN  KY\n",
            "159     84     2    504     10    321.0  NaN  MI\n"
          ],
          "name": "stdout"
        }
      ]
    },
    {
      "cell_type": "code",
      "metadata": {
        "id": "KdwBcGpWoFvh",
        "colab_type": "code",
        "outputId": "ee389184-c21c-4aea-ff08-9160fd644b00",
        "colab": {
          "base_uri": "https://localhost:8080/",
          "height": 204
        }
      },
      "source": [
        "# null value found on index 1\n",
        "print(dfcopy['zeta'].head(10))"
      ],
      "execution_count": 0,
      "outputs": [
        {
          "output_type": "stream",
          "text": [
            "0    Yes\n",
            "1    NaN\n",
            "2     No\n",
            "3    Yes\n",
            "4    Yes\n",
            "5     No\n",
            "6    Yes\n",
            "7     No\n",
            "8    Yes\n",
            "9     No\n",
            "Name: zeta, dtype: object\n"
          ],
          "name": "stdout"
        }
      ]
    },
    {
      "cell_type": "code",
      "metadata": {
        "id": "tp_w7pG1oMRW",
        "colab_type": "code",
        "outputId": "6be008f2-284f-4452-9387-7ebd33fd3234",
        "colab": {
          "base_uri": "https://localhost:8080/",
          "height": 204
        }
      },
      "source": [
        "# index 159\n",
        "print(dfcopy['zeta'].tail(10))"
      ],
      "execution_count": 0,
      "outputs": [
        {
          "output_type": "stream",
          "text": [
            "155    Yes\n",
            "156    Yes\n",
            "157    Yes\n",
            "158     No\n",
            "159    NaN\n",
            "160    Yes\n",
            "161    Yes\n",
            "162     No\n",
            "163    Yes\n",
            "164    Yes\n",
            "Name: zeta, dtype: object\n"
          ],
          "name": "stdout"
        }
      ]
    },
    {
      "cell_type": "code",
      "metadata": {
        "id": "PPFSBSvWoQ5S",
        "colab_type": "code",
        "colab": {}
      },
      "source": [
        "# now we will replace null values with zeroes\n",
        "# then replace them again with 'No' values\n",
        "dfcopy['zeta'] = dfcopy['zeta'].fillna(0)"
      ],
      "execution_count": 0,
      "outputs": []
    },
    {
      "cell_type": "code",
      "metadata": {
        "id": "EYiMvOO5ojvh",
        "colab_type": "code",
        "outputId": "f5fed9d3-0666-4eea-ada8-2f26d38bf63e",
        "colab": {
          "base_uri": "https://localhost:8080/",
          "height": 102
        }
      },
      "source": [
        "for i in range(dfcopy['zeta'].shape[0]):\n",
        "  if dfcopy['zeta'].iloc[i] == 0:\n",
        "    # replace by taking average of value before and after 0.0's\n",
        "    dfcopy['zeta'].iloc[i] = 'No'"
      ],
      "execution_count": 0,
      "outputs": [
        {
          "output_type": "stream",
          "text": [
            "/usr/local/lib/python3.6/dist-packages/pandas/core/indexing.py:190: SettingWithCopyWarning: \n",
            "A value is trying to be set on a copy of a slice from a DataFrame\n",
            "\n",
            "See the caveats in the documentation: http://pandas.pydata.org/pandas-docs/stable/indexing.html#indexing-view-versus-copy\n",
            "  self._setitem_with_indexer(indexer, value)\n"
          ],
          "name": "stderr"
        }
      ]
    },
    {
      "cell_type": "code",
      "metadata": {
        "id": "sW0BJAmIou3h",
        "colab_type": "code",
        "outputId": "0dd2baf6-da6a-461b-e891-2f25da2cb342",
        "colab": {
          "base_uri": "https://localhost:8080/",
          "height": 119
        }
      },
      "source": [
        "# checking to see if there are any nulls or 0\n",
        "print(dfcopy[dfcopy['zeta'].isnull() == True])\n",
        "print(dfcopy[dfcopy['zeta'] == 0])"
      ],
      "execution_count": 0,
      "outputs": [
        {
          "output_type": "stream",
          "text": [
            "Empty DataFrame\n",
            "Columns: [alpha, beta, gamma, delta, epsilon, zeta, eta]\n",
            "Index: []\n",
            "Empty DataFrame\n",
            "Columns: [alpha, beta, gamma, delta, epsilon, zeta, eta]\n",
            "Index: []\n"
          ],
          "name": "stdout"
        }
      ]
    },
    {
      "cell_type": "code",
      "metadata": {
        "id": "ieb5zSvUpZxk",
        "colab_type": "code",
        "outputId": "82f794c9-5223-4764-db1a-e25eac48ac00",
        "colab": {
          "base_uri": "https://localhost:8080/",
          "height": 204
        }
      },
      "source": [
        "print(dfcopy['zeta'].head(10))"
      ],
      "execution_count": 0,
      "outputs": [
        {
          "output_type": "stream",
          "text": [
            "0    Yes\n",
            "1     No\n",
            "2     No\n",
            "3    Yes\n",
            "4    Yes\n",
            "5     No\n",
            "6    Yes\n",
            "7     No\n",
            "8    Yes\n",
            "9     No\n",
            "Name: zeta, dtype: object\n"
          ],
          "name": "stdout"
        }
      ]
    },
    {
      "cell_type": "code",
      "metadata": {
        "id": "Y5Lxlsg_pdKt",
        "colab_type": "code",
        "outputId": "9dc0f526-5fde-41ba-d0bc-97ae46dc1000",
        "colab": {
          "base_uri": "https://localhost:8080/",
          "height": 204
        }
      },
      "source": [
        "print(dfcopy['zeta'].tail(10))"
      ],
      "execution_count": 0,
      "outputs": [
        {
          "output_type": "stream",
          "text": [
            "155    Yes\n",
            "156    Yes\n",
            "157    Yes\n",
            "158     No\n",
            "159     No\n",
            "160    Yes\n",
            "161    Yes\n",
            "162     No\n",
            "163    Yes\n",
            "164    Yes\n",
            "Name: zeta, dtype: object\n"
          ],
          "name": "stdout"
        }
      ]
    },
    {
      "cell_type": "code",
      "metadata": {
        "id": "AxOBk_Vbp-21",
        "colab_type": "code",
        "outputId": "dd903cb5-f413-4f18-d62f-c0177d5950c2",
        "colab": {
          "base_uri": "https://localhost:8080/",
          "height": 34
        }
      },
      "source": [
        "# final check\n",
        "null_counts_copy = dfcopy.isnull().sum()\n",
        "print(null_counts_copy[null_counts_copy > 0].sort_values(ascending=False))"
      ],
      "execution_count": 0,
      "outputs": [
        {
          "output_type": "stream",
          "text": [
            "Series([], dtype: int64)\n"
          ],
          "name": "stdout"
        }
      ]
    },
    {
      "cell_type": "markdown",
      "metadata": {
        "id": "wP7BDqcwLauI",
        "colab_type": "text"
      },
      "source": [
        "## 6.1) Describe how you addressed the NaN values and give an explanation justifying your decision."
      ]
    },
    {
      "cell_type": "code",
      "metadata": {
        "id": "WMyNKMBa-Vsb",
        "colab_type": "code",
        "colab": {}
      },
      "source": [
        "# For the NaN values in epsilon, there seems to be a trend of incrementing each value by 2.0.\n",
        "# To fill the columns with their respective value, I replaced all NaN's with 0's and then replaced those by finding the average of the previous and after values.\n",
        "# As for the values in zeta, they only consisted of Yes or No.\n",
        "# Assuming the dataset would be some sort of questionnaire, if the respondent did not leave a reply of Yes or No, I assumed to replace them with No.\n",
        "# It is better to have a working dataset rather than one with a few missing rows since there doesn't seem to be that many important missing values to begin with."
      ],
      "execution_count": 0,
      "outputs": []
    },
    {
      "cell_type": "markdown",
      "metadata": {
        "id": "ln9-44Jg-V6d",
        "colab_type": "text"
      },
      "source": [
        "## 7) Create scatter plots using Matplotlib. Can you find any interesting relationships in the data? Be sure to label your axis and to give your graphs a title.\n",
        "\n",
        "Screenshot cool graphs that you create and share them with the slack channel. \n",
        "\n",
        "Don't forget to import matplotlib before trying to use it."
      ]
    },
    {
      "cell_type": "code",
      "metadata": {
        "id": "eeJwN6OBLUyv",
        "colab_type": "code",
        "outputId": "0d5eefa7-e486-4e38-be6a-e698c0586cb3",
        "colab": {
          "base_uri": "https://localhost:8080/",
          "height": 312
        }
      },
      "source": [
        "print(dfcopy.columns)\n",
        "import matplotlib.pyplot as plt\n",
        "\n",
        "plt.scatter(dfcopy['alpha'], dfcopy['beta'])\n",
        "plt.xlabel('Alpha')\n",
        "plt.ylabel('Beta')\n",
        "plt.title('Alpha vs. Beta')\n",
        "plt.show()"
      ],
      "execution_count": 0,
      "outputs": [
        {
          "output_type": "stream",
          "text": [
            "Index(['alpha', 'beta', 'gamma', 'delta', 'epsilon', 'zeta', 'eta'], dtype='object')\n"
          ],
          "name": "stdout"
        },
        {
          "output_type": "display_data",
          "data": {
            "image/png": "[encoded data removed]",
            "text/plain": [
              "<Figure size 432x288 with 1 Axes>"
            ]
          },
          "metadata": {
            "tags": []
          }
        }
      ]
    },
    {
      "cell_type": "code",
      "metadata": {
        "id": "Nd9zqOzsv18v",
        "colab_type": "code",
        "outputId": "01a5c969-246e-43a9-a30e-cadbf5375158",
        "colab": {
          "base_uri": "https://localhost:8080/",
          "height": 295
        }
      },
      "source": [
        "plt.scatter(dfcopy['alpha'], dfcopy['gamma'])\n",
        "plt.xlabel('Alpha')\n",
        "plt.ylabel('Gamma')\n",
        "plt.title('Alpha vs. Gamma')\n",
        "plt.show()"
      ],
      "execution_count": 0,
      "outputs": [
        {
          "output_type": "display_data",
          "data": {
            "image/png": "[encoded data removed]",
            "text/plain": [
              "<Figure size 432x288 with 1 Axes>"
            ]
          },
          "metadata": {
            "tags": []
          }
        }
      ]
    },
    {
      "cell_type": "code",
      "metadata": {
        "id": "Bo-d2PUBv5Y0",
        "colab_type": "code",
        "outputId": "1349dfa8-fdce-4da1-8cd3-6158d3e55c87",
        "colab": {
          "base_uri": "https://localhost:8080/",
          "height": 295
        }
      },
      "source": [
        "plt.scatter(dfcopy['alpha'], dfcopy['delta'])\n",
        "plt.xlabel('Alpha')\n",
        "plt.ylabel('Delta')\n",
        "plt.title('Alpha vs. Delta')\n",
        "plt.show()"
      ],
      "execution_count": 0,
      "outputs": [
        {
          "output_type": "display_data",
          "data": {
            "image/png": "[encoded data removed]",
            "text/plain": [
              "<Figure size 432x288 with 1 Axes>"
            ]
          },
          "metadata": {
            "tags": []
          }
        }
      ]
    },
    {
      "cell_type": "code",
      "metadata": {
        "id": "SzZwpPeav8_Q",
        "colab_type": "code",
        "outputId": "efb703a8-24f5-45f0-e5eb-e3ec03bd77ac",
        "colab": {
          "base_uri": "https://localhost:8080/",
          "height": 295
        }
      },
      "source": [
        "plt.scatter(dfcopy['alpha'], dfcopy['epsilon'])\n",
        "plt.xlabel('Alpha')\n",
        "plt.ylabel('Epsilon')\n",
        "plt.title('Alpha vs. Epsilon')\n",
        "plt.show()"
      ],
      "execution_count": 0,
      "outputs": [
        {
          "output_type": "display_data",
          "data": {
            "image/png": "[encoded data removed]",
            "text/plain": [
              "<Figure size 432x288 with 1 Axes>"
            ]
          },
          "metadata": {
            "tags": []
          }
        }
      ]
    },
    {
      "cell_type": "code",
      "metadata": {
        "id": "UE6oEYUgwDFG",
        "colab_type": "code",
        "outputId": "3c62e11e-9d4c-49d4-8c4a-8d6bbb67fc14",
        "colab": {
          "base_uri": "https://localhost:8080/",
          "height": 295
        }
      },
      "source": [
        "plt.scatter(dfcopy['alpha'], dfcopy['zeta'])\n",
        "plt.xlabel('Alpha')\n",
        "plt.ylabel('Zeta')\n",
        "plt.title('Alpha vs. Zeta')\n",
        "plt.show()"
      ],
      "execution_count": 0,
      "outputs": [
        {
          "output_type": "display_data",
          "data": {
            "image/png": "[encoded data removed]",
            "text/plain": [
              "<Figure size 432x288 with 1 Axes>"
            ]
          },
          "metadata": {
            "tags": []
          }
        }
      ]
    },
    {
      "cell_type": "markdown",
      "metadata": {
        "id": "yo4YDnjpmdAj",
        "colab_type": "text"
      },
      "source": [
        "## 8) STRETCH GOAL (Extra Credit)\n",
        "\n",
        "Machine Learning algorithms don't do well with categorical values that are represented by strings. In order to have this dataset completely cleaned we need to transform the categorical variables that are represented as strings into numeric categorical variables\n",
        "\n",
        "- **Turn all categorical features (columns) into numeric features**\n",
        "\n",
        "Hints:\n",
        "\n",
        "[Scikit-Learn One-Hot-Encoder](http://scikit-learn.org/stable/modules/generated/sklearn.preprocessing.OneHotEncoder.html)\n",
        "\n",
        "[Pandas Docs - Working with Categorical Data](https://pandas.pydata.org/pandas-docs/stable/categorical.html)\n",
        "\n",
        "[Guide to Encoding Categorical Variables in Python](http://pbpython.com/categorical-encoding.html)"
      ]
    },
    {
      "cell_type": "code",
      "metadata": {
        "id": "-Y-mc6okwvJR",
        "colab_type": "code",
        "outputId": "8bb3cf66-d190-47d5-d9e6-5544669c4074",
        "colab": {
          "base_uri": "https://localhost:8080/",
          "height": 153
        }
      },
      "source": [
        "print(dfcopy.dtypes)"
      ],
      "execution_count": 0,
      "outputs": [
        {
          "output_type": "stream",
          "text": [
            "alpha        int64\n",
            "beta         int64\n",
            "gamma        int64\n",
            "delta        int64\n",
            "epsilon    float64\n",
            "zeta        object\n",
            "eta         object\n",
            "dtype: object\n"
          ],
          "name": "stdout"
        }
      ]
    },
    {
      "cell_type": "code",
      "metadata": {
        "id": "SEcwVvidzmX1",
        "colab_type": "code",
        "outputId": "6b306c99-1d04-4ffd-b824-ec1190f6a902",
        "colab": {
          "base_uri": "https://localhost:8080/",
          "height": 68
        }
      },
      "source": [
        "print(dfcopy['zeta'].value_counts())"
      ],
      "execution_count": 0,
      "outputs": [
        {
          "output_type": "stream",
          "text": [
            "No     93\n",
            "Yes    72\n",
            "Name: zeta, dtype: int64\n"
          ],
          "name": "stdout"
        }
      ]
    },
    {
      "cell_type": "code",
      "metadata": {
        "id": "byX80WUyyqMc",
        "colab_type": "code",
        "outputId": "0b266e93-2674-4ee7-916a-84fa59fe8b3b",
        "colab": {
          "base_uri": "https://localhost:8080/",
          "height": 153
        }
      },
      "source": [
        "# since zeta and eta are both objects, we need to give them numerical values\n",
        "# zeta consists of yes/no values, we will convert yes to 1, no to 0\n",
        "# we can use the ord() function to transform their values to numerical\n",
        "# by adding both ord() letters together\n",
        "for i in range(dfcopy['zeta'].shape[0]):\n",
        "  if dfcopy['zeta'].iloc[i] == 'Yes':\n",
        "    dfcopy['zeta'].iloc[i] = 1\n",
        "  if dfcopy['zeta'].iloc[i] == 'No':\n",
        "    dfcopy['zeta'].iloc[i] = 0\n",
        "\n",
        "print(dfcopy['zeta'].value_counts())"
      ],
      "execution_count": 0,
      "outputs": [
        {
          "output_type": "stream",
          "text": [
            "/usr/local/lib/python3.6/dist-packages/pandas/core/indexing.py:190: SettingWithCopyWarning: \n",
            "A value is trying to be set on a copy of a slice from a DataFrame\n",
            "\n",
            "See the caveats in the documentation: http://pandas.pydata.org/pandas-docs/stable/indexing.html#indexing-view-versus-copy\n",
            "  self._setitem_with_indexer(indexer, value)\n"
          ],
          "name": "stderr"
        },
        {
          "output_type": "stream",
          "text": [
            "0    93\n",
            "1    72\n",
            "Name: zeta, dtype: int64\n"
          ],
          "name": "stdout"
        }
      ]
    },
    {
      "cell_type": "code",
      "metadata": {
        "id": "hb1sNHYe0Yg7",
        "colab_type": "code",
        "outputId": "56117331-3032-43f9-8fe0-690ce93bc592",
        "colab": {
          "base_uri": "https://localhost:8080/",
          "height": 34
        }
      },
      "source": [
        "# converting zeta column to int and checking\n",
        "dfcopy['zeta'] = dfcopy['zeta'].astype(int)\n",
        "print(dfcopy['zeta'].dtypes)"
      ],
      "execution_count": 0,
      "outputs": [
        {
          "output_type": "stream",
          "text": [
            "int64\n"
          ],
          "name": "stdout"
        }
      ]
    },
    {
      "cell_type": "code",
      "metadata": {
        "id": "LvcVnUg00kL-",
        "colab_type": "code",
        "colab": {}
      },
      "source": [
        "# create two lists to hold first and second ord(letter)\n",
        "# sum up lists and replace values\n",
        "lst1 = []\n",
        "lst2 = []\n",
        "for i in range(dfcopy['eta'].shape[0]):\n",
        "  lst1.append(ord(dfcopy['eta'].iloc[i][0]))\n",
        "  lst2.append(ord(dfcopy['eta'].iloc[i][1]))\n",
        "  \n",
        "dfcopy['eta'] = np.add(lst1, lst2)"
      ],
      "execution_count": 0,
      "outputs": []
    },
    {
      "cell_type": "code",
      "metadata": {
        "id": "N2dcrntc6mUu",
        "colab_type": "code",
        "outputId": "31986769-042b-49ee-97ad-ec760d984e2d",
        "colab": {
          "base_uri": "https://localhost:8080/",
          "height": 204
        }
      },
      "source": [
        "# checking first 10 values\n",
        "print(dfcopy['eta'].head(10))"
      ],
      "execution_count": 0,
      "outputs": [
        {
          "output_type": "stream",
          "text": [
            "0    155\n",
            "1    170\n",
            "2    145\n",
            "3    154\n",
            "4    145\n",
            "5    151\n",
            "6    141\n",
            "7    147\n",
            "8    136\n",
            "9    137\n",
            "Name: eta, dtype: int64\n"
          ],
          "name": "stdout"
        }
      ]
    },
    {
      "cell_type": "code",
      "metadata": {
        "id": "9_mcBDaU7B1J",
        "colab_type": "code",
        "outputId": "3eb94569-f872-4f6b-b241-9b9cfded3188",
        "colab": {
          "base_uri": "https://localhost:8080/",
          "height": 204
        }
      },
      "source": [
        "# checking last 10 values\n",
        "print(dfcopy['eta'].tail(10))"
      ],
      "execution_count": 0,
      "outputs": [
        {
          "output_type": "stream",
          "text": [
            "155    156\n",
            "156    141\n",
            "157    140\n",
            "158    155\n",
            "159    150\n",
            "160    141\n",
            "161    150\n",
            "162    152\n",
            "163    141\n",
            "164    152\n",
            "Name: eta, dtype: int64\n"
          ],
          "name": "stdout"
        }
      ]
    },
    {
      "cell_type": "code",
      "metadata": {
        "id": "0rTeBnQb7GVr",
        "colab_type": "code",
        "outputId": "db7c10b4-75e4-4115-dca6-ccd6059bdcd6",
        "colab": {
          "base_uri": "https://localhost:8080/",
          "height": 34
        }
      },
      "source": [
        "# checking column to see if it is still an object\n",
        "print(dfcopy['eta'].dtypes)"
      ],
      "execution_count": 0,
      "outputs": [
        {
          "output_type": "stream",
          "text": [
            "int64\n"
          ],
          "name": "stdout"
        }
      ]
    },
    {
      "cell_type": "code",
      "metadata": {
        "id": "RC25mK6o7Pwy",
        "colab_type": "code",
        "outputId": "58548110-ca71-4247-f17e-af5fb71867d1",
        "colab": {
          "base_uri": "https://localhost:8080/",
          "height": 153
        }
      },
      "source": [
        "# checking all column dtypes\n",
        "print(dfcopy.dtypes)"
      ],
      "execution_count": 0,
      "outputs": [
        {
          "output_type": "stream",
          "text": [
            "alpha        int64\n",
            "beta         int64\n",
            "gamma        int64\n",
            "delta        int64\n",
            "epsilon    float64\n",
            "zeta         int64\n",
            "eta          int64\n",
            "dtype: object\n"
          ],
          "name": "stdout"
        }
      ]
    }
  ]
}
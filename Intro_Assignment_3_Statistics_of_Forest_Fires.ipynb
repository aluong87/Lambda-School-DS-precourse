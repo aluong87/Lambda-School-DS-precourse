{
  "nbformat": 4,
  "nbformat_minor": 0,
  "metadata": {
    "colab": {
      "name": "Intro Assignment 3 - Statistics of Forest Fires.ipynb",
      "version": "0.3.2",
      "provenance": [],
      "collapsed_sections": []
    },
    "kernelspec": {
      "name": "python3",
      "display_name": "Python 3"
    }
  },
  "cells": [
    {
      "cell_type": "markdown",
      "metadata": {
        "id": "uKYVNFs44mfD",
        "colab_type": "text"
      },
      "source": [
        "# Lambda School Data Science - Forest Fire Statistics\n",
        "\n",
        "![Forest fire](https://www.publicdomainpictures.net/pictures/220000/velka/forest-fire.jpg)\n",
        "\n",
        "Forest fires are a sadly timely topic, but data can help us better understand and perhaps manage them in future. In this assignment you'll look at a data set of forest fires in Portugal during 2007 - this is a real research dataset, and you can [read more about it](https://archive.ics.uci.edu/ml/datasets/Forest+Fires) though you do not need to for this assignment.\n",
        "\n",
        "For our purposes, the main thing that you need to understand are the attributes in the data.\n",
        "\n",
        "1. X - x-axis spatial coordinate within the Montesinho park map: 1 to 9\n",
        "2. Y - y-axis spatial coordinate within the Montesinho park map: 2 to 9\n",
        "3. month - month of the year: 'jan' to 'dec'\n",
        "4. day - day of the week: 'mon' to 'sun'\n",
        "5. FFMC - FFMC index from the FWI system: 18.7 to 96.20\n",
        "6. DMC - DMC index from the FWI system: 1.1 to 291.3\n",
        "7. DC - DC index from the FWI system: 7.9 to 860.6\n",
        "8. ISI - ISI index from the FWI system: 0.0 to 56.10\n",
        "9. temp - temperature in Celsius degrees: 2.2 to 33.30\n",
        "10. RH - relative humidity in %: 15.0 to 100\n",
        "11. wind - wind speed in km/h: 0.40 to 9.40\n",
        "12. rain - outside rain in mm/m2 : 0.0 to 6.4\n",
        "13. area - the burned area of the forest (in ha): 0.00 to 1090.84 \n",
        "\n",
        "Most of these features are numeric - this means we can do things like look at their mean, median, mode, and plot histograms. They have technical sounding names, but generally refer to meteorological data (i.e. the weather).\n",
        "\n",
        "For the discrete features we can still draw histograms (as in the lecture notebook). X and Y are already integer values - month and day do have natural order, but if you want to use them you may want to translate them from strings to numbers (hint - you can build a dict that maps them, and loop over to apply it)."
      ]
    },
    {
      "cell_type": "markdown",
      "metadata": {
        "id": "2hdt1i4H6gQ2",
        "colab_type": "text"
      },
      "source": [
        "## Exercise 1 - Load the data and take a peek\n",
        "\n",
        "The data is accessible as a CSV at the URL: https://archive.ics.uci.edu/ml/machine-learning-databases/forest-fires/forestfires.csv\n",
        "\n",
        "You want to load this into a dataframe, so you can then look at the variables and perform descriptive statistics.\n",
        "\n",
        "After you load it, verify that you've got it working by printing the first five rows of data."
      ]
    },
    {
      "cell_type": "code",
      "metadata": {
        "id": "s1ZQrmPs282o",
        "colab_type": "code",
        "outputId": "06bfbeb2-9fdf-414a-9289-180688c4a97e",
        "colab": {
          "base_uri": "https://localhost:8080/",
          "height": 204
        }
      },
      "source": [
        "import pandas as pd\n",
        "\n",
        "df = pd.read_csv(\"https://archive.ics.uci.edu/ml/machine-learning-databases/forest-fires/forestfires.csv\")\n",
        "df.head(5)"
      ],
      "execution_count": 0,
      "outputs": [
        {
          "output_type": "execute_result",
          "data": {
            "text/html": [
              "<div>\n",
              "<style scoped>\n",
              "    .dataframe tbody tr th:only-of-type {\n",
              "        vertical-align: middle;\n",
              "    }\n",
              "\n",
              "    .dataframe tbody tr th {\n",
              "        vertical-align: top;\n",
              "    }\n",
              "\n",
              "    .dataframe thead th {\n",
              "        text-align: right;\n",
              "    }\n",
              "</style>\n",
              "<table border=\"1\" class=\"dataframe\">\n",
              "  <thead>\n",
              "    <tr style=\"text-align: right;\">\n",
              "      <th></th>\n",
              "      <th>X</th>\n",
              "      <th>Y</th>\n",
              "      <th>month</th>\n",
              "      <th>day</th>\n",
              "      <th>FFMC</th>\n",
              "      <th>DMC</th>\n",
              "      <th>DC</th>\n",
              "      <th>ISI</th>\n",
              "      <th>temp</th>\n",
              "      <th>RH</th>\n",
              "      <th>wind</th>\n",
              "      <th>rain</th>\n",
              "      <th>area</th>\n",
              "    </tr>\n",
              "  </thead>\n",
              "  <tbody>\n",
              "    <tr>\n",
              "      <th>0</th>\n",
              "      <td>7</td>\n",
              "      <td>5</td>\n",
              "      <td>mar</td>\n",
              "      <td>fri</td>\n",
              "      <td>86.2</td>\n",
              "      <td>26.2</td>\n",
              "      <td>94.3</td>\n",
              "      <td>5.1</td>\n",
              "      <td>8.2</td>\n",
              "      <td>51</td>\n",
              "      <td>6.7</td>\n",
              "      <td>0.0</td>\n",
              "      <td>0.0</td>\n",
              "    </tr>\n",
              "    <tr>\n",
              "      <th>1</th>\n",
              "      <td>7</td>\n",
              "      <td>4</td>\n",
              "      <td>oct</td>\n",
              "      <td>tue</td>\n",
              "      <td>90.6</td>\n",
              "      <td>35.4</td>\n",
              "      <td>669.1</td>\n",
              "      <td>6.7</td>\n",
              "      <td>18.0</td>\n",
              "      <td>33</td>\n",
              "      <td>0.9</td>\n",
              "      <td>0.0</td>\n",
              "      <td>0.0</td>\n",
              "    </tr>\n",
              "    <tr>\n",
              "      <th>2</th>\n",
              "      <td>7</td>\n",
              "      <td>4</td>\n",
              "      <td>oct</td>\n",
              "      <td>sat</td>\n",
              "      <td>90.6</td>\n",
              "      <td>43.7</td>\n",
              "      <td>686.9</td>\n",
              "      <td>6.7</td>\n",
              "      <td>14.6</td>\n",
              "      <td>33</td>\n",
              "      <td>1.3</td>\n",
              "      <td>0.0</td>\n",
              "      <td>0.0</td>\n",
              "    </tr>\n",
              "    <tr>\n",
              "      <th>3</th>\n",
              "      <td>8</td>\n",
              "      <td>6</td>\n",
              "      <td>mar</td>\n",
              "      <td>fri</td>\n",
              "      <td>91.7</td>\n",
              "      <td>33.3</td>\n",
              "      <td>77.5</td>\n",
              "      <td>9.0</td>\n",
              "      <td>8.3</td>\n",
              "      <td>97</td>\n",
              "      <td>4.0</td>\n",
              "      <td>0.2</td>\n",
              "      <td>0.0</td>\n",
              "    </tr>\n",
              "    <tr>\n",
              "      <th>4</th>\n",
              "      <td>8</td>\n",
              "      <td>6</td>\n",
              "      <td>mar</td>\n",
              "      <td>sun</td>\n",
              "      <td>89.3</td>\n",
              "      <td>51.3</td>\n",
              "      <td>102.2</td>\n",
              "      <td>9.6</td>\n",
              "      <td>11.4</td>\n",
              "      <td>99</td>\n",
              "      <td>1.8</td>\n",
              "      <td>0.0</td>\n",
              "      <td>0.0</td>\n",
              "    </tr>\n",
              "  </tbody>\n",
              "</table>\n",
              "</div>"
            ],
            "text/plain": [
              "   X  Y month  day  FFMC   DMC     DC  ISI  temp  RH  wind  rain  area\n",
              "0  7  5   mar  fri  86.2  26.2   94.3  5.1   8.2  51   6.7   0.0   0.0\n",
              "1  7  4   oct  tue  90.6  35.4  669.1  6.7  18.0  33   0.9   0.0   0.0\n",
              "2  7  4   oct  sat  90.6  43.7  686.9  6.7  14.6  33   1.3   0.0   0.0\n",
              "3  8  6   mar  fri  91.7  33.3   77.5  9.0   8.3  97   4.0   0.2   0.0\n",
              "4  8  6   mar  sun  89.3  51.3  102.2  9.6  11.4  99   1.8   0.0   0.0"
            ]
          },
          "metadata": {
            "tags": []
          },
          "execution_count": 1
        }
      ]
    },
    {
      "cell_type": "code",
      "metadata": {
        "id": "__AyHjymiAO7",
        "colab_type": "code",
        "outputId": "51255cfa-f027-4f03-d848-cdc1e764987c",
        "colab": {
          "base_uri": "https://localhost:8080/",
          "height": 297
        }
      },
      "source": [
        "df.describe()"
      ],
      "execution_count": 0,
      "outputs": [
        {
          "output_type": "execute_result",
          "data": {
            "text/html": [
              "<div>\n",
              "<style scoped>\n",
              "    .dataframe tbody tr th:only-of-type {\n",
              "        vertical-align: middle;\n",
              "    }\n",
              "\n",
              "    .dataframe tbody tr th {\n",
              "        vertical-align: top;\n",
              "    }\n",
              "\n",
              "    .dataframe thead th {\n",
              "        text-align: right;\n",
              "    }\n",
              "</style>\n",
              "<table border=\"1\" class=\"dataframe\">\n",
              "  <thead>\n",
              "    <tr style=\"text-align: right;\">\n",
              "      <th></th>\n",
              "      <th>X</th>\n",
              "      <th>Y</th>\n",
              "      <th>FFMC</th>\n",
              "      <th>DMC</th>\n",
              "      <th>DC</th>\n",
              "      <th>ISI</th>\n",
              "      <th>temp</th>\n",
              "      <th>RH</th>\n",
              "      <th>wind</th>\n",
              "      <th>rain</th>\n",
              "      <th>area</th>\n",
              "    </tr>\n",
              "  </thead>\n",
              "  <tbody>\n",
              "    <tr>\n",
              "      <th>count</th>\n",
              "      <td>517.000000</td>\n",
              "      <td>517.000000</td>\n",
              "      <td>517.000000</td>\n",
              "      <td>517.000000</td>\n",
              "      <td>517.000000</td>\n",
              "      <td>517.000000</td>\n",
              "      <td>517.000000</td>\n",
              "      <td>517.000000</td>\n",
              "      <td>517.000000</td>\n",
              "      <td>517.000000</td>\n",
              "      <td>517.000000</td>\n",
              "    </tr>\n",
              "    <tr>\n",
              "      <th>mean</th>\n",
              "      <td>4.669246</td>\n",
              "      <td>4.299807</td>\n",
              "      <td>90.644681</td>\n",
              "      <td>110.872340</td>\n",
              "      <td>547.940039</td>\n",
              "      <td>9.021663</td>\n",
              "      <td>18.889168</td>\n",
              "      <td>44.288201</td>\n",
              "      <td>4.017602</td>\n",
              "      <td>0.021663</td>\n",
              "      <td>12.847292</td>\n",
              "    </tr>\n",
              "    <tr>\n",
              "      <th>std</th>\n",
              "      <td>2.313778</td>\n",
              "      <td>1.229900</td>\n",
              "      <td>5.520111</td>\n",
              "      <td>64.046482</td>\n",
              "      <td>248.066192</td>\n",
              "      <td>4.559477</td>\n",
              "      <td>5.806625</td>\n",
              "      <td>16.317469</td>\n",
              "      <td>1.791653</td>\n",
              "      <td>0.295959</td>\n",
              "      <td>63.655818</td>\n",
              "    </tr>\n",
              "    <tr>\n",
              "      <th>min</th>\n",
              "      <td>1.000000</td>\n",
              "      <td>2.000000</td>\n",
              "      <td>18.700000</td>\n",
              "      <td>1.100000</td>\n",
              "      <td>7.900000</td>\n",
              "      <td>0.000000</td>\n",
              "      <td>2.200000</td>\n",
              "      <td>15.000000</td>\n",
              "      <td>0.400000</td>\n",
              "      <td>0.000000</td>\n",
              "      <td>0.000000</td>\n",
              "    </tr>\n",
              "    <tr>\n",
              "      <th>25%</th>\n",
              "      <td>3.000000</td>\n",
              "      <td>4.000000</td>\n",
              "      <td>90.200000</td>\n",
              "      <td>68.600000</td>\n",
              "      <td>437.700000</td>\n",
              "      <td>6.500000</td>\n",
              "      <td>15.500000</td>\n",
              "      <td>33.000000</td>\n",
              "      <td>2.700000</td>\n",
              "      <td>0.000000</td>\n",
              "      <td>0.000000</td>\n",
              "    </tr>\n",
              "    <tr>\n",
              "      <th>50%</th>\n",
              "      <td>4.000000</td>\n",
              "      <td>4.000000</td>\n",
              "      <td>91.600000</td>\n",
              "      <td>108.300000</td>\n",
              "      <td>664.200000</td>\n",
              "      <td>8.400000</td>\n",
              "      <td>19.300000</td>\n",
              "      <td>42.000000</td>\n",
              "      <td>4.000000</td>\n",
              "      <td>0.000000</td>\n",
              "      <td>0.520000</td>\n",
              "    </tr>\n",
              "    <tr>\n",
              "      <th>75%</th>\n",
              "      <td>7.000000</td>\n",
              "      <td>5.000000</td>\n",
              "      <td>92.900000</td>\n",
              "      <td>142.400000</td>\n",
              "      <td>713.900000</td>\n",
              "      <td>10.800000</td>\n",
              "      <td>22.800000</td>\n",
              "      <td>53.000000</td>\n",
              "      <td>4.900000</td>\n",
              "      <td>0.000000</td>\n",
              "      <td>6.570000</td>\n",
              "    </tr>\n",
              "    <tr>\n",
              "      <th>max</th>\n",
              "      <td>9.000000</td>\n",
              "      <td>9.000000</td>\n",
              "      <td>96.200000</td>\n",
              "      <td>291.300000</td>\n",
              "      <td>860.600000</td>\n",
              "      <td>56.100000</td>\n",
              "      <td>33.300000</td>\n",
              "      <td>100.000000</td>\n",
              "      <td>9.400000</td>\n",
              "      <td>6.400000</td>\n",
              "      <td>1090.840000</td>\n",
              "    </tr>\n",
              "  </tbody>\n",
              "</table>\n",
              "</div>"
            ],
            "text/plain": [
              "                X           Y        FFMC  ...        wind        rain         area\n",
              "count  517.000000  517.000000  517.000000  ...  517.000000  517.000000   517.000000\n",
              "mean     4.669246    4.299807   90.644681  ...    4.017602    0.021663    12.847292\n",
              "std      2.313778    1.229900    5.520111  ...    1.791653    0.295959    63.655818\n",
              "min      1.000000    2.000000   18.700000  ...    0.400000    0.000000     0.000000\n",
              "25%      3.000000    4.000000   90.200000  ...    2.700000    0.000000     0.000000\n",
              "50%      4.000000    4.000000   91.600000  ...    4.000000    0.000000     0.520000\n",
              "75%      7.000000    5.000000   92.900000  ...    4.900000    0.000000     6.570000\n",
              "max      9.000000    9.000000   96.200000  ...    9.400000    6.400000  1090.840000\n",
              "\n",
              "[8 rows x 11 columns]"
            ]
          },
          "metadata": {
            "tags": []
          },
          "execution_count": 2
        }
      ]
    },
    {
      "cell_type": "code",
      "metadata": {
        "id": "cBcTZew_iDHD",
        "colab_type": "code",
        "outputId": "d0a1af02-6fc9-4b80-ccf3-fcf8be20d280",
        "colab": {
          "base_uri": "https://localhost:8080/",
          "height": 34
        }
      },
      "source": [
        "df.shape"
      ],
      "execution_count": 0,
      "outputs": [
        {
          "output_type": "execute_result",
          "data": {
            "text/plain": [
              "(517, 13)"
            ]
          },
          "metadata": {
            "tags": []
          },
          "execution_count": 3
        }
      ]
    },
    {
      "cell_type": "code",
      "metadata": {
        "id": "VBi7miio1BD_",
        "colab_type": "code",
        "outputId": "844c3bb2-04ff-4cff-d7ed-c1dfabdc1f41",
        "colab": {
          "base_uri": "https://localhost:8080/",
          "height": 255
        }
      },
      "source": [
        "df.dtypes"
      ],
      "execution_count": 0,
      "outputs": [
        {
          "output_type": "execute_result",
          "data": {
            "text/plain": [
              "X          int64\n",
              "Y          int64\n",
              "month     object\n",
              "day       object\n",
              "FFMC     float64\n",
              "DMC      float64\n",
              "DC       float64\n",
              "ISI      float64\n",
              "temp     float64\n",
              "RH         int64\n",
              "wind     float64\n",
              "rain     float64\n",
              "area     float64\n",
              "dtype: object"
            ]
          },
          "metadata": {
            "tags": []
          },
          "execution_count": 4
        }
      ]
    },
    {
      "cell_type": "markdown",
      "metadata": {
        "id": "H82vSWGC6-Ui",
        "colab_type": "text"
      },
      "source": [
        "## Exercise 2 - Explore and summarize the data\n",
        "\n",
        "Now that you've got the data, take a deeper look at it - the description above gives the overall range (from minimum to maximum), but look at the other core statistics. You should pick three variables you want to look at - two continuous, and one discrete, and for each you should calculate the mean and median.\n",
        "\n",
        "Don't use the magic built-in functions of pandas or other libraries - write your own functions to calculate mean and median (you can of course refer to the lecture notebooks for help). This is a good exercise both to practice coding and reinforce the statistical concepts.\n",
        "\n",
        "For each of the three variables you look at, answer the following questions (as comments in your code):\n",
        "\n",
        "- Is the median larger or smaller than the mean?\n",
        "- What does that tell you about how the variable is distributed?\n",
        "- (For the discrete variable only) What is the mode?\n",
        "\n",
        "Hint - it may help to draw a histogram to look at the variable and really get a feel for it.\n",
        "\n",
        "Another hint - part of this exercise is making sure you can distinguish between continuous and discrete variables, so take some time to think through your choice of variables."
      ]
    },
    {
      "cell_type": "code",
      "metadata": {
        "id": "Jdsvuj8n8Kic",
        "colab_type": "code",
        "colab": {}
      },
      "source": [
        "# Your code here!\n",
        "# Remember, you should write your own code to calculate mean, median, and mode\n",
        "# If you want, you can doublecheck your answer with pandas methods afterwards\n",
        "# And if you want to draw a histogram, you should use:\n",
        "# from matplotlib.pyplot import hist\n",
        "def mean(x):\n",
        "  return sum(x)/len(x)\n",
        "\n",
        "def median(x):\n",
        "  med = sorted(x) [len(x)//2]\n",
        "  return med\n",
        "\n",
        "def mode(x):\n",
        "  lst = []\n",
        "  for i in x:\n",
        "    lst.append(i)\n",
        "  mode = max(set(lst), key = lst.count)\n",
        "  return mode"
      ],
      "execution_count": 0,
      "outputs": []
    },
    {
      "cell_type": "code",
      "metadata": {
        "id": "jFmWAtqlkPGp",
        "colab_type": "code",
        "outputId": "6ee7a8b4-88f5-4abe-9854-fbed687e8cc7",
        "colab": {
          "base_uri": "https://localhost:8080/",
          "height": 221
        }
      },
      "source": [
        "# choosing month as discrete\n",
        "# wind and temp for continuous\n",
        "\n",
        "# calculating mean:\n",
        "wind_mean = mean(df['wind'])\n",
        "temp_mean = mean(df['area'])\n",
        "print(\"Wind mean: {}\\n\".format(wind_mean),\n",
        "      \"Temperature mean: {}\".format(temp_mean)\n",
        "     )\n",
        "# unable to get mean of months since they are strings\n",
        "\n",
        "# calculating median:\n",
        "print(\"\\n\")\n",
        "wind_median = median(df['wind'])\n",
        "temp_median = median(df['temp'])\n",
        "month_median = median(df['month'])\n",
        "print(\n",
        "    \"Wind median: {}\\n\".format(wind_median),\n",
        "    \"Temperature median: {}\\n\".format(temp_median),\n",
        "    \"Month median: {}\".format(month_median)\n",
        ")\n",
        "\n",
        "\n",
        "\n",
        "# calculating mode:\n",
        "print(\"\\n\")\n",
        "wind_mode = mode(df['wind'])\n",
        "temp_mode = mode(df['temp'])\n",
        "month_mode = mode(df['month'])\n",
        "print(\n",
        "    \"Wind mode: {}\\n\".format(wind_mode),\n",
        "    \"Month mode: {}\\n\".format(month_mode),\n",
        "    \"Temperature mode: {}\".format(temp_mode)\n",
        ")\n",
        "# most occurring value in month is august (discrete)"
      ],
      "execution_count": 0,
      "outputs": [
        {
          "output_type": "stream",
          "text": [
            "Wind mean: 4.017601547388782\n",
            " Temperature mean: 12.847292069632491\n",
            "\n",
            "\n",
            "Wind median: 4.0\n",
            " Temperature median: 19.3\n",
            " Month median: jun\n",
            "\n",
            "\n",
            "Wind mode: 3.1\n",
            " Month mode: aug\n",
            " Temperature mode: 17.4\n"
          ],
          "name": "stdout"
        }
      ]
    },
    {
      "cell_type": "code",
      "metadata": {
        "id": "VMiUOUJL5HSk",
        "colab_type": "code",
        "outputId": "8bb47808-b35c-4651-ab13-946385d163b3",
        "colab": {
          "base_uri": "https://localhost:8080/",
          "height": 312
        }
      },
      "source": [
        "# plotting some histograms\n",
        "import matplotlib.pyplot as plt\n",
        "plt.hist(df['wind'])\n",
        "plt.title('Wind')\n",
        "plt.xlabel('km/h')\n",
        "plt.ylabel('# of days')"
      ],
      "execution_count": 0,
      "outputs": [
        {
          "output_type": "execute_result",
          "data": {
            "text/plain": [
              "Text(0, 0.5, '# of days')"
            ]
          },
          "metadata": {
            "tags": []
          },
          "execution_count": 7
        },
        {
          "output_type": "display_data",
          "data": {
            "image/png": "[encoded data removed]",
            "text/plain": [
              "<Figure size 432x288 with 1 Axes>"
            ]
          },
          "metadata": {
            "tags": []
          }
        }
      ]
    },
    {
      "cell_type": "code",
      "metadata": {
        "id": "vMNB7BYo7v3i",
        "colab_type": "code",
        "outputId": "c5aa7983-1085-40b5-9c1f-d3b9a370f5f3",
        "colab": {
          "base_uri": "https://localhost:8080/",
          "height": 312
        }
      },
      "source": [
        "plt.hist(df['temp'])\n",
        "plt.title('Temperature')\n",
        "plt.xlabel('Celsius')\n",
        "plt.ylabel('# of days')"
      ],
      "execution_count": 0,
      "outputs": [
        {
          "output_type": "execute_result",
          "data": {
            "text/plain": [
              "Text(0, 0.5, '# of days')"
            ]
          },
          "metadata": {
            "tags": []
          },
          "execution_count": 8
        },
        {
          "output_type": "display_data",
          "data": {
            "image/png": "[encoded data removed]",
            "text/plain": [
              "<Figure size 432x288 with 1 Axes>"
            ]
          },
          "metadata": {
            "tags": []
          }
        }
      ]
    },
    {
      "cell_type": "markdown",
      "metadata": {
        "id": "rMWYZKVX-HGM",
        "colab_type": "text"
      },
      "source": [
        "## Exercise 3 - Simulate more data!\n",
        "\n",
        "There are many more things that could be done with this data, but for now we've not learned about hypothesis testing or inferential statistics. So, one fun thing to do is - make more data!\n",
        "\n",
        "How do we do that? We can use the same `random` module demonstrated in lecture, and repeatedly sample our data. This is related to the Monte Carlo method used to demonstrate the central limit theorem. In this setting, such simulations could then be applied to Bayesian methods - another topic for another time.\n",
        "\n",
        "For the same three variables that you looked at in exercise 2, you should do the following:\n",
        "\n",
        "1. Generate a *new* variable based on taking values at random from the original one - make the new variable have at least 10 times as many observations as the original\n",
        "2. Calculate the mean, median, and mode of the new variable (it's okay to use prewritten functions for this)\n",
        "3. Compare your results to what you saw in exercise 2 - it should be very similar\n",
        "\n",
        "Once you're done, look back at your code. Chances are you learned things as you wrote it, and you can revisit it to clean it up a bit. Maybe put pieces of code you use multiple times in a function, or add some explanatory comments so anyone reading (including \"future you\") has a clearer understanding of what you did."
      ]
    },
    {
      "cell_type": "code",
      "metadata": {
        "id": "yExZ2S4W-xDG",
        "colab_type": "code",
        "colab": {}
      },
      "source": [
        "import random\n",
        "import numpy as np\n",
        "\n",
        "new_wind = []\n",
        "new_temp = []\n",
        "\n",
        "for _ in range(5000):\n",
        "  var1 = random.choice(df['wind'])\n",
        "  var2 = random.choice(df['temp'])\n",
        "  new_wind.append(var1*10)\n",
        "  new_temp.append(var2*10)"
      ],
      "execution_count": 0,
      "outputs": []
    },
    {
      "cell_type": "code",
      "metadata": {
        "id": "EJthZDF9eJr1",
        "colab_type": "code",
        "outputId": "ef438858-0cbc-4540-da60-09ccc6063446",
        "colab": {
          "base_uri": "https://localhost:8080/",
          "height": 122
        }
      },
      "source": [
        "print(\"Random wind samples x10:\")\n",
        "print(new_wind)\n",
        "print(\"\\nRandom temp samples x10:\")\n",
        "print(new_temp)"
      ],
      "execution_count": 0,
      "outputs": [
        {
          "output_type": "stream",
          "text": [
            "Random wind samples x10:\n",
            "[22.0, 31.0, 63.0, 9.0, 49.0, 22.0, 36.0, 40.0, 13.0, 22.0, 40.0, 40.0, 40.0, 89.0, 40.0, 40.0, 40.0, 22.0, 22.0, 45.0, 54.0, 31.0, 22.0, 36.0, 63.0, 40.0, 45.0, 36.0, 22.0, 40.0, 36.0, 85.0, 49.0, 80.0, 40.0, 58.0, 18.0, 36.0, 58.0, 36.0, 31.0, 18.0, 45.0, 45.0, 76.0, 85.0, 40.0, 40.0, 36.0, 9.0, 49.0, 67.0, 9.0, 31.0, 27.0, 54.0, 27.0, 40.0, 18.0, 27.0, 58.0, 80.0, 22.0, 54.0, 54.0, 63.0, 18.0, 36.0, 9.0, 31.0, 58.0, 31.0, 45.0, 31.0, 22.0, 36.0, 31.0, 27.0, 54.0, 45.0, 22.0, 27.0, 18.0, 31.0, 36.0, 36.0, 45.0, 22.0, 76.0, 18.0, 36.0, 4.0, 36.0, 9.0, 31.0, 27.0, 72.0, 31.0, 54.0, 40.0, 49.0, 40.0, 58.0, 9.0, 18.0, 40.0, 40.0, 18.0, 49.0, 40.0, 63.0, 36.0, 31.0, 36.0, 36.0, 49.0, 31.0, 13.0, 85.0, 9.0, 36.0, 40.0, 40.0, 9.0, 40.0, 58.0, 22.0, 36.0, 36.0, 63.0, 31.0, 58.0, 40.0, 40.0, 22.0, 45.0, 49.0, 63.0, 27.0, 31.0, 45.0, 36.0, 22.0, 54.0, 31.0, 45.0, 27.0, 27.0, 67.0, 54.0, 36.0, 45.0, 49.0, 45.0, 36.0, 27.0, 31.0, 45.0, 36.0, 27.0, 18.0, 45.0, 80.0, 94.0, 49.0, 31.0, 36.0, 13.0, 40.0, 49.0, 49.0, 22.0, 36.0, 54.0, 49.0, 63.0, 31.0, 9.0, 76.0, 45.0, 27.0, 94.0, 36.0, 18.0, 31.0, 49.0, 31.0, 45.0, 40.0, 45.0, 18.0, 31.0, 45.0, 63.0, 49.0, 36.0, 40.0, 40.0, 31.0, 63.0, 31.0, 63.0, 22.0, 45.0, 27.0, 40.0, 36.0, 58.0, 27.0, 49.0, 22.0, 63.0, 27.0, 40.0, 67.0, 45.0, 18.0, 18.0, 49.0, 18.0, 27.0, 18.0, 27.0, 18.0, 31.0, 45.0, 22.0, 67.0, 31.0, 31.0, 36.0, 22.0, 63.0, 85.0, 31.0, 49.0, 13.0, 49.0, 31.0, 22.0, 54.0, 49.0, 40.0, 22.0, 36.0, 27.0, 40.0, 18.0, 72.0, 27.0, 27.0, 45.0, 27.0, 31.0, 89.0, 40.0, 63.0, 63.0, 58.0, 54.0, 76.0, 54.0, 54.0, 27.0, 67.0, 40.0, 36.0, 67.0, 22.0, 58.0, 49.0, 40.0, 58.0, 27.0, 36.0, 45.0, 31.0, 36.0, 45.0, 45.0, 40.0, 49.0, 45.0, 54.0, 31.0, 31.0, 22.0, 54.0, 31.0, 13.0, 54.0, 63.0, 27.0, 27.0, 45.0, 27.0, 18.0, 27.0, 22.0, 36.0, 36.0, 36.0, 27.0, 40.0, 49.0, 22.0, 58.0, 13.0, 31.0, 40.0, 36.0, 27.0, 18.0, 31.0, 40.0, 49.0, 54.0, 45.0, 58.0, 94.0, 54.0, 45.0, 27.0, 76.0, 58.0, 49.0, 63.0, 27.0, 80.0, 45.0, 36.0, 36.0, 94.0, 27.0, 22.0, 49.0, 80.0, 49.0, 40.0, 31.0, 40.0, 80.0, 27.0, 22.0, 18.0, 54.0, 45.0, 67.0, 18.0, 54.0, 27.0, 45.0, 54.0, 22.0, 27.0, 9.0, 22.0, 22.0, 54.0, 18.0, 18.0, 49.0, 31.0, 36.0, 22.0, 13.0, 36.0, 40.0, 31.0, 40.0, 45.0, 63.0, 27.0, 40.0, 31.0, 36.0, 49.0, 31.0, 80.0, 40.0, 31.0, 40.0, 49.0, 9.0, 85.0, 36.0, 45.0, 22.0, 76.0, 76.0, 54.0, 36.0, 76.0, 31.0, 45.0, 18.0, 63.0, 63.0, 80.0, 36.0, 22.0, 40.0, 45.0, 22.0, 58.0, 45.0, 36.0, 45.0, 49.0, 18.0, 45.0, 63.0, 22.0, 45.0, 54.0, 9.0, 40.0, 40.0, 45.0, 40.0, 18.0, 31.0, 18.0, 27.0, 31.0, 9.0, 54.0, 18.0, 27.0, 40.0, 36.0, 18.0, 22.0, 22.0, 49.0, 31.0, 31.0, 18.0, 9.0, 27.0, 76.0, 94.0, 36.0, 49.0, 18.0, 40.0, 18.0, 40.0, 22.0, 27.0, 22.0, 36.0, 18.0, 27.0, 85.0, 45.0, 49.0, 58.0, 67.0, 54.0, 80.0, 40.0, 49.0, 31.0, 18.0, 13.0, 27.0, 27.0, 31.0, 40.0, 22.0, 49.0, 49.0, 40.0, 27.0, 31.0, 54.0, 22.0, 85.0, 36.0, 27.0, 13.0, 76.0, 85.0, 63.0, 45.0, 22.0, 45.0, 54.0, 54.0, 63.0, 36.0, 22.0, 31.0, 27.0, 22.0, 54.0, 31.0, 31.0, 31.0, 31.0, 36.0, 31.0, 22.0, 40.0, 18.0, 54.0, 27.0, 49.0, 40.0, 22.0, 18.0, 40.0, 13.0, 54.0, 31.0, 49.0, 40.0, 22.0, 85.0, 31.0, 49.0, 18.0, 54.0, 36.0, 22.0, 72.0, 18.0, 31.0, 49.0, 36.0, 72.0, 22.0, 31.0, 85.0, 36.0, 54.0, 22.0, 22.0, 9.0, 40.0, 40.0, 36.0, 54.0, 58.0, 54.0, 18.0, 63.0, 49.0, 76.0, 49.0, 36.0, 40.0, 54.0, 18.0, 40.0, 36.0, 22.0, 27.0, 72.0, 18.0, 22.0, 36.0, 18.0, 63.0, 85.0, 54.0, 45.0, 63.0, 40.0, 49.0, 36.0, 63.0, 40.0, 58.0, 76.0, 58.0, 27.0, 45.0, 22.0, 54.0, 18.0, 49.0, 31.0, 36.0, 27.0, 67.0, 40.0, 40.0, 40.0, 13.0, 31.0, 49.0, 80.0, 45.0, 45.0, 63.0, 40.0, 13.0, 76.0, 54.0, 31.0, 27.0, 22.0, 49.0, 18.0, 40.0, 36.0, 27.0, 31.0, 31.0, 58.0, 49.0, 49.0, 18.0, 31.0, 27.0, 13.0, 31.0, 36.0, 9.0, 22.0, 45.0, 58.0, 31.0, 22.0, 18.0, 13.0, 45.0, 18.0, 54.0, 63.0, 18.0, 49.0, 40.0, 63.0, 45.0, 27.0, 31.0, 31.0, 31.0, 22.0, 54.0, 18.0, 36.0, 49.0, 27.0, 76.0, 18.0, 22.0, 85.0, 27.0, 31.0, 27.0, 76.0, 58.0, 54.0, 9.0, 9.0, 63.0, 27.0, 49.0, 22.0, 18.0, 22.0, 22.0, 27.0, 72.0, 54.0, 45.0, 27.0, 54.0, 36.0, 40.0, 58.0, 76.0, 40.0, 31.0, 45.0, 40.0, 40.0, 36.0, 76.0, 9.0, 18.0, 36.0, 58.0, 40.0, 36.0, 49.0, 36.0, 31.0, 27.0, 13.0, 22.0, 58.0, 58.0, 49.0, 80.0, 18.0, 36.0, 31.0, 54.0, 54.0, 45.0, 31.0, 63.0, 31.0, 22.0, 40.0, 22.0, 18.0, 40.0, 45.0, 63.0, 54.0, 45.0, 45.0, 36.0, 58.0, 54.0, 63.0, 22.0, 45.0, 18.0, 36.0, 40.0, 49.0, 36.0, 72.0, 54.0, 80.0, 45.0, 63.0, 22.0, 49.0, 22.0, 18.0, 18.0, 49.0, 22.0, 18.0, 22.0, 31.0, 36.0, 40.0, 49.0, 45.0, 31.0, 13.0, 22.0, 9.0, 63.0, 9.0, 31.0, 22.0, 40.0, 49.0, 76.0, 45.0, 63.0, 31.0, 45.0, 36.0, 22.0, 67.0, 27.0, 45.0, 31.0, 27.0, 22.0, 45.0, 63.0, 40.0, 22.0, 31.0, 49.0, 45.0, 13.0, 49.0, 22.0, 40.0, 27.0, 31.0, 27.0, 31.0, 76.0, 63.0, 54.0, 31.0, 40.0, 36.0, 31.0, 45.0, 58.0, 45.0, 40.0, 36.0, 40.0, 22.0, 31.0, 22.0, 40.0, 72.0, 31.0, 18.0, 36.0, 27.0, 54.0, 45.0, 22.0, 22.0, 27.0, 22.0, 49.0, 22.0, 45.0, 31.0, 27.0, 45.0, 49.0, 40.0, 45.0, 40.0, 45.0, 54.0, 22.0, 54.0, 54.0, 54.0, 54.0, 45.0, 27.0, 80.0, 36.0, 31.0, 49.0, 67.0, 72.0, 67.0, 63.0, 45.0, 40.0, 18.0, 27.0, 4.0, 58.0, 18.0, 40.0, 31.0, 45.0, 18.0, 31.0, 54.0, 31.0, 54.0, 58.0, 40.0, 31.0, 31.0, 40.0, 36.0, 40.0, 36.0, 22.0, 63.0, 31.0, 58.0, 40.0, 63.0, 27.0, 54.0, 49.0, 36.0, 45.0, 18.0, 31.0, 45.0, 58.0, 27.0, 31.0, 76.0, 85.0, 63.0, 58.0, 85.0, 54.0, 31.0, 22.0, 22.0, 27.0, 45.0, 36.0, 54.0, 54.0, 54.0, 31.0, 36.0, 36.0, 40.0, 27.0, 36.0, 85.0, 13.0, 27.0, 54.0, 13.0, 54.0, 27.0, 54.0, 27.0, 22.0, 13.0, 58.0, 54.0, 45.0, 40.0, 18.0, 22.0, 22.0, 31.0, 54.0, 22.0, 54.0, 54.0, 22.0, 31.0, 80.0, 54.0, 13.0, 22.0, 49.0, 36.0, 85.0, 18.0, 18.0, 76.0, 36.0, 22.0, 31.0, 18.0, 36.0, 27.0, 13.0, 58.0, 27.0, 45.0, 27.0, 76.0, 22.0, 27.0, 45.0, 13.0, 45.0, 13.0, 63.0, 54.0, 18.0, 31.0, 67.0, 54.0, 22.0, 54.0, 22.0, 22.0, 63.0, 76.0, 27.0, 49.0, 9.0, 31.0, 54.0, 13.0, 63.0, 31.0, 54.0, 45.0, 27.0, 40.0, 31.0, 31.0, 40.0, 18.0, 22.0, 36.0, 45.0, 40.0, 31.0, 80.0, 31.0, 27.0, 45.0, 31.0, 49.0, 49.0, 13.0, 36.0, 67.0, 22.0, 22.0, 45.0, 31.0, 54.0, 40.0, 27.0, 22.0, 58.0, 45.0, 31.0, 27.0, 45.0, 27.0, 49.0, 54.0, 36.0, 27.0, 45.0, 22.0, 45.0, 49.0, 49.0, 18.0, 58.0, 22.0, 58.0, 27.0, 40.0, 49.0, 31.0, 22.0, 49.0, 54.0, 54.0, 22.0, 54.0, 27.0, 76.0, 76.0, 63.0, 49.0, 63.0, 18.0, 67.0, 36.0, 31.0, 36.0, 45.0, 54.0, 67.0, 54.0, 49.0, 54.0, 4.0, 9.0, 9.0, 18.0, 22.0, 40.0, 31.0, 36.0, 54.0, 31.0, 40.0, 22.0, 45.0, 49.0, 31.0, 27.0, 63.0, 36.0, 40.0, 13.0, 54.0, 63.0, 40.0, 76.0, 22.0, 45.0, 36.0, 31.0, 13.0, 45.0, 31.0, 27.0, 54.0, 40.0, 49.0, 36.0, 58.0, 54.0, 31.0, 85.0, 18.0, 40.0, 40.0, 45.0, 36.0, 45.0, 36.0, 45.0, 31.0, 58.0, 18.0, 31.0, 58.0, 63.0, 36.0, 40.0, 58.0, 18.0, 45.0, 49.0, 36.0, 18.0, 22.0, 31.0, 31.0, 49.0, 54.0, 58.0, 36.0, 45.0, 18.0, 22.0, 36.0, 45.0, 40.0, 40.0, 40.0, 94.0, 22.0, 13.0, 45.0, 54.0, 22.0, 58.0, 18.0, 13.0, 54.0, 13.0, 31.0, 76.0, 31.0, 40.0, 18.0, 49.0, 27.0, 18.0, 36.0, 31.0, 40.0, 49.0, 40.0, 13.0, 31.0, 58.0, 9.0, 40.0, 40.0, 40.0, 18.0, 40.0, 40.0, 27.0, 36.0, 45.0, 49.0, 18.0, 58.0, 22.0, 22.0, 40.0, 45.0, 54.0, 31.0, 54.0, 18.0, 9.0, 27.0, 49.0, 45.0, 31.0, 45.0, 49.0, 40.0, 31.0, 18.0, 58.0, 54.0, 31.0, 63.0, 63.0, 22.0, 45.0, 89.0, 27.0, 22.0, 40.0, 63.0, 27.0, 49.0, 36.0, 45.0, 22.0, 40.0, 31.0, 45.0, 36.0, 27.0, 27.0, 63.0, 18.0, 22.0, 63.0, 45.0, 63.0, 9.0, 27.0, 49.0, 63.0, 45.0, 49.0, 36.0, 36.0, 63.0, 22.0, 40.0, 18.0, 63.0, 22.0, 13.0, 63.0, 58.0, 54.0, 49.0, 27.0, 94.0, 31.0, 36.0, 40.0, 18.0, 40.0, 27.0, 36.0, 31.0, 27.0, 22.0, 40.0, 31.0, 58.0, 54.0, 49.0, 54.0, 31.0, 18.0, 36.0, 58.0, 27.0, 18.0, 54.0, 18.0, 45.0, 54.0, 18.0, 76.0, 49.0, 49.0, 40.0, 94.0, 31.0, 22.0, 63.0, 40.0, 72.0, 54.0, 40.0, 40.0, 40.0, 27.0, 40.0, 18.0, 13.0, 36.0, 49.0, 27.0, 49.0, 54.0, 27.0, 89.0, 76.0, 49.0, 76.0, 45.0, 54.0, 58.0, 54.0, 58.0, 54.0, 27.0, 31.0, 76.0, 27.0, 49.0, 13.0, 31.0, 22.0, 40.0, 40.0, 22.0, 9.0, 49.0, 54.0, 54.0, 36.0, 27.0, 49.0, 54.0, 31.0, 45.0, 45.0, 27.0, 22.0, 40.0, 80.0, 45.0, 80.0, 31.0, 9.0, 80.0, 45.0, 54.0, 40.0, 9.0, 18.0, 45.0, 40.0, 63.0, 31.0, 45.0, 45.0, 40.0, 85.0, 9.0, 45.0, 58.0, 54.0, 31.0, 54.0, 31.0, 85.0, 49.0, 45.0, 27.0, 54.0, 85.0, 54.0, 31.0, 27.0, 31.0, 9.0, 49.0, 45.0, 49.0, 22.0, 45.0, 13.0, 63.0, 80.0, 31.0, 49.0, 49.0, 22.0, 18.0, 18.0, 76.0, 45.0, 27.0, 22.0, 54.0, 45.0, 31.0, 45.0, 40.0, 31.0, 54.0, 72.0, 49.0, 58.0, 22.0, 49.0, 45.0, 18.0, 54.0, 54.0, 54.0, 31.0, 36.0, 36.0, 45.0, 27.0, 67.0, 31.0, 45.0, 49.0, 27.0, 54.0, 9.0, 49.0, 31.0, 49.0, 49.0, 40.0, 58.0, 45.0, 36.0, 40.0, 54.0, 49.0, 45.0, 85.0, 18.0, 13.0, 76.0, 31.0, 49.0, 45.0, 13.0, 54.0, 76.0, 22.0, 72.0, 94.0, 36.0, 22.0, 22.0, 27.0, 76.0, 31.0, 67.0, 31.0, 45.0, 76.0, 49.0, 54.0, 31.0, 36.0, 22.0, 13.0, 54.0, 31.0, 31.0, 22.0, 27.0, 58.0, 63.0, 63.0, 9.0, 49.0, 45.0, 49.0, 63.0, 22.0, 67.0, 63.0, 22.0, 58.0, 58.0, 45.0, 54.0, 49.0, 36.0, 49.0, 49.0, 27.0, 31.0, 27.0, 36.0, 31.0, 31.0, 58.0, 22.0, 54.0, 22.0, 58.0, 22.0, 63.0, 58.0, 36.0, 49.0, 49.0, 31.0, 54.0, 40.0, 31.0, 76.0, 45.0, 31.0, 49.0, 45.0, 18.0, 54.0, 18.0, 58.0, 18.0, 18.0, 49.0, 36.0, 40.0, 49.0, 58.0, 63.0, 31.0, 40.0, 76.0, 40.0, 31.0, 31.0, 49.0, 22.0, 27.0, 40.0, 27.0, 31.0, 22.0, 9.0, 85.0, 49.0, 49.0, 22.0, 36.0, 76.0, 18.0, 31.0, 40.0, 67.0, 36.0, 49.0, 31.0, 9.0, 36.0, 49.0, 31.0, 49.0, 45.0, 40.0, 31.0, 40.0, 9.0, 45.0, 63.0, 76.0, 45.0, 58.0, 45.0, 22.0, 27.0, 27.0, 27.0, 9.0, 36.0, 31.0, 36.0, 27.0, 9.0, 89.0, 40.0, 40.0, 49.0, 54.0, 45.0, 31.0, 31.0, 45.0, 45.0, 63.0, 36.0, 40.0, 22.0, 27.0, 31.0, 54.0, 49.0, 49.0, 49.0, 22.0, 13.0, 31.0, 54.0, 18.0, 76.0, 31.0, 13.0, 22.0, 49.0, 76.0, 40.0, 31.0, 45.0, 76.0, 22.0, 45.0, 18.0, 63.0, 45.0, 36.0, 22.0, 9.0, 54.0, 49.0, 80.0, 36.0, 27.0, 36.0, 18.0, 36.0, 40.0, 22.0, 27.0, 22.0, 22.0, 54.0, 18.0, 85.0, 18.0, 67.0, 18.0, 40.0, 76.0, 85.0, 85.0, 36.0, 31.0, 76.0, 22.0, 31.0, 54.0, 36.0, 31.0, 49.0, 45.0, 36.0, 36.0, 18.0, 22.0, 67.0, 54.0, 40.0, 36.0, 27.0, 40.0, 22.0, 22.0, 63.0, 22.0, 31.0, 31.0, 40.0, 22.0, 36.0, 54.0, 31.0, 58.0, 22.0, 49.0, 76.0, 36.0, 36.0, 54.0, 27.0, 18.0, 45.0, 31.0, 18.0, 54.0, 36.0, 40.0, 40.0, 22.0, 31.0, 63.0, 89.0, 58.0, 40.0, 40.0, 22.0, 40.0, 45.0, 18.0, 22.0, 54.0, 36.0, 58.0, 49.0, 58.0, 54.0, 40.0, 85.0, 40.0, 40.0, 45.0, 31.0, 31.0, 27.0, 31.0, 49.0, 36.0, 22.0, 49.0, 22.0, 27.0, 40.0, 27.0, 54.0, 36.0, 40.0, 18.0, 45.0, 58.0, 27.0, 49.0, 22.0, 31.0, 27.0, 36.0, 40.0, 63.0, 80.0, 49.0, 94.0, 40.0, 49.0, 36.0, 36.0, 85.0, 31.0, 40.0, 54.0, 27.0, 67.0, 54.0, 36.0, 31.0, 40.0, 49.0, 40.0, 54.0, 49.0, 40.0, 36.0, 63.0, 58.0, 40.0, 31.0, 40.0, 54.0, 36.0, 45.0, 9.0, 54.0, 49.0, 22.0, 22.0, 31.0, 40.0, 31.0, 13.0, 31.0, 22.0, 54.0, 13.0, 49.0, 27.0, 36.0, 22.0, 54.0, 36.0, 31.0, 80.0, 27.0, 54.0, 63.0, 13.0, 36.0, 45.0, 76.0, 89.0, 18.0, 18.0, 27.0, 31.0, 58.0, 40.0, 31.0, 45.0, 49.0, 13.0, 22.0, 22.0, 27.0, 18.0, 40.0, 45.0, 85.0, 76.0, 45.0, 31.0, 76.0, 54.0, 18.0, 22.0, 36.0, 49.0, 22.0, 36.0, 27.0, 13.0, 45.0, 22.0, 45.0, 36.0, 76.0, 31.0, 40.0, 45.0, 40.0, 40.0, 27.0, 22.0, 31.0, 36.0, 31.0, 45.0, 9.0, 58.0, 22.0, 36.0, 18.0, 31.0, 27.0, 22.0, 27.0, 31.0, 31.0, 31.0, 45.0, 31.0, 45.0, 49.0, 22.0, 13.0, 36.0, 45.0, 58.0, 31.0, 80.0, 9.0, 36.0, 31.0, 54.0, 31.0, 36.0, 72.0, 67.0, 58.0, 45.0, 45.0, 54.0, 67.0, 45.0, 31.0, 40.0, 18.0, 36.0, 22.0, 27.0, 49.0, 63.0, 40.0, 67.0, 54.0, 27.0, 54.0, 40.0, 54.0, 13.0, 36.0, 45.0, 22.0, 18.0, 27.0, 54.0, 27.0, 36.0, 54.0, 58.0, 18.0, 49.0, 54.0, 31.0, 85.0, 49.0, 27.0, 18.0, 9.0, 85.0, 13.0, 36.0, 31.0, 63.0, 22.0, 63.0, 18.0, 36.0, 22.0, 36.0, 36.0, 63.0, 27.0, 40.0, 9.0, 13.0, 54.0, 45.0, 22.0, 40.0, 36.0, 22.0, 36.0, 18.0, 80.0, 54.0, 40.0, 9.0, 27.0, 49.0, 40.0, 18.0, 36.0, 54.0, 31.0, 40.0, 40.0, 49.0, 27.0, 40.0, 18.0, 27.0, 36.0, 22.0, 36.0, 54.0, 40.0, 49.0, 49.0, 18.0, 54.0, 54.0, 22.0, 18.0, 22.0, 18.0, 31.0, 36.0, 22.0, 36.0, 49.0, 45.0, 63.0, 40.0, 27.0, 22.0, 31.0, 80.0, 22.0, 63.0, 31.0, 27.0, 40.0, 27.0, 54.0, 36.0, 40.0, 94.0, 58.0, 18.0, 40.0, 36.0, 13.0, 31.0, 18.0, 27.0, 31.0, 49.0, 67.0, 49.0, 31.0, 27.0, 31.0, 85.0, 31.0, 18.0, 76.0, 54.0, 36.0, 27.0, 27.0, 22.0, 18.0, 45.0, 13.0, 54.0, 63.0, 45.0, 85.0, 54.0, 49.0, 27.0, 27.0, 27.0, 13.0, 72.0, 36.0, 36.0, 18.0, 31.0, 58.0, 54.0, 40.0, 18.0, 13.0, 49.0, 31.0, 49.0, 31.0, 22.0, 49.0, 54.0, 45.0, 45.0, 27.0, 49.0, 22.0, 36.0, 13.0, 31.0, 27.0, 31.0, 58.0, 31.0, 18.0, 45.0, 49.0, 76.0, 22.0, 27.0, 85.0, 22.0, 27.0, 58.0, 58.0, 27.0, 49.0, 31.0, 85.0, 40.0, 67.0, 31.0, 45.0, 54.0, 27.0, 36.0, 40.0, 36.0, 27.0, 27.0, 18.0, 9.0, 36.0, 18.0, 49.0, 22.0, 13.0, 49.0, 49.0, 27.0, 67.0, 36.0, 22.0, 58.0, 49.0, 22.0, 58.0, 31.0, 49.0, 67.0, 54.0, 31.0, 40.0, 40.0, 45.0, 45.0, 63.0, 49.0, 22.0, 54.0, 22.0, 22.0, 36.0, 54.0, 22.0, 22.0, 31.0, 45.0, 36.0, 58.0, 31.0, 9.0, 45.0, 54.0, 58.0, 31.0, 22.0, 40.0, 49.0, 31.0, 36.0, 63.0, 13.0, 31.0, 49.0, 63.0, 40.0, 40.0, 45.0, 36.0, 76.0, 54.0, 85.0, 49.0, 80.0, 40.0, 27.0, 4.0, 27.0, 49.0, 49.0, 67.0, 22.0, 18.0, 58.0, 9.0, 9.0, 36.0, 22.0, 94.0, 49.0, 45.0, 22.0, 40.0, 49.0, 49.0, 18.0, 49.0, 49.0, 9.0, 94.0, 58.0, 36.0, 22.0, 40.0, 49.0, 31.0, 54.0, 27.0, 67.0, 40.0, 94.0, 31.0, 40.0, 54.0, 31.0, 27.0, 63.0, 45.0, 36.0, 76.0, 40.0, 58.0, 31.0, 18.0, 54.0, 49.0, 40.0, 45.0, 22.0, 49.0, 67.0, 27.0, 22.0, 58.0, 45.0, 31.0, 49.0, 45.0, 18.0, 31.0, 31.0, 45.0, 54.0, 22.0, 49.0, 45.0, 27.0, 27.0, 45.0, 31.0, 54.0, 58.0, 22.0, 94.0, 13.0, 63.0, 13.0, 49.0, 49.0, 9.0, 18.0, 27.0, 40.0, 36.0, 27.0, 27.0, 31.0, 40.0, 49.0, 40.0, 58.0, 49.0, 22.0, 45.0, 27.0, 40.0, 18.0, 49.0, 72.0, 54.0, 58.0, 58.0, 18.0, 58.0, 40.0, 31.0, 54.0, 49.0, 45.0, 27.0, 36.0, 54.0, 40.0, 58.0, 76.0, 49.0, 31.0, 22.0, 49.0, 45.0, 45.0, 45.0, 63.0, 40.0, 54.0, 27.0, 54.0, 31.0, 58.0, 49.0, 31.0, 36.0, 63.0, 31.0, 45.0, 18.0, 22.0, 76.0, 45.0, 36.0, 45.0, 40.0, 18.0, 40.0, 63.0, 36.0, 54.0, 18.0, 49.0, 49.0, 13.0, 89.0, 40.0, 49.0, 27.0, 9.0, 36.0, 36.0, 36.0, 36.0, 76.0, 27.0, 22.0, 45.0, 40.0, 18.0, 9.0, 45.0, 67.0, 45.0, 31.0, 27.0, 40.0, 76.0, 40.0, 27.0, 54.0, 22.0, 22.0, 58.0, 22.0, 36.0, 63.0, 31.0, 18.0, 58.0, 54.0, 18.0, 31.0, 18.0, 18.0, 58.0, 63.0, 67.0, 18.0, 9.0, 22.0, 22.0, 54.0, 40.0, 18.0, 49.0, 89.0, 54.0, 18.0, 67.0, 49.0, 13.0, 58.0, 63.0, 40.0, 31.0, 36.0, 40.0, 36.0, 31.0, 45.0, 22.0, 45.0, 45.0, 76.0, 18.0, 54.0, 40.0, 54.0, 36.0, 45.0, 49.0, 36.0, 54.0, 31.0, 54.0, 36.0, 54.0, 58.0, 49.0, 22.0, 67.0, 45.0, 31.0, 36.0, 31.0, 40.0, 40.0, 31.0, 58.0, 49.0, 45.0, 9.0, 9.0, 40.0, 63.0, 27.0, 49.0, 94.0, 9.0, 45.0, 31.0, 31.0, 49.0, 40.0, 22.0, 40.0, 63.0, 31.0, 49.0, 85.0, 18.0, 76.0, 31.0, 18.0, 22.0, 76.0, 45.0, 31.0, 18.0, 63.0, 80.0, 49.0, 27.0, 54.0, 58.0, 54.0, 36.0, 36.0, 58.0, 36.0, 22.0, 63.0, 27.0, 40.0, 40.0, 54.0, 27.0, 9.0, 58.0, 63.0, 27.0, 76.0, 58.0, 72.0, 27.0, 22.0, 36.0, 22.0, 58.0, 63.0, 45.0, 13.0, 45.0, 18.0, 40.0, 40.0, 58.0, 31.0, 31.0, 18.0, 36.0, 27.0, 54.0, 13.0, 49.0, 13.0, 31.0, 49.0, 45.0, 22.0, 40.0, 40.0, 31.0, 13.0, 45.0, 13.0, 54.0, 54.0, 31.0, 27.0, 36.0, 67.0, 58.0, 9.0, 45.0, 49.0, 31.0, 31.0, 40.0, 58.0, 40.0, 22.0, 49.0, 13.0, 58.0, 27.0, 31.0, 40.0, 54.0, 85.0, 13.0, 94.0, 22.0, 31.0, 18.0, 18.0, 36.0, 22.0, 9.0, 36.0, 36.0, 54.0, 27.0, 63.0, 18.0, 40.0, 22.0, 94.0, 27.0, 31.0, 49.0, 54.0, 36.0, 40.0, 45.0, 76.0, 36.0, 40.0, 18.0, 49.0, 58.0, 31.0, 63.0, 22.0, 63.0, 13.0, 58.0, 22.0, 18.0, 63.0, 54.0, 31.0, 40.0, 27.0, 31.0, 36.0, 58.0, 40.0, 31.0, 94.0, 63.0, 40.0, 45.0, 31.0, 40.0, 45.0, 36.0, 54.0, 27.0, 31.0, 22.0, 40.0, 45.0, 9.0, 36.0, 22.0, 18.0, 49.0, 40.0, 76.0, 18.0, 31.0, 40.0, 45.0, 31.0, 18.0, 31.0, 54.0, 45.0, 27.0, 45.0, 22.0, 36.0, 27.0, 31.0, 36.0, 58.0, 31.0, 36.0, 67.0, 45.0, 27.0, 18.0, 9.0, 13.0, 54.0, 40.0, 49.0, 36.0, 13.0, 36.0, 36.0, 45.0, 58.0, 45.0, 13.0, 63.0, 27.0, 85.0, 76.0, 36.0, 45.0, 45.0, 85.0, 40.0, 49.0, 22.0, 22.0, 27.0, 36.0, 22.0, 36.0, 58.0, 27.0, 45.0, 27.0, 40.0, 54.0, 22.0, 54.0, 27.0, 63.0, 31.0, 40.0, 40.0, 49.0, 22.0, 80.0, 49.0, 18.0, 40.0, 58.0, 49.0, 27.0, 40.0, 49.0, 27.0, 45.0, 36.0, 36.0, 40.0, 22.0, 31.0, 22.0, 31.0, 49.0, 36.0, 22.0, 27.0, 31.0, 36.0, 31.0, 27.0, 36.0, 4.0, 40.0, 49.0, 58.0, 45.0, 31.0, 45.0, 31.0, 36.0, 58.0, 31.0, 58.0, 31.0, 27.0, 80.0, 9.0, 22.0, 13.0, 22.0, 36.0, 58.0, 40.0, 63.0, 49.0, 40.0, 31.0, 49.0, 45.0, 54.0, 13.0, 27.0, 63.0, 58.0, 31.0, 18.0, 22.0, 45.0, 4.0, 45.0, 27.0, 54.0, 18.0, 40.0, 27.0, 40.0, 27.0, 58.0, 40.0, 49.0, 13.0, 40.0, 85.0, 31.0, 49.0, 36.0, 40.0, 40.0, 40.0, 45.0, 27.0, 45.0, 67.0, 58.0, 45.0, 54.0, 36.0, 13.0, 22.0, 36.0, 18.0, 9.0, 27.0, 18.0, 58.0, 63.0, 54.0, 40.0, 85.0, 31.0, 40.0, 27.0, 36.0, 31.0, 45.0, 18.0, 36.0, 49.0, 27.0, 72.0, 18.0, 18.0, 13.0, 31.0, 45.0, 31.0, 80.0, 22.0, 27.0, 49.0, 36.0, 22.0, 18.0, 45.0, 18.0, 27.0, 13.0, 45.0, 76.0, 45.0, 13.0, 67.0, 9.0, 58.0, 40.0, 63.0, 18.0, 31.0, 54.0, 22.0, 31.0, 22.0, 40.0, 58.0, 49.0, 36.0, 22.0, 49.0, 40.0, 27.0, 67.0, 31.0, 36.0, 27.0, 63.0, 27.0, 27.0, 27.0, 22.0, 36.0, 40.0, 85.0, 31.0, 22.0, 45.0, 31.0, 63.0, 31.0, 13.0, 67.0, 27.0, 72.0, 40.0, 22.0, 27.0, 49.0, 31.0, 31.0, 63.0, 58.0, 40.0, 54.0, 9.0, 9.0, 18.0, 63.0, 18.0, 27.0, 27.0, 45.0, 31.0, 31.0, 40.0, 49.0, 49.0, 49.0, 58.0, 49.0, 36.0, 22.0, 58.0, 54.0, 40.0, 45.0, 18.0, 31.0, 27.0, 31.0, 94.0, 40.0, 9.0, 18.0, 45.0, 18.0, 27.0, 18.0, 31.0, 58.0, 22.0, 31.0, 40.0, 27.0, 22.0, 76.0, 22.0, 40.0, 36.0, 9.0, 63.0, 22.0, 40.0, 54.0, 31.0, 22.0, 31.0, 31.0, 54.0, 31.0, 22.0, 22.0, 40.0, 27.0, 49.0, 45.0, 54.0, 22.0, 27.0, 31.0, 49.0, 31.0, 54.0, 18.0, 18.0, 45.0, 85.0, 45.0, 40.0, 36.0, 58.0, 49.0, 58.0, 27.0, 18.0, 72.0, 45.0, 31.0, 18.0, 40.0, 49.0, 31.0, 27.0, 40.0, 31.0, 45.0, 13.0, 22.0, 27.0, 76.0, 45.0, 40.0, 36.0, 27.0, 13.0, 13.0, 67.0, 18.0, 76.0, 85.0, 31.0, 27.0, 63.0, 45.0, 40.0, 22.0, 40.0, 58.0, 31.0, 27.0, 22.0, 40.0, 49.0, 49.0, 18.0, 27.0, 54.0, 40.0, 31.0, 27.0, 31.0, 22.0, 31.0, 40.0, 22.0, 49.0, 22.0, 9.0, 13.0, 40.0, 36.0, 18.0, 36.0, 36.0, 31.0, 9.0, 76.0, 22.0, 36.0, 27.0, 27.0, 13.0, 54.0, 63.0, 27.0, 31.0, 49.0, 9.0, 27.0, 22.0, 85.0, 31.0, 27.0, 22.0, 80.0, 36.0, 22.0, 27.0, 31.0, 22.0, 45.0, 49.0, 45.0, 22.0, 22.0, 49.0, 40.0, 85.0, 63.0, 31.0, 63.0, 49.0, 45.0, 22.0, 67.0, 31.0, 45.0, 27.0, 40.0, 58.0, 31.0, 31.0, 27.0, 31.0, 49.0, 22.0, 54.0, 54.0, 9.0, 27.0, 67.0, 45.0, 22.0, 31.0, 18.0, 27.0, 40.0, 27.0, 31.0, 31.0, 45.0, 22.0, 36.0, 36.0, 94.0, 49.0, 18.0, 9.0, 45.0, 58.0, 49.0, 9.0, 40.0, 36.0, 27.0, 31.0, 36.0, 27.0, 27.0, 31.0, 45.0, 36.0, 31.0, 76.0, 49.0, 54.0, 13.0, 63.0, 40.0, 9.0, 49.0, 18.0, 63.0, 40.0, 49.0, 27.0, 63.0, 40.0, 40.0, 27.0, 54.0, 45.0, 58.0, 31.0, 40.0, 27.0, 31.0, 31.0, 45.0, 36.0, 31.0, 94.0, 40.0, 54.0, 49.0, 4.0, 49.0, 40.0, 27.0, 72.0, 40.0, 49.0, 40.0, 63.0, 22.0, 27.0, 13.0, 31.0, 18.0, 49.0, 31.0, 22.0, 22.0, 31.0, 54.0, 27.0, 58.0, 85.0, 9.0, 49.0, 40.0, 27.0, 40.0, 22.0, 18.0, 31.0, 76.0, 54.0, 45.0, 27.0, 49.0, 54.0, 31.0, 54.0, 45.0, 27.0, 36.0, 54.0, 85.0, 45.0, 13.0, 54.0, 54.0, 27.0, 36.0, 76.0, 49.0, 45.0, 22.0, 45.0, 54.0, 36.0, 45.0, 58.0, 22.0, 58.0, 49.0, 22.0, 27.0, 49.0, 63.0, 31.0, 36.0, 58.0, 72.0, 31.0, 76.0, 45.0, 94.0, 36.0, 54.0, 22.0, 18.0, 31.0, 36.0, 22.0, 31.0, 49.0, 13.0, 54.0, 18.0, 63.0, 27.0, 49.0, 27.0, 36.0, 45.0, 22.0, 40.0, 18.0, 27.0, 36.0, 40.0, 31.0, 18.0, 22.0, 40.0, 27.0, 36.0, 40.0, 27.0, 18.0, 31.0, 27.0, 31.0, 40.0, 45.0, 40.0, 40.0, 54.0, 9.0, 76.0, 22.0, 22.0, 9.0, 76.0, 9.0, 63.0, 58.0, 49.0, 63.0, 89.0, 22.0, 22.0, 49.0, 40.0, 40.0, 85.0, 22.0, 36.0, 54.0, 40.0, 31.0, 40.0, 13.0, 36.0, 54.0, 31.0, 63.0, 27.0, 18.0, 31.0, 63.0, 36.0, 85.0, 31.0, 22.0, 45.0, 76.0, 54.0, 49.0, 31.0, 40.0, 54.0, 36.0, 36.0, 36.0, 13.0, 22.0, 45.0, 22.0, 31.0, 76.0, 58.0, 27.0, 27.0, 89.0, 18.0, 58.0, 31.0, 54.0, 63.0, 31.0, 40.0, 36.0, 27.0, 22.0, 27.0, 40.0, 13.0, 49.0, 22.0, 49.0, 27.0, 40.0, 31.0, 54.0, 36.0, 49.0, 27.0, 27.0, 54.0, 22.0, 67.0, 72.0, 54.0, 36.0, 22.0, 63.0, 31.0, 58.0, 27.0, 40.0, 27.0, 18.0, 22.0, 27.0, 54.0, 49.0, 22.0, 40.0, 45.0, 40.0, 27.0, 76.0, 54.0, 27.0, 31.0, 49.0, 49.0, 27.0, 67.0, 40.0, 22.0, 36.0, 27.0, 40.0, 22.0, 36.0, 49.0, 31.0, 31.0, 31.0, 18.0, 76.0, 40.0, 40.0, 40.0, 36.0, 49.0, 40.0, 22.0, 49.0, 54.0, 45.0, 22.0, 54.0, 18.0, 40.0, 40.0, 31.0, 31.0, 36.0, 63.0, 54.0, 22.0, 27.0, 22.0, 18.0, 63.0, 22.0, 31.0, 49.0, 31.0, 54.0, 67.0, 22.0, 31.0, 76.0, 27.0, 63.0, 22.0, 22.0, 49.0, 49.0, 49.0, 45.0, 36.0, 49.0, 49.0, 13.0, 18.0, 76.0, 54.0, 45.0, 54.0, 76.0, 49.0, 58.0, 49.0, 54.0, 58.0, 40.0, 49.0, 58.0, 36.0, 22.0, 22.0, 27.0, 40.0, 80.0, 49.0, 76.0, 36.0, 36.0, 31.0, 36.0, 22.0, 36.0, 22.0, 36.0, 22.0, 76.0, 49.0, 76.0, 54.0, 54.0, 27.0, 22.0, 27.0, 31.0, 36.0, 40.0, 63.0, 63.0, 58.0, 9.0, 54.0, 54.0, 27.0, 49.0, 13.0, 54.0, 31.0, 22.0, 27.0, 18.0, 85.0, 31.0, 4.0, 67.0, 27.0, 27.0, 31.0, 40.0, 27.0, 49.0, 18.0, 45.0, 63.0, 40.0, 40.0, 18.0, 40.0, 45.0, 9.0, 22.0, 54.0, 40.0, 22.0, 13.0, 76.0, 72.0, 54.0, 18.0, 63.0, 13.0, 49.0, 36.0, 27.0, 54.0, 27.0, 58.0, 49.0, 27.0, 22.0, 40.0, 31.0, 27.0, 31.0, 22.0, 31.0, 54.0, 76.0, 31.0, 49.0, 36.0, 49.0, 13.0, 31.0, 58.0, 31.0, 18.0, 85.0, 18.0, 27.0, 80.0, 80.0, 49.0, 36.0, 27.0, 63.0, 45.0, 54.0, 27.0, 49.0, 9.0, 18.0, 31.0, 45.0, 9.0, 72.0, 31.0, 18.0, 45.0, 45.0, 18.0, 36.0, 27.0, 85.0, 40.0, 54.0, 45.0, 76.0, 49.0, 36.0, 4.0, 27.0, 22.0, 22.0, 94.0, 27.0, 54.0, 27.0, 49.0, 40.0, 22.0, 85.0, 18.0, 27.0, 22.0, 31.0, 63.0, 31.0, 36.0, 9.0, 31.0, 9.0, 9.0, 13.0, 31.0, 67.0, 58.0, 27.0, 31.0, 45.0, 54.0, 31.0, 45.0, 36.0, 27.0, 31.0, 54.0, 36.0, 31.0, 40.0, 40.0, 49.0, 63.0, 22.0, 31.0, 54.0, 58.0, 31.0, 9.0, 18.0, 27.0, 40.0, 40.0, 18.0, 22.0, 76.0, 22.0, 40.0, 76.0, 40.0, 31.0, 76.0, 45.0, 80.0, 22.0, 49.0, 27.0, 9.0, 67.0, 31.0, 36.0, 54.0, 63.0, 9.0, 31.0, 63.0, 45.0, 49.0, 54.0, 54.0, 22.0, 22.0, 22.0, 13.0, 22.0, 45.0, 54.0, 54.0, 36.0, 18.0, 40.0, 18.0, 76.0, 54.0, 40.0, 45.0, 40.0, 27.0, 31.0, 54.0, 27.0, 49.0, 45.0, 58.0, 54.0, 58.0, 36.0, 49.0, 31.0, 36.0, 54.0, 31.0, 18.0, 45.0, 40.0, 49.0, 27.0, 40.0, 27.0, 22.0, 40.0, 67.0, 9.0, 13.0, 54.0, 31.0, 45.0, 31.0, 40.0, 13.0, 27.0, 40.0, 22.0, 49.0, 40.0, 22.0, 45.0, 49.0, 18.0, 58.0, 40.0, 31.0, 63.0, 45.0, 31.0, 31.0, 49.0, 22.0, 31.0, 49.0, 31.0, 54.0, 49.0, 76.0, 40.0, 85.0, 40.0, 18.0, 58.0, 27.0, 49.0, 49.0, 76.0, 36.0, 49.0, 67.0, 22.0, 31.0, 85.0, 31.0, 40.0, 58.0, 18.0, 49.0, 54.0, 63.0, 94.0, 58.0, 31.0, 63.0, 22.0, 54.0, 9.0, 49.0, 85.0, 45.0, 49.0, 22.0, 67.0, 31.0, 54.0, 13.0, 31.0, 80.0, 31.0, 67.0, 31.0, 18.0, 18.0, 27.0, 85.0, 45.0, 54.0, 45.0, 18.0, 31.0, 31.0, 22.0, 22.0, 36.0, 58.0, 85.0, 45.0, 9.0, 18.0, 4.0, 27.0, 63.0, 49.0, 45.0, 36.0, 49.0, 31.0, 36.0, 40.0, 45.0, 63.0, 54.0, 49.0, 49.0, 45.0, 9.0, 40.0, 58.0, 36.0, 49.0, 54.0, 31.0, 58.0, 27.0, 54.0, 31.0, 49.0, 36.0, 18.0, 22.0, 22.0, 40.0, 40.0, 27.0, 36.0, 80.0, 40.0, 36.0, 36.0, 27.0, 49.0, 58.0, 54.0, 22.0, 49.0, 18.0, 58.0, 18.0, 9.0, 76.0, 58.0, 31.0, 49.0, 45.0, 27.0, 27.0, 58.0, 85.0, 27.0, 22.0, 31.0, 80.0, 49.0, 31.0, 36.0, 9.0, 27.0, 40.0, 27.0, 18.0, 27.0, 58.0, 45.0, 31.0, 49.0, 27.0, 63.0, 36.0, 27.0, 31.0, 18.0, 36.0, 45.0, 58.0, 49.0, 49.0, 45.0, 18.0, 45.0, 40.0, 22.0, 49.0, 63.0, 22.0, 49.0, 54.0, 49.0, 18.0, 31.0, 45.0, 58.0, 85.0, 22.0, 40.0, 49.0, 18.0, 45.0, 36.0, 40.0, 58.0, 18.0, 27.0, 36.0, 49.0, 22.0, 45.0, 18.0, 76.0, 49.0, 40.0, 45.0, 18.0, 27.0, 58.0, 9.0, 22.0, 63.0, 36.0, 40.0, 54.0, 58.0, 31.0, 45.0, 31.0, 27.0, 45.0, 13.0, 36.0, 54.0, 49.0, 40.0, 76.0, 36.0, 22.0, 22.0, 63.0, 49.0, 31.0, 27.0, 49.0, 22.0, 31.0, 22.0, 22.0, 67.0, 22.0, 76.0, 40.0, 49.0, 49.0, 31.0, 22.0, 22.0, 72.0, 22.0, 9.0, 18.0, 45.0, 13.0, 22.0, 54.0, 36.0, 31.0, 31.0, 36.0, 58.0, 22.0, 36.0, 22.0, 49.0, 40.0, 18.0, 94.0, 36.0, 54.0, 18.0, 13.0, 40.0, 45.0, 45.0, 45.0, 36.0, 40.0, 31.0, 22.0, 54.0, 31.0, 27.0, 40.0, 40.0, 45.0, 18.0, 13.0, 49.0, 18.0, 18.0, 49.0, 40.0, 49.0, 36.0, 36.0, 22.0, 22.0, 36.0, 40.0, 63.0, 40.0, 36.0, 31.0, 40.0, 31.0, 36.0, 45.0, 22.0, 58.0, 49.0, 54.0, 27.0, 31.0, 27.0, 63.0, 94.0, 40.0, 67.0, 18.0, 18.0, 49.0, 31.0, 58.0, 31.0, 36.0, 40.0, 54.0, 40.0, 49.0, 27.0, 31.0, 22.0, 31.0, 22.0, 27.0, 36.0, 18.0, 54.0, 76.0, 13.0, 31.0, 49.0, 76.0, 63.0, 22.0, 9.0, 31.0, 45.0, 22.0, 18.0, 45.0, 63.0, 36.0, 40.0, 36.0, 40.0, 49.0, 54.0, 27.0, 9.0, 40.0, 40.0, 22.0, 40.0, 40.0, 40.0, 27.0, 31.0, 13.0, 85.0, 31.0, 22.0, 54.0, 27.0, 31.0, 36.0, 31.0, 36.0, 49.0, 49.0, 49.0, 31.0, 63.0, 49.0, 49.0, 22.0, 85.0, 49.0, 40.0, 31.0, 54.0, 36.0, 31.0, 58.0, 49.0, 49.0, 63.0, 18.0, 22.0, 49.0, 40.0, 45.0, 18.0, 63.0, 49.0, 22.0, 58.0, 27.0, 18.0, 27.0, 58.0, 54.0, 22.0, 9.0, 22.0, 45.0, 22.0, 49.0, 36.0, 54.0, 54.0, 67.0, 22.0, 45.0, 36.0, 27.0, 31.0, 31.0, 27.0, 18.0, 63.0, 13.0, 40.0, 40.0, 76.0, 45.0, 85.0, 40.0, 22.0, 40.0, 40.0, 13.0, 49.0, 76.0, 40.0, 31.0, 40.0, 31.0, 31.0, 9.0, 9.0, 22.0, 94.0, 13.0, 40.0, 9.0, 31.0, 45.0, 49.0, 22.0, 54.0, 40.0, 80.0, 22.0, 22.0, 36.0, 40.0, 49.0, 18.0, 18.0, 9.0, 18.0, 40.0, 36.0, 27.0, 27.0, 22.0, 54.0, 22.0, 54.0, 31.0, 63.0, 18.0, 22.0, 49.0, 18.0, 45.0, 22.0, 40.0, 49.0, 58.0, 63.0, 22.0, 36.0, 31.0, 49.0, 36.0, 18.0, 54.0, 22.0, 36.0, 63.0, 27.0, 22.0, 45.0, 31.0, 49.0, 45.0, 31.0, 40.0, 27.0, 22.0, 22.0, 49.0, 27.0, 31.0, 18.0, 63.0, 85.0, 63.0, 31.0, 58.0, 72.0, 58.0, 54.0, 54.0, 63.0, 40.0, 13.0, 49.0, 22.0, 49.0, 49.0, 45.0, 27.0, 63.0, 40.0, 36.0, 36.0, 76.0, 22.0, 13.0, 54.0, 31.0, 49.0, 36.0, 31.0, 80.0, 36.0, 9.0, 22.0, 45.0, 27.0, 40.0, 9.0, 36.0, 18.0, 27.0, 40.0, 18.0, 49.0, 45.0, 27.0, 22.0, 45.0, 40.0, 31.0, 45.0, 94.0, 31.0, 45.0, 18.0, 45.0, 22.0, 40.0, 22.0, 49.0, 31.0, 40.0, 27.0, 18.0, 58.0, 22.0, 54.0, 67.0, 13.0, 18.0, 54.0, 54.0, 45.0, 80.0, 31.0, 13.0, 36.0, 58.0, 18.0, 36.0, 67.0, 45.0, 31.0, 40.0, 49.0, 54.0, 67.0, 27.0, 27.0, 94.0, 49.0, 58.0, 31.0, 49.0, 9.0, 45.0, 31.0, 49.0, 40.0, 18.0, 49.0, 36.0, 49.0, 31.0, 31.0, 49.0, 45.0, 22.0, 27.0, 31.0, 40.0, 22.0, 40.0, 18.0, 31.0, 22.0, 58.0, 18.0, 58.0, 54.0, 13.0, 49.0, 36.0, 45.0, 49.0, 27.0, 76.0, 31.0, 58.0, 9.0, 27.0, 9.0, 45.0, 36.0, 27.0, 45.0, 31.0, 49.0, 22.0, 45.0, 72.0, 67.0, 18.0, 85.0, 22.0, 54.0, 54.0, 27.0, 22.0, 27.0, 31.0, 36.0, 49.0, 22.0, 40.0, 31.0, 36.0, 36.0, 27.0, 22.0, 49.0, 49.0, 22.0, 49.0, 76.0, 85.0, 54.0, 22.0, 58.0, 36.0, 58.0, 49.0, 45.0, 54.0, 45.0, 22.0, 45.0, 72.0, 45.0, 40.0, 18.0, 13.0, 27.0, 54.0, 18.0, 13.0, 63.0, 27.0, 18.0, 18.0, 31.0, 45.0, 49.0, 13.0, 22.0, 27.0, 40.0, 45.0, 31.0, 13.0, 58.0, 27.0, 45.0, 36.0, 45.0, 36.0, 67.0, 49.0, 18.0, 22.0, 45.0, 36.0, 89.0, 31.0, 22.0, 31.0, 27.0, 45.0, 31.0, 31.0, 58.0, 40.0, 27.0, 49.0, 18.0, 45.0, 31.0, 22.0, 40.0, 27.0, 76.0, 54.0, 36.0, 54.0, 36.0, 18.0, 76.0, 31.0, 45.0, 40.0, 22.0, 49.0, 58.0, 49.0, 45.0, 36.0, 31.0, 18.0, 22.0, 31.0, 40.0, 31.0, 54.0, 45.0, 49.0, 49.0, 40.0, 49.0, 54.0, 9.0, 45.0, 45.0, 54.0, 45.0, 49.0, 58.0, 49.0, 27.0, 22.0, 22.0, 45.0, 40.0, 58.0, 22.0, 76.0, 45.0, 49.0, 40.0, 22.0, 9.0, 54.0, 36.0, 22.0, 54.0, 45.0, 45.0, 85.0, 76.0, 58.0, 27.0, 54.0, 58.0, 36.0, 49.0, 45.0, 31.0, 22.0, 45.0, 54.0, 45.0, 49.0, 36.0, 80.0, 49.0, 22.0, 31.0, 45.0, 27.0, 54.0, 63.0, 22.0, 36.0, 18.0, 67.0, 18.0, 22.0, 13.0, 40.0, 22.0, 49.0, 76.0, 31.0, 72.0, 40.0, 49.0, 31.0, 27.0, 22.0, 31.0, 36.0, 54.0, 22.0, 36.0, 36.0, 27.0, 31.0, 22.0, 45.0, 27.0, 45.0, 40.0, 45.0, 27.0, 18.0, 45.0, 49.0, 22.0, 22.0, 58.0, 54.0, 18.0, 31.0, 49.0, 49.0, 31.0, 31.0, 36.0, 31.0, 36.0, 27.0, 54.0, 58.0, 49.0, 40.0, 54.0, 31.0, 31.0, 54.0, 36.0, 40.0, 31.0, 54.0, 31.0, 27.0, 40.0, 40.0, 31.0, 40.0, 22.0, 63.0, 45.0, 27.0, 22.0, 36.0, 22.0, 40.0, 22.0, 27.0, 49.0, 36.0, 54.0, 54.0, 31.0, 22.0, 49.0, 9.0, 72.0, 36.0, 18.0, 40.0, 22.0, 22.0, 49.0, 40.0, 22.0, 54.0, 85.0, 36.0, 9.0, 76.0, 22.0, 45.0, 31.0, 45.0, 31.0, 54.0, 58.0, 58.0, 76.0, 72.0, 63.0, 36.0, 40.0, 22.0, 45.0, 58.0, 36.0, 18.0, 31.0, 18.0, 67.0, 13.0, 49.0, 45.0, 13.0, 54.0, 54.0, 18.0, 22.0, 31.0, 49.0, 22.0, 36.0, 54.0, 18.0, 22.0, 45.0, 40.0, 36.0, 36.0, 40.0, 40.0, 40.0, 18.0, 36.0, 54.0, 58.0, 58.0, 45.0, 94.0, 54.0, 63.0, 22.0, 76.0, 49.0, 31.0, 22.0, 54.0, 76.0, 18.0, 85.0, 63.0, 36.0, 27.0, 67.0, 18.0, 27.0, 76.0, 27.0, 67.0, 85.0, 45.0, 76.0, 76.0, 58.0, 67.0, 18.0, 54.0, 49.0, 85.0, 18.0, 54.0, 45.0, 45.0, 36.0, 63.0, 18.0, 18.0, 27.0, 49.0, 31.0, 54.0, 40.0, 22.0, 58.0, 72.0, 94.0, 76.0, 54.0, 45.0, 45.0, 27.0, 40.0, 31.0, 80.0, 54.0, 49.0, 45.0, 22.0, 36.0, 45.0, 36.0, 94.0, 9.0, 58.0, 76.0, 49.0, 58.0, 36.0, 63.0, 63.0, 49.0, 58.0, 31.0, 31.0, 49.0, 31.0, 85.0, 31.0, 40.0, 49.0, 27.0, 18.0, 49.0, 31.0, 31.0, 49.0, 58.0, 36.0, 54.0, 45.0, 22.0, 22.0, 27.0, 45.0, 18.0, 9.0, 31.0, 45.0, 40.0, 22.0, 36.0, 22.0, 36.0, 22.0, 27.0, 31.0, 22.0, 13.0, 49.0, 18.0, 49.0, 27.0, 80.0, 31.0, 54.0, 54.0, 9.0, 13.0, 18.0, 76.0, 22.0, 45.0, 22.0, 49.0, 40.0, 22.0, 22.0, 4.0, 54.0, 54.0, 13.0, 22.0, 40.0, 63.0, 13.0, 85.0, 76.0, 76.0, 22.0, 49.0, 54.0, 22.0, 18.0, 31.0, 40.0, 49.0, 40.0, 80.0, 63.0, 49.0, 40.0, 27.0, 63.0, 31.0, 27.0, 63.0, 45.0, 27.0, 67.0, 27.0, 49.0, 36.0, 54.0, 67.0, 9.0, 45.0, 45.0, 45.0, 18.0, 45.0, 9.0, 54.0, 76.0, 40.0, 9.0, 36.0, 22.0, 40.0, 40.0, 22.0, 49.0, 31.0, 49.0, 31.0, 49.0, 45.0, 13.0, 45.0, 45.0, 36.0, 13.0, 40.0, 85.0, 18.0, 49.0, 40.0, 40.0, 22.0, 94.0, 40.0, 40.0, 63.0, 40.0, 58.0, 58.0, 22.0, 31.0, 22.0, 85.0, 22.0, 31.0, 31.0, 58.0, 94.0, 31.0, 45.0, 18.0, 40.0, 31.0, 45.0, 22.0, 40.0, 36.0, 54.0, 40.0, 76.0, 27.0, 31.0, 31.0, 58.0, 45.0, 27.0, 45.0, 63.0, 22.0, 54.0, 31.0, 31.0, 18.0, 18.0, 67.0, 63.0, 9.0, 40.0, 31.0, 31.0, 22.0, 27.0, 22.0, 45.0, 22.0, 40.0, 31.0, 22.0, 22.0, 22.0, 54.0, 27.0, 36.0, 22.0, 54.0, 27.0, 13.0, 45.0, 63.0, 27.0, 27.0, 22.0, 22.0, 45.0, 27.0, 40.0, 27.0, 45.0, 45.0, 63.0, 58.0, 31.0, 40.0, 36.0, 58.0, 27.0, 31.0, 27.0, 27.0, 40.0, 22.0, 49.0, 45.0, 40.0, 27.0, 31.0, 36.0, 45.0, 49.0, 36.0, 27.0, 22.0, 31.0, 54.0, 40.0, 85.0, 40.0, 22.0, 85.0, 76.0, 63.0, 13.0, 40.0, 58.0, 58.0, 31.0, 45.0, 18.0, 58.0, 36.0, 45.0, 13.0, 36.0, 31.0, 18.0, 22.0, 31.0, 36.0, 45.0, 27.0, 27.0, 49.0, 22.0, 49.0, 36.0, 36.0, 45.0, 49.0, 80.0, 31.0, 31.0, 27.0, 36.0, 72.0, 31.0, 36.0, 18.0, 54.0, 13.0, 22.0, 49.0, 45.0, 36.0, 31.0, 63.0, 36.0, 40.0, 22.0, 49.0, 36.0, 49.0, 63.0, 13.0, 45.0, 31.0, 49.0, 22.0, 27.0, 13.0, 40.0, 54.0, 63.0, 49.0, 40.0]\n",
            "\n",
            "Random temp samples x10:\n",
            "[283.0, 151.0, 196.0, 211.0, 195.0, 259.0, 46.0, 217.0, 239.0, 246.0, 203.0, 215.0, 204.0, 243.0, 139.0, 189.0, 53.0, 211.0, 278.0, 218.0, 159.0, 196.0, 161.0, 286.0, 193.0, 194.0, 154.0, 203.0, 275.0, 184.0, 147.0, 302.0, 126.0, 268.0, 127.0, 93.0, 262.0, 190.0, 223.0, 323.0, 269.0, 238.0, 197.0, 232.0, 75.0, 224.0, 239.0, 206.0, 189.0, 166.0, 183.0, 238.0, 154.0, 233.0, 166.0, 246.0, 193.0, 216.0, 243.0, 292.0, 206.0, 103.0, 127.0, 143.0, 213.0, 51.0, 248.0, 110.0, 196.0, 240.0, 205.0, 122.0, 178.0, 206.0, 131.0, 208.0, 173.0, 142.0, 208.0, 189.0, 171.0, 190.0, 129.0, 162.0, 268.0, 254.0, 242.0, 138.0, 171.0, 213.0, 196.0, 159.0, 278.0, 242.0, 83.0, 254.0, 22.0, 214.0, 236.0, 212.0, 233.0, 239.0, 246.0, 240.0, 278.0, 146.0, 167.0, 211.0, 196.0, 143.0, 207.0, 67.0, 170.0, 137.0, 51.0, 106.0, 208.0, 233.0, 105.0, 229.0, 133.0, 216.0, 118.0, 171.0, 115.0, 246.0, 173.0, 167.0, 243.0, 225.0, 242.0, 278.0, 198.0, 207.0, 113.0, 182.0, 279.0, 261.0, 178.0, 277.0, 286.0, 194.0, 201.0, 308.0, 170.0, 206.0, 183.0, 196.0, 199.0, 112.0, 156.0, 116.0, 230.0, 248.0, 186.0, 110.0, 177.0, 151.0, 210.0, 189.0, 264.0, 206.0, 186.0, 180.0, 275.0, 194.0, 189.0, 222.0, 249.0, 196.0, 160.0, 199.0, 238.0, 161.0, 233.0, 187.0, 206.0, 196.0, 239.0, 187.0, 147.0, 286.0, 197.0, 242.0, 326.0, 193.0, 103.0, 154.0, 118.0, 208.0, 214.0, 103.0, 179.0, 139.0, 184.0, 139.0, 148.0, 198.0, 203.0, 93.0, 219.0, 176.0, 148.0, 162.0, 82.0, 174.0, 195.0, 171.0, 152.0, 162.0, 241.0, 192.0, 186.0, 127.0, 245.0, 214.0, 306.0, 178.0, 210.0, 22.0, 116.0, 162.0, 206.0, 127.0, 259.0, 133.0, 234.0, 234.0, 182.0, 201.0, 264.0, 264.0, 194.0, 176.0, 227.0, 215.0, 204.0, 182.0, 228.0, 287.0, 201.0, 237.0, 156.0, 278.0, 142.0, 201.0, 170.0, 159.0, 289.0, 207.0, 216.0, 182.0, 216.0, 212.0, 58.0, 278.0, 242.0, 246.0, 158.0, 245.0, 162.0, 80.0, 209.0, 124.0, 129.0, 263.0, 51.0, 197.0, 275.0, 123.0, 233.0, 227.0, 201.0, 172.0, 212.0, 196.0, 238.0, 279.0, 279.0, 152.0, 186.0, 171.0, 51.0, 138.0, 115.0, 255.0, 213.0, 172.0, 177.0, 227.0, 122.0, 183.0, 208.0, 196.0, 192.0, 228.0, 169.0, 237.0, 186.0, 261.0, 234.0, 53.0, 118.0, 101.0, 251.0, 269.0, 180.0, 190.0, 138.0, 229.0, 46.0, 126.0, 196.0, 287.0, 156.0, 214.0, 154.0, 159.0, 67.0, 51.0, 204.0, 154.0, 152.0, 159.0, 262.0, 234.0, 306.0, 82.0, 219.0, 228.0, 180.0, 192.0, 215.0, 326.0, 193.0, 46.0, 116.0, 151.0, 184.0, 263.0, 197.0, 214.0, 228.0, 278.0, 176.0, 203.0, 89.0, 115.0, 139.0, 164.0, 204.0, 171.0, 127.0, 46.0, 241.0, 196.0, 115.0, 221.0, 166.0, 154.0, 227.0, 196.0, 202.0, 227.0, 140.0, 302.0, 193.0, 326.0, 201.0, 174.0, 289.0, 219.0, 302.0, 216.0, 114.0, 83.0, 137.0, 189.0, 256.0, 122.0, 235.0, 178.0, 293.0, 134.0, 254.0, 159.0, 164.0, 137.0, 113.0, 211.0, 194.0, 219.0, 207.0, 194.0, 248.0, 177.0, 222.0, 196.0, 208.0, 179.0, 178.0, 209.0, 196.0, 152.0, 114.0, 167.0, 197.0, 178.0, 253.0, 110.0, 106.0, 233.0, 202.0, 206.0, 231.0, 75.0, 264.0, 180.0, 147.0, 174.0, 226.0, 173.0, 235.0, 257.0, 231.0, 158.0, 75.0, 174.0, 189.0, 179.0, 116.0, 256.0, 132.0, 225.0, 159.0, 228.0, 115.0, 164.0, 159.0, 237.0, 234.0, 203.0, 178.0, 103.0, 182.0, 186.0, 199.0, 174.0, 109.0, 124.0, 149.0, 211.0, 206.0, 242.0, 275.0, 228.0, 174.0, 238.0, 248.0, 237.0, 176.0, 46.0, 264.0, 82.0, 204.0, 113.0, 254.0, 112.0, 237.0, 53.0, 185.0, 139.0, 152.0, 118.0, 196.0, 213.0, 53.0, 167.0, 197.0, 302.0, 159.0, 196.0, 189.0, 113.0, 204.0, 264.0, 187.0, 140.0, 235.0, 106.0, 154.0, 221.0, 128.0, 221.0, 206.0, 292.0, 159.0, 176.0, 201.0, 183.0, 195.0, 88.0, 174.0, 262.0, 233.0, 178.0, 202.0, 159.0, 178.0, 157.0, 227.0, 186.0, 110.0, 235.0, 188.0, 154.0, 231.0, 262.0, 248.0, 182.0, 201.0, 239.0, 174.0, 159.0, 115.0, 117.0, 205.0, 194.0, 146.0, 279.0, 241.0, 168.0, 246.0, 192.0, 115.0, 83.0, 189.0, 256.0, 191.0, 214.0, 106.0, 213.0, 177.0, 177.0, 182.0, 164.0, 239.0, 183.0, 127.0, 242.0, 46.0, 114.0, 190.0, 227.0, 185.0, 222.0, 259.0, 280.0, 238.0, 106.0, 243.0, 207.0, 154.0, 48.0, 201.0, 273.0, 110.0, 195.0, 161.0, 147.0, 166.0, 189.0, 243.0, 215.0, 239.0, 234.0, 221.0, 215.0, 179.0, 206.0, 229.0, 215.0, 179.0, 55.0, 264.0, 208.0, 197.0, 287.0, 118.0, 213.0, 156.0, 283.0, 323.0, 217.0, 182.0, 234.0, 171.0, 51.0, 46.0, 101.0, 242.0, 143.0, 228.0, 164.0, 141.0, 142.0, 179.0, 251.0, 237.0, 180.0, 262.0, 154.0, 173.0, 166.0, 276.0, 155.0, 263.0, 203.0, 167.0, 152.0, 228.0, 193.0, 196.0, 172.0, 110.0, 52.0, 46.0, 205.0, 196.0, 142.0, 176.0, 196.0, 152.0, 146.0, 208.0, 117.0, 197.0, 103.0, 22.0, 179.0, 194.0, 178.0, 262.0, 276.0, 152.0, 241.0, 154.0, 149.0, 333.0, 166.0, 238.0, 234.0, 217.0, 129.0, 154.0, 203.0, 142.0, 154.0, 112.0, 53.0, 114.0, 172.0, 142.0, 190.0, 230.0, 195.0, 246.0, 154.0, 162.0, 104.0, 243.0, 215.0, 160.0, 202.0, 90.0, 218.0, 147.0, 243.0, 159.0, 238.0, 196.0, 157.0, 113.0, 263.0, 234.0, 194.0, 204.0, 154.0, 253.0, 174.0, 138.0, 234.0, 207.0, 90.0, 188.0, 204.0, 133.0, 226.0, 158.0, 211.0, 177.0, 159.0, 214.0, 219.0, 182.0, 198.0, 159.0, 198.0, 115.0, 58.0, 159.0, 264.0, 154.0, 211.0, 206.0, 46.0, 259.0, 195.0, 210.0, 268.0, 221.0, 296.0, 242.0, 124.0, 161.0, 201.0, 215.0, 268.0, 52.0, 51.0, 163.0, 184.0, 246.0, 103.0, 219.0, 187.0, 190.0, 207.0, 191.0, 243.0, 198.0, 112.0, 171.0, 211.0, 168.0, 53.0, 122.0, 279.0, 246.0, 174.0, 219.0, 282.0, 278.0, 112.0, 280.0, 201.0, 253.0, 204.0, 276.0, 177.0, 242.0, 212.0, 189.0, 235.0, 280.0, 205.0, 196.0, 196.0, 239.0, 89.0, 170.0, 210.0, 241.0, 58.0, 129.0, 235.0, 159.0, 269.0, 221.0, 154.0, 162.0, 176.0, 287.0, 207.0, 201.0, 204.0, 203.0, 205.0, 164.0, 162.0, 310.0, 184.0, 269.0, 188.0, 168.0, 174.0, 234.0, 239.0, 52.0, 191.0, 221.0, 163.0, 106.0, 191.0, 239.0, 218.0, 241.0, 218.0, 248.0, 164.0, 239.0, 210.0, 207.0, 186.0, 177.0, 219.0, 248.0, 248.0, 51.0, 140.0, 267.0, 134.0, 246.0, 238.0, 189.0, 192.0, 189.0, 101.0, 182.0, 178.0, 202.0, 142.0, 122.0, 192.0, 223.0, 201.0, 154.0, 214.0, 138.0, 143.0, 83.0, 154.0, 172.0, 248.0, 101.0, 178.0, 180.0, 206.0, 196.0, 191.0, 254.0, 137.0, 188.0, 93.0, 123.0, 101.0, 207.0, 181.0, 161.0, 162.0, 192.0, 197.0, 296.0, 196.0, 268.0, 214.0, 116.0, 211.0, 53.0, 180.0, 207.0, 196.0, 205.0, 203.0, 209.0, 116.0, 134.0, 206.0, 140.0, 182.0, 227.0, 88.0, 46.0, 46.0, 191.0, 211.0, 254.0, 190.0, 155.0, 245.0, 201.0, 224.0, 182.0, 198.0, 48.0, 216.0, 264.0, 48.0, 215.0, 221.0, 132.0, 196.0, 162.0, 51.0, 134.0, 176.0, 154.0, 193.0, 230.0, 167.0, 228.0, 276.0, 152.0, 248.0, 170.0, 201.0, 228.0, 194.0, 214.0, 190.0, 88.0, 228.0, 208.0, 234.0, 180.0, 230.0, 292.0, 168.0, 237.0, 112.0, 123.0, 239.0, 115.0, 216.0, 141.0, 205.0, 186.0, 116.0, 262.0, 275.0, 211.0, 206.0, 241.0, 180.0, 234.0, 210.0, 293.0, 207.0, 268.0, 196.0, 113.0, 234.0, 324.0, 228.0, 231.0, 171.0, 46.0, 58.0, 193.0, 194.0, 145.0, 138.0, 292.0, 53.0, 228.0, 241.0, 168.0, 256.0, 227.0, 219.0, 204.0, 103.0, 137.0, 191.0, 239.0, 196.0, 283.0, 134.0, 184.0, 159.0, 158.0, 243.0, 168.0, 134.0, 236.0, 156.0, 233.0, 191.0, 193.0, 101.0, 124.0, 162.0, 152.0, 289.0, 199.0, 216.0, 105.0, 289.0, 238.0, 162.0, 83.0, 208.0, 257.0, 53.0, 122.0, 213.0, 58.0, 243.0, 162.0, 198.0, 177.0, 190.0, 182.0, 228.0, 138.0, 164.0, 302.0, 214.0, 75.0, 154.0, 224.0, 212.0, 183.0, 275.0, 173.0, 159.0, 216.0, 264.0, 182.0, 138.0, 241.0, 228.0, 176.0, 310.0, 137.0, 212.0, 237.0, 147.0, 201.0, 166.0, 168.0, 152.0, 268.0, 242.0, 124.0, 156.0, 129.0, 167.0, 206.0, 232.0, 302.0, 264.0, 162.0, 132.0, 154.0, 242.0, 208.0, 302.0, 93.0, 164.0, 222.0, 201.0, 216.0, 230.0, 211.0, 208.0, 215.0, 237.0, 246.0, 233.0, 178.0, 189.0, 293.0, 245.0, 184.0, 167.0, 113.0, 152.0, 194.0, 189.0, 83.0, 253.0, 51.0, 127.0, 186.0, 206.0, 171.0, 226.0, 164.0, 227.0, 127.0, 229.0, 206.0, 249.0, 166.0, 283.0, 207.0, 276.0, 331.0, 268.0, 223.0, 113.0, 219.0, 248.0, 219.0, 171.0, 219.0, 331.0, 114.0, 248.0, 88.0, 171.0, 251.0, 212.0, 168.0, 224.0, 216.0, 243.0, 264.0, 52.0, 185.0, 195.0, 302.0, 145.0, 268.0, 302.0, 203.0, 83.0, 170.0, 209.0, 176.0, 166.0, 112.0, 204.0, 188.0, 206.0, 269.0, 142.0, 242.0, 229.0, 146.0, 206.0, 233.0, 228.0, 101.0, 168.0, 280.0, 251.0, 118.0, 110.0, 229.0, 174.0, 198.0, 206.0, 191.0, 162.0, 189.0, 253.0, 164.0, 194.0, 264.0, 232.0, 174.0, 227.0, 148.0, 279.0, 231.0, 194.0, 241.0, 146.0, 183.0, 213.0, 259.0, 129.0, 116.0, 213.0, 186.0, 268.0, 174.0, 188.0, 152.0, 234.0, 204.0, 199.0, 114.0, 173.0, 187.0, 216.0, 191.0, 234.0, 221.0, 110.0, 193.0, 172.0, 127.0, 180.0, 232.0, 241.0, 225.0, 233.0, 193.0, 190.0, 233.0, 189.0, 186.0, 261.0, 207.0, 178.0, 197.0, 203.0, 186.0, 248.0, 174.0, 238.0, 214.0, 178.0, 209.0, 115.0, 142.0, 219.0, 80.0, 177.0, 245.0, 173.0, 216.0, 214.0, 105.0, 204.0, 228.0, 306.0, 226.0, 146.0, 217.0, 280.0, 219.0, 179.0, 176.0, 198.0, 310.0, 187.0, 162.0, 210.0, 147.0, 277.0, 177.0, 199.0, 236.0, 143.0, 196.0, 283.0, 187.0, 235.0, 190.0, 216.0, 227.0, 264.0, 154.0, 101.0, 232.0, 176.0, 192.0, 147.0, 157.0, 137.0, 113.0, 240.0, 112.0, 176.0, 182.0, 268.0, 75.0, 251.0, 259.0, 215.0, 254.0, 257.0, 242.0, 131.0, 196.0, 182.0, 164.0, 206.0, 184.0, 123.0, 243.0, 212.0, 198.0, 228.0, 116.0, 53.0, 168.0, 224.0, 190.0, 139.0, 46.0, 211.0, 147.0, 228.0, 273.0, 112.0, 183.0, 215.0, 223.0, 116.0, 201.0, 204.0, 184.0, 229.0, 219.0, 193.0, 235.0, 106.0, 245.0, 154.0, 152.0, 162.0, 206.0, 194.0, 164.0, 109.0, 172.0, 167.0, 140.0, 249.0, 138.0, 204.0, 190.0, 184.0, 217.0, 253.0, 293.0, 199.0, 203.0, 215.0, 168.0, 179.0, 116.0, 279.0, 212.0, 206.0, 115.0, 216.0, 256.0, 174.0, 227.0, 198.0, 159.0, 159.0, 193.0, 184.0, 75.0, 191.0, 216.0, 138.0, 142.0, 211.0, 129.0, 224.0, 282.0, 124.0, 230.0, 53.0, 174.0, 180.0, 202.0, 176.0, 209.0, 234.0, 139.0, 240.0, 184.0, 210.0, 192.0, 202.0, 53.0, 51.0, 308.0, 308.0, 279.0, 279.0, 208.0, 219.0, 176.0, 138.0, 246.0, 101.0, 242.0, 182.0, 143.0, 230.0, 144.0, 222.0, 51.0, 106.0, 162.0, 192.0, 173.0, 264.0, 229.0, 164.0, 168.0, 117.0, 134.0, 177.0, 226.0, 131.0, 248.0, 51.0, 182.0, 162.0, 187.0, 296.0, 147.0, 182.0, 168.0, 331.0, 209.0, 249.0, 82.0, 152.0, 106.0, 239.0, 106.0, 152.0, 152.0, 177.0, 113.0, 186.0, 103.0, 116.0, 326.0, 196.0, 177.0, 190.0, 166.0, 210.0, 131.0, 159.0, 154.0, 191.0, 168.0, 182.0, 254.0, 233.0, 158.0, 207.0, 326.0, 88.0, 207.0, 187.0, 230.0, 191.0, 213.0, 326.0, 105.0, 259.0, 89.0, 204.0, 159.0, 207.0, 232.0, 206.0, 195.0, 259.0, 110.0, 204.0, 189.0, 155.0, 278.0, 237.0, 124.0, 106.0, 239.0, 158.0, 180.0, 173.0, 133.0, 176.0, 152.0, 201.0, 144.0, 212.0, 222.0, 169.0, 155.0, 127.0, 102.0, 203.0, 67.0, 287.0, 196.0, 102.0, 159.0, 202.0, 154.0, 162.0, 278.0, 326.0, 131.0, 240.0, 157.0, 161.0, 167.0, 22.0, 207.0, 51.0, 166.0, 219.0, 203.0, 227.0, 219.0, 186.0, 122.0, 206.0, 106.0, 166.0, 185.0, 46.0, 287.0, 184.0, 176.0, 204.0, 326.0, 189.0, 235.0, 182.0, 93.0, 124.0, 184.0, 243.0, 193.0, 51.0, 253.0, 182.0, 167.0, 229.0, 211.0, 124.0, 137.0, 174.0, 237.0, 161.0, 172.0, 228.0, 178.0, 201.0, 116.0, 194.0, 215.0, 174.0, 287.0, 169.0, 208.0, 324.0, 248.0, 179.0, 229.0, 186.0, 194.0, 263.0, 168.0, 144.0, 113.0, 274.0, 159.0, 155.0, 137.0, 134.0, 118.0, 51.0, 152.0, 162.0, 137.0, 176.0, 211.0, 132.0, 168.0, 154.0, 190.0, 204.0, 308.0, 208.0, 55.0, 228.0, 253.0, 259.0, 206.0, 205.0, 308.0, 208.0, 203.0, 190.0, 178.0, 188.0, 103.0, 152.0, 179.0, 46.0, 156.0, 278.0, 46.0, 280.0, 196.0, 242.0, 235.0, 162.0, 221.0, 234.0, 193.0, 52.0, 275.0, 168.0, 242.0, 190.0, 193.0, 176.0, 162.0, 254.0, 269.0, 115.0, 154.0, 239.0, 218.0, 101.0, 245.0, 127.0, 166.0, 278.0, 148.0, 188.0, 239.0, 224.0, 134.0, 238.0, 231.0, 198.0, 206.0, 168.0, 206.0, 275.0, 187.0, 186.0, 137.0, 212.0, 268.0, 249.0, 242.0, 203.0, 158.0, 264.0, 259.0, 104.0, 178.0, 246.0, 206.0, 157.0, 166.0, 146.0, 176.0, 167.0, 268.0, 186.0, 233.0, 118.0, 171.0, 217.0, 67.0, 82.0, 205.0, 75.0, 196.0, 46.0, 115.0, 208.0, 219.0, 219.0, 277.0, 292.0, 162.0, 189.0, 243.0, 292.0, 211.0, 168.0, 230.0, 234.0, 192.0, 191.0, 146.0, 203.0, 208.0, 182.0, 221.0, 149.0, 186.0, 164.0, 216.0, 195.0, 287.0, 225.0, 159.0, 191.0, 189.0, 154.0, 207.0, 110.0, 282.0, 177.0, 167.0, 46.0, 208.0, 326.0, 201.0, 166.0, 106.0, 215.0, 234.0, 182.0, 193.0, 157.0, 164.0, 93.0, 110.0, 116.0, 180.0, 228.0, 245.0, 279.0, 246.0, 211.0, 189.0, 145.0, 191.0, 213.0, 161.0, 256.0, 147.0, 75.0, 207.0, 142.0, 223.0, 186.0, 243.0, 162.0, 228.0, 171.0, 162.0, 283.0, 194.0, 308.0, 147.0, 208.0, 239.0, 189.0, 206.0, 186.0, 207.0, 208.0, 93.0, 194.0, 48.0, 149.0, 183.0, 229.0, 148.0, 232.0, 195.0, 232.0, 168.0, 67.0, 292.0, 234.0, 82.0, 214.0, 218.0, 192.0, 242.0, 139.0, 249.0, 118.0, 280.0, 201.0, 193.0, 154.0, 246.0, 67.0, 262.0, 236.0, 197.0, 262.0, 205.0, 242.0, 155.0, 222.0, 115.0, 249.0, 308.0, 178.0, 178.0, 168.0, 191.0, 193.0, 219.0, 176.0, 292.0, 105.0, 206.0, 154.0, 201.0, 219.0, 143.0, 324.0, 46.0, 149.0, 259.0, 115.0, 182.0, 178.0, 242.0, 275.0, 171.0, 239.0, 186.0, 110.0, 148.0, 155.0, 219.0, 87.0, 277.0, 242.0, 210.0, 201.0, 46.0, 159.0, 106.0, 46.0, 233.0, 152.0, 241.0, 123.0, 204.0, 154.0, 248.0, 264.0, 180.0, 101.0, 193.0, 229.0, 268.0, 170.0, 182.0, 171.0, 122.0, 194.0, 215.0, 226.0, 192.0, 219.0, 113.0, 201.0, 229.0, 331.0, 226.0, 230.0, 233.0, 239.0, 221.0, 192.0, 216.0, 248.0, 250.0, 114.0, 118.0, 191.0, 123.0, 216.0, 167.0, 279.0, 237.0, 166.0, 143.0, 164.0, 143.0, 210.0, 216.0, 196.0, 103.0, 46.0, 53.0, 162.0, 216.0, 207.0, 118.0, 211.0, 46.0, 124.0, 212.0, 222.0, 51.0, 83.0, 296.0, 242.0, 216.0, 126.0, 251.0, 144.0, 117.0, 255.0, 152.0, 166.0, 238.0, 214.0, 203.0, 156.0, 154.0, 238.0, 189.0, 106.0, 233.0, 202.0, 198.0, 186.0, 171.0, 253.0, 278.0, 217.0, 82.0, 159.0, 113.0, 191.0, 157.0, 234.0, 116.0, 246.0, 218.0, 46.0, 152.0, 182.0, 98.0, 234.0, 278.0, 105.0, 242.0, 169.0, 142.0, 126.0, 221.0, 170.0, 237.0, 216.0, 168.0, 22.0, 267.0, 269.0, 87.0, 276.0, 223.0, 189.0, 128.0, 127.0, 51.0, 137.0, 197.0, 223.0, 243.0, 134.0, 118.0, 243.0, 152.0, 226.0, 80.0, 184.0, 196.0, 46.0, 174.0, 89.0, 161.0, 146.0, 201.0, 201.0, 152.0, 278.0, 134.0, 179.0, 183.0, 274.0, 110.0, 227.0, 277.0, 166.0, 280.0, 243.0, 269.0, 127.0, 211.0, 208.0, 208.0, 161.0, 188.0, 233.0, 198.0, 174.0, 172.0, 174.0, 239.0, 159.0, 233.0, 246.0, 58.0, 302.0, 171.0, 269.0, 176.0, 178.0, 105.0, 143.0, 147.0, 139.0, 122.0, 124.0, 229.0, 302.0, 156.0, 216.0, 163.0, 117.0, 147.0, 333.0, 152.0, 207.0, 166.0, 211.0, 176.0, 186.0, 241.0, 280.0, 171.0, 53.0, 143.0, 191.0, 124.0, 240.0, 240.0, 248.0, 274.0, 103.0, 171.0, 248.0, 106.0, 202.0, 172.0, 218.0, 219.0, 53.0, 110.0, 141.0, 196.0, 168.0, 237.0, 118.0, 239.0, 287.0, 234.0, 177.0, 51.0, 204.0, 51.0, 205.0, 188.0, 159.0, 306.0, 206.0, 189.0, 134.0, 177.0, 103.0, 227.0, 202.0, 196.0, 248.0, 214.0, 154.0, 22.0, 269.0, 192.0, 242.0, 166.0, 172.0, 75.0, 286.0, 296.0, 189.0, 196.0, 75.0, 190.0, 214.0, 142.0, 179.0, 58.0, 302.0, 222.0, 168.0, 217.0, 152.0, 202.0, 228.0, 243.0, 156.0, 185.0, 264.0, 102.0, 192.0, 182.0, 261.0, 191.0, 193.0, 157.0, 128.0, 189.0, 192.0, 189.0, 189.0, 112.0, 211.0, 212.0, 154.0, 221.0, 237.0, 216.0, 174.0, 118.0, 158.0, 58.0, 228.0, 162.0, 201.0, 296.0, 137.0, 233.0, 273.0, 147.0, 176.0, 141.0, 213.0, 268.0, 267.0, 207.0, 221.0, 142.0, 208.0, 197.0, 249.0, 211.0, 106.0, 243.0, 243.0, 208.0, 239.0, 277.0, 264.0, 101.0, 208.0, 253.0, 168.0, 194.0, 193.0, 246.0, 157.0, 138.0, 187.0, 237.0, 142.0, 202.0, 219.0, 42.0, 152.0, 171.0, 208.0, 166.0, 171.0, 155.0, 206.0, 159.0, 192.0, 167.0, 302.0, 133.0, 207.0, 137.0, 241.0, 243.0, 52.0, 230.0, 128.0, 83.0, 189.0, 287.0, 123.0, 189.0, 158.0, 186.0, 221.0, 257.0, 241.0, 176.0, 180.0, 264.0, 230.0, 89.0, 243.0, 189.0, 147.0, 180.0, 105.0, 124.0, 197.0, 251.0, 147.0, 230.0, 184.0, 168.0, 167.0, 170.0, 194.0, 164.0, 235.0, 221.0, 154.0, 189.0, 235.0, 129.0, 233.0, 196.0, 122.0, 124.0, 147.0, 142.0, 82.0, 196.0, 206.0, 109.0, 158.0, 203.0, 253.0, 152.0, 178.0, 168.0, 154.0, 283.0, 170.0, 241.0, 212.0, 255.0, 133.0, 189.0, 147.0, 139.0, 189.0, 204.0, 186.0, 184.0, 51.0, 161.0, 216.0, 189.0, 195.0, 286.0, 155.0, 161.0, 241.0, 182.0, 238.0, 211.0, 167.0, 191.0, 173.0, 213.0, 253.0, 206.0, 204.0, 127.0, 191.0, 171.0, 213.0, 112.0, 215.0, 183.0, 198.0, 89.0, 116.0, 212.0, 239.0, 212.0, 103.0, 205.0, 196.0, 197.0, 205.0, 155.0, 213.0, 164.0, 208.0, 159.0, 129.0, 127.0, 254.0, 235.0, 206.0, 154.0, 203.0, 51.0, 139.0, 162.0, 191.0, 246.0, 149.0, 189.0, 160.0, 132.0, 277.0, 189.0, 232.0, 192.0, 166.0, 152.0, 134.0, 166.0, 215.0, 219.0, 254.0, 275.0, 189.0, 151.0, 240.0, 204.0, 142.0, 124.0, 204.0, 178.0, 237.0, 253.0, 193.0, 264.0, 184.0, 277.0, 207.0, 182.0, 206.0, 191.0, 196.0, 326.0, 283.0, 88.0, 184.0, 243.0, 168.0, 212.0, 248.0, 333.0, 189.0, 208.0, 182.0, 238.0, 278.0, 190.0, 262.0, 215.0, 171.0, 134.0, 174.0, 114.0, 197.0, 132.0, 174.0, 151.0, 154.0, 184.0, 154.0, 197.0, 259.0, 146.0, 157.0, 259.0, 154.0, 242.0, 170.0, 276.0, 264.0, 106.0, 147.0, 184.0, 186.0, 227.0, 188.0, 233.0, 180.0, 233.0, 264.0, 193.0, 179.0, 224.0, 113.0, 177.0, 221.0, 208.0, 196.0, 167.0, 204.0, 211.0, 176.0, 194.0, 248.0, 308.0, 182.0, 173.0, 112.0, 248.0, 212.0, 216.0, 88.0, 186.0, 239.0, 152.0, 170.0, 211.0, 206.0, 224.0, 228.0, 208.0, 241.0, 203.0, 82.0, 243.0, 155.0, 185.0, 112.0, 101.0, 180.0, 204.0, 137.0, 242.0, 206.0, 118.0, 202.0, 233.0, 196.0, 141.0, 204.0, 174.0, 201.0, 249.0, 174.0, 182.0, 194.0, 176.0, 182.0, 280.0, 137.0, 143.0, 245.0, 168.0, 189.0, 211.0, 164.0, 268.0, 233.0, 207.0, 259.0, 51.0, 129.0, 287.0, 101.0, 228.0, 234.0, 196.0, 174.0, 203.0, 302.0, 234.0, 104.0, 246.0, 221.0, 238.0, 212.0, 168.0, 177.0, 154.0, 168.0, 178.0, 246.0, 202.0, 46.0, 222.0, 203.0, 183.0, 90.0, 223.0, 214.0, 253.0, 182.0, 195.0, 241.0, 166.0, 259.0, 159.0, 227.0, 174.0, 131.0, 196.0, 106.0, 166.0, 230.0, 187.0, 157.0, 256.0, 192.0, 243.0, 234.0, 190.0, 177.0, 170.0, 143.0, 191.0, 159.0, 192.0, 234.0, 173.0, 243.0, 243.0, 67.0, 264.0, 156.0, 278.0, 113.0, 164.0, 196.0, 193.0, 267.0, 209.0, 152.0, 180.0, 217.0, 207.0, 22.0, 246.0, 238.0, 154.0, 191.0, 207.0, 268.0, 157.0, 221.0, 211.0, 178.0, 176.0, 189.0, 51.0, 75.0, 201.0, 67.0, 259.0, 191.0, 256.0, 229.0, 302.0, 159.0, 230.0, 208.0, 268.0, 188.0, 146.0, 219.0, 192.0, 276.0, 203.0, 173.0, 162.0, 262.0, 102.0, 203.0, 110.0, 152.0, 189.0, 233.0, 246.0, 187.0, 191.0, 197.0, 269.0, 216.0, 88.0, 302.0, 109.0, 219.0, 259.0, 222.0, 234.0, 193.0, 138.0, 103.0, 221.0, 123.0, 154.0, 216.0, 113.0, 46.0, 269.0, 237.0, 190.0, 144.0, 199.0, 254.0, 137.0, 276.0, 170.0, 221.0, 195.0, 198.0, 168.0, 129.0, 167.0, 251.0, 192.0, 280.0, 98.0, 226.0, 185.0, 141.0, 310.0, 234.0, 147.0, 124.0, 262.0, 184.0, 310.0, 124.0, 216.0, 217.0, 197.0, 189.0, 196.0, 203.0, 189.0, 187.0, 212.0, 198.0, 204.0, 237.0, 245.0, 189.0, 155.0, 279.0, 253.0, 193.0, 308.0, 267.0, 213.0, 229.0, 196.0, 227.0, 124.0, 229.0, 187.0, 170.0, 262.0, 127.0, 198.0, 202.0, 287.0, 88.0, 219.0, 277.0, 162.0, 159.0, 209.0, 310.0, 201.0, 103.0, 194.0, 134.0, 212.0, 254.0, 138.0, 112.0, 310.0, 223.0, 264.0, 133.0, 211.0, 159.0, 254.0, 189.0, 205.0, 195.0, 219.0, 203.0, 262.0, 137.0, 243.0, 201.0, 264.0, 326.0, 137.0, 166.0, 162.0, 279.0, 101.0, 255.0, 158.0, 183.0, 222.0, 152.0, 204.0, 306.0, 198.0, 310.0, 218.0, 139.0, 110.0, 201.0, 132.0, 159.0, 215.0, 179.0, 238.0, 164.0, 227.0, 237.0, 157.0, 293.0, 219.0, 142.0, 219.0, 104.0, 306.0, 196.0, 216.0, 138.0, 46.0, 122.0, 159.0, 154.0, 180.0, 222.0, 42.0, 221.0, 138.0, 287.0, 53.0, 223.0, 176.0, 143.0, 272.0, 279.0, 241.0, 168.0, 110.0, 223.0, 162.0, 287.0, 116.0, 182.0, 243.0, 115.0, 156.0, 209.0, 147.0, 241.0, 268.0, 134.0, 184.0, 275.0, 280.0, 51.0, 164.0, 206.0, 209.0, 133.0, 235.0, 237.0, 106.0, 233.0, 219.0, 164.0, 51.0, 102.0, 211.0, 229.0, 154.0, 139.0, 324.0, 283.0, 124.0, 222.0, 234.0, 192.0, 188.0, 177.0, 287.0, 234.0, 152.0, 51.0, 180.0, 237.0, 87.0, 162.0, 275.0, 268.0, 126.0, 127.0, 287.0, 127.0, 241.0, 196.0, 89.0, 193.0, 173.0, 207.0, 326.0, 192.0, 204.0, 278.0, 268.0, 273.0, 191.0, 191.0, 186.0, 202.0, 146.0, 237.0, 282.0, 138.0, 227.0, 51.0, 242.0, 264.0, 308.0, 101.0, 228.0, 139.0, 158.0, 233.0, 213.0, 196.0, 229.0, 166.0, 188.0, 159.0, 53.0, 184.0, 115.0, 154.0, 184.0, 152.0, 216.0, 145.0, 158.0, 208.0, 196.0, 207.0, 197.0, 180.0, 206.0, 162.0, 246.0, 115.0, 259.0, 151.0, 232.0, 234.0, 228.0, 207.0, 162.0, 302.0, 219.0, 223.0, 139.0, 215.0, 206.0, 302.0, 241.0, 236.0, 280.0, 88.0, 293.0, 106.0, 193.0, 267.0, 194.0, 214.0, 52.0, 51.0, 110.0, 204.0, 182.0, 196.0, 195.0, 170.0, 170.0, 212.0, 159.0, 241.0, 204.0, 204.0, 227.0, 171.0, 144.0, 159.0, 142.0, 181.0, 88.0, 162.0, 142.0, 250.0, 189.0, 197.0, 202.0, 223.0, 167.0, 185.0, 234.0, 190.0, 46.0, 154.0, 46.0, 182.0, 144.0, 275.0, 229.0, 191.0, 264.0, 139.0, 208.0, 164.0, 254.0, 215.0, 158.0, 275.0, 219.0, 226.0, 129.0, 188.0, 42.0, 166.0, 154.0, 279.0, 242.0, 133.0, 196.0, 144.0, 170.0, 116.0, 155.0, 257.0, 142.0, 289.0, 302.0, 217.0, 87.0, 177.0, 196.0, 268.0, 227.0, 206.0, 225.0, 241.0, 275.0, 93.0, 51.0, 245.0, 207.0, 278.0, 144.0, 110.0, 222.0, 246.0, 191.0, 159.0, 82.0, 157.0, 116.0, 216.0, 199.0, 216.0, 143.0, 143.0, 224.0, 202.0, 323.0, 246.0, 218.0, 194.0, 51.0, 255.0, 53.0, 194.0, 144.0, 224.0, 55.0, 217.0, 174.0, 115.0, 186.0, 199.0, 113.0, 248.0, 204.0, 180.0, 280.0, 178.0, 144.0, 180.0, 164.0, 139.0, 228.0, 178.0, 191.0, 114.0, 213.0, 112.0, 109.0, 193.0, 167.0, 154.0, 272.0, 232.0, 214.0, 287.0, 157.0, 201.0, 138.0, 161.0, 282.0, 122.0, 275.0, 202.0, 282.0, 243.0, 279.0, 193.0, 276.0, 233.0, 152.0, 230.0, 237.0, 168.0, 324.0, 184.0, 205.0, 228.0, 205.0, 124.0, 216.0, 106.0, 273.0, 214.0, 149.0, 173.0, 191.0, 210.0, 210.0, 113.0, 259.0, 201.0, 196.0, 217.0, 171.0, 209.0, 174.0, 147.0, 193.0, 241.0, 93.0, 193.0, 155.0, 219.0, 184.0, 193.0, 114.0, 67.0, 221.0, 141.0, 242.0, 243.0, 268.0, 202.0, 67.0, 264.0, 237.0, 154.0, 189.0, 302.0, 164.0, 178.0, 239.0, 124.0, 278.0, 178.0, 215.0, 245.0, 201.0, 217.0, 275.0, 254.0, 182.0, 191.0, 188.0, 202.0, 176.0, 269.0, 168.0, 174.0, 46.0, 227.0, 219.0, 219.0, 191.0, 257.0, 42.0, 142.0, 234.0, 113.0, 51.0, 154.0, 219.0, 276.0, 87.0, 203.0, 208.0, 88.0, 259.0, 163.0, 178.0, 213.0, 242.0, 211.0, 253.0, 237.0, 231.0, 184.0, 239.0, 227.0, 166.0, 203.0, 172.0, 194.0, 127.0, 48.0, 180.0, 174.0, 193.0, 204.0, 171.0, 193.0, 234.0, 102.0, 127.0, 190.0, 167.0, 152.0, 198.0, 212.0, 233.0, 180.0, 213.0, 212.0, 203.0, 241.0, 166.0, 236.0, 178.0, 180.0, 229.0, 179.0, 174.0, 187.0, 201.0, 117.0, 139.0, 156.0, 243.0, 154.0, 201.0, 46.0, 264.0, 233.0, 75.0, 214.0, 42.0, 228.0, 201.0, 180.0, 218.0, 186.0, 206.0, 216.0, 178.0, 75.0, 197.0, 151.0, 236.0, 239.0, 324.0, 180.0, 46.0, 219.0, 176.0, 118.0, 58.0, 183.0, 216.0, 238.0, 152.0, 202.0, 67.0, 168.0, 176.0, 129.0, 267.0, 210.0, 213.0, 282.0, 46.0, 222.0, 194.0, 302.0, 206.0, 204.0, 195.0, 233.0, 170.0, 159.0, 132.0, 174.0, 93.0, 326.0, 231.0, 199.0, 207.0, 183.0, 118.0, 179.0, 206.0, 164.0, 156.0, 237.0, 193.0, 248.0, 208.0, 215.0, 164.0, 141.0, 230.0, 207.0, 124.0, 152.0, 213.0, 133.0, 190.0, 209.0, 213.0, 212.0, 264.0, 82.0, 196.0, 278.0, 232.0, 137.0, 173.0, 268.0, 225.0, 172.0, 184.0, 173.0, 162.0, 192.0, 208.0, 137.0, 155.0, 174.0, 209.0, 274.0, 219.0, 188.0, 219.0, 259.0, 182.0, 174.0, 242.0, 194.0, 75.0, 161.0, 207.0, 188.0, 241.0, 185.0, 224.0, 178.0, 216.0, 118.0, 217.0, 214.0, 112.0, 110.0, 116.0, 289.0, 241.0, 180.0, 278.0, 308.0, 235.0, 198.0, 88.0, 88.0, 217.0, 208.0, 170.0, 51.0, 193.0, 201.0, 259.0, 248.0, 216.0, 173.0, 82.0, 310.0, 124.0, 323.0, 180.0, 98.0, 217.0, 58.0, 185.0, 193.0, 194.0, 232.0, 324.0, 179.0, 204.0, 207.0, 202.0, 253.0, 106.0, 164.0, 192.0, 241.0, 109.0, 208.0, 53.0, 206.0, 191.0, 199.0, 221.0, 253.0, 263.0, 233.0, 239.0, 171.0, 239.0, 219.0, 221.0, 182.0, 142.0, 104.0, 188.0, 215.0, 192.0, 242.0, 326.0, 152.0, 216.0, 207.0, 214.0, 205.0, 215.0, 129.0, 211.0, 215.0, 178.0, 159.0, 159.0, 333.0, 80.0, 233.0, 133.0, 168.0, 194.0, 218.0, 273.0, 122.0, 172.0, 170.0, 191.0, 229.0, 197.0, 93.0, 208.0, 201.0, 124.0, 196.0, 88.0, 156.0, 233.0, 182.0, 189.0, 143.0, 197.0, 53.0, 216.0, 234.0, 324.0, 152.0, 201.0, 195.0, 201.0, 236.0, 216.0, 158.0, 186.0, 51.0, 264.0, 198.0, 241.0, 147.0, 241.0, 211.0, 228.0, 46.0, 154.0, 238.0, 269.0, 101.0, 155.0, 219.0, 192.0, 182.0, 22.0, 196.0, 170.0, 233.0, 187.0, 239.0, 287.0, 216.0, 198.0, 243.0, 185.0, 112.0, 296.0, 184.0, 103.0, 134.0, 166.0, 188.0, 259.0, 204.0, 240.0, 182.0, 234.0, 222.0, 194.0, 239.0, 110.0, 243.0, 193.0, 324.0, 207.0, 213.0, 82.0, 234.0, 213.0, 207.0, 168.0, 254.0, 211.0, 42.0, 154.0, 143.0, 182.0, 53.0, 186.0, 232.0, 177.0, 127.0, 238.0, 146.0, 216.0, 277.0, 282.0, 123.0, 51.0, 172.0, 216.0, 104.0, 113.0, 160.0, 221.0, 124.0, 188.0, 243.0, 240.0, 254.0, 201.0, 198.0, 166.0, 223.0, 196.0, 126.0, 189.0, 201.0, 248.0, 225.0, 204.0, 191.0, 202.0, 229.0, 239.0, 224.0, 141.0, 280.0, 232.0, 248.0, 243.0, 174.0, 114.0, 228.0, 186.0, 229.0, 302.0, 51.0, 193.0, 103.0, 206.0, 116.0, 46.0, 187.0, 201.0, 280.0, 176.0, 196.0, 275.0, 278.0, 206.0, 215.0, 178.0, 161.0, 162.0, 259.0, 204.0, 242.0, 101.0, 234.0, 147.0, 302.0, 171.0, 67.0, 206.0, 239.0, 162.0, 209.0, 118.0, 202.0, 188.0, 246.0, 174.0, 217.0, 218.0, 174.0, 177.0, 212.0, 302.0, 219.0, 116.0, 213.0, 234.0, 250.0, 238.0, 148.0, 162.0, 167.0, 264.0, 171.0, 249.0, 87.0, 82.0, 158.0, 104.0, 211.0, 139.0, 267.0, 198.0, 75.0, 143.0, 278.0, 192.0, 222.0, 194.0, 104.0, 267.0, 138.0, 225.0, 129.0, 204.0, 279.0, 133.0, 234.0, 157.0, 117.0, 207.0, 242.0, 208.0, 191.0, 156.0, 141.0, 221.0, 209.0, 141.0, 202.0, 214.0, 124.0, 53.0, 131.0, 182.0, 142.0, 181.0, 227.0, 206.0, 188.0, 58.0, 253.0, 89.0, 169.0, 51.0, 210.0, 192.0, 155.0, 174.0, 253.0, 259.0, 189.0, 201.0, 212.0, 158.0, 233.0, 168.0, 259.0, 174.0, 187.0, 213.0, 170.0, 243.0, 188.0, 213.0, 197.0, 233.0, 129.0, 158.0, 138.0, 286.0, 42.0, 227.0, 122.0, 280.0, 172.0, 202.0, 182.0, 80.0, 109.0, 148.0, 146.0, 167.0, 213.0, 204.0, 232.0, 146.0, 233.0, 333.0, 113.0, 174.0, 46.0, 207.0, 234.0, 232.0, 89.0, 53.0, 286.0, 154.0, 198.0, 215.0, 188.0, 154.0, 106.0, 213.0, 231.0, 126.0, 253.0, 210.0, 170.0, 280.0, 264.0, 163.0, 229.0, 219.0, 272.0, 214.0, 209.0, 191.0, 144.0, 168.0, 147.0, 174.0, 216.0, 190.0, 177.0, 202.0, 178.0, 90.0, 137.0, 42.0, 204.0, 251.0, 101.0, 46.0, 182.0, 82.0, 152.0, 237.0, 176.0, 259.0, 231.0, 206.0, 242.0, 192.0, 233.0, 191.0, 279.0, 221.0, 264.0, 51.0, 308.0, 229.0, 191.0, 222.0, 190.0, 158.0, 168.0, 147.0, 176.0, 229.0, 224.0, 196.0, 83.0, 172.0, 148.0, 234.0, 168.0, 246.0, 170.0, 194.0, 243.0, 208.0, 48.0, 173.0, 259.0, 229.0, 173.0, 243.0, 310.0, 184.0, 143.0, 51.0, 197.0, 198.0, 167.0, 230.0, 216.0, 224.0, 193.0, 206.0, 323.0, 207.0, 191.0, 193.0, 154.0, 192.0, 203.0, 268.0, 331.0, 228.0, 142.0, 289.0, 193.0, 159.0, 124.0, 232.0, 223.0, 203.0, 156.0, 115.0, 253.0, 216.0, 189.0, 211.0, 192.0, 51.0, 82.0, 98.0, 155.0, 264.0, 248.0, 207.0, 185.0, 164.0, 146.0, 109.0, 268.0, 192.0, 241.0, 110.0, 203.0, 189.0, 196.0, 212.0, 174.0, 137.0, 243.0, 232.0, 159.0, 259.0, 193.0, 198.0, 195.0, 243.0, 293.0, 166.0, 134.0, 234.0, 192.0, 206.0, 326.0, 186.0, 178.0, 302.0, 187.0, 178.0, 157.0, 158.0, 133.0, 218.0, 234.0, 154.0, 189.0, 118.0, 189.0, 230.0, 236.0, 46.0, 83.0, 278.0, 207.0, 237.0, 166.0, 182.0, 183.0, 215.0, 237.0, 187.0, 170.0, 82.0, 192.0, 268.0, 168.0, 156.0, 218.0, 152.0, 55.0, 177.0, 177.0, 171.0, 112.0, 103.0, 211.0, 296.0, 110.0, 210.0, 221.0, 146.0, 272.0, 246.0, 172.0, 134.0, 154.0, 204.0, 166.0, 269.0, 138.0, 174.0, 145.0, 242.0, 133.0, 206.0, 196.0, 143.0, 170.0, 158.0, 101.0, 269.0, 282.0, 174.0, 46.0, 115.0, 204.0, 187.0, 264.0, 110.0, 201.0, 212.0, 166.0, 196.0, 204.0, 234.0, 164.0, 179.0, 75.0, 228.0, 182.0, 51.0, 196.0, 215.0, 67.0, 159.0, 293.0, 182.0, 228.0, 166.0, 140.0, 189.0, 177.0, 171.0, 211.0, 246.0, 177.0, 80.0, 206.0, 154.0, 139.0, 219.0, 83.0, 238.0, 180.0, 122.0, 197.0, 173.0, 302.0, 152.0, 198.0, 152.0, 132.0, 275.0, 162.0, 182.0, 176.0, 249.0, 115.0, 204.0, 243.0, 259.0, 188.0, 178.0, 239.0, 235.0, 217.0, 174.0, 162.0, 242.0, 191.0, 182.0, 147.0, 276.0, 158.0, 204.0, 306.0, 196.0, 250.0, 241.0, 197.0, 217.0, 253.0, 206.0, 267.0, 164.0, 104.0, 230.0, 268.0, 134.0, 197.0, 221.0, 216.0, 164.0, 184.0, 197.0, 152.0, 161.0, 180.0, 268.0, 112.0, 246.0, 208.0, 42.0, 181.0, 146.0, 154.0, 201.0, 234.0, 234.0, 212.0, 177.0, 240.0, 124.0, 192.0, 53.0, 205.0, 103.0, 126.0, 178.0, 197.0, 269.0, 280.0, 178.0, 196.0, 228.0, 213.0, 206.0, 217.0, 176.0, 212.0, 228.0, 233.0, 221.0, 213.0, 163.0, 243.0, 168.0, 116.0, 186.0, 226.0, 208.0, 148.0, 206.0, 160.0, 98.0, 229.0, 208.0, 204.0, 237.0, 229.0, 183.0, 206.0, 215.0, 193.0, 178.0, 253.0, 206.0, 178.0, 278.0, 176.0, 207.0, 204.0, 173.0, 167.0, 196.0, 53.0, 154.0, 276.0, 138.0, 143.0, 147.0, 241.0, 203.0, 90.0, 172.0, 324.0, 259.0, 207.0, 253.0, 139.0, 116.0, 253.0, 241.0, 174.0, 213.0, 134.0, 225.0, 115.0, 227.0, 240.0, 241.0, 162.0, 241.0, 147.0, 132.0, 203.0, 142.0, 159.0, 58.0, 209.0, 142.0, 159.0, 198.0, 138.0, 178.0, 182.0, 176.0, 208.0, 296.0, 216.0, 278.0, 131.0, 239.0, 142.0, 82.0, 212.0, 196.0, 174.0, 154.0, 211.0, 206.0, 249.0, 156.0, 216.0, 224.0, 219.0, 230.0, 193.0, 246.0, 195.0, 188.0, 204.0, 246.0, 264.0, 193.0, 278.0, 310.0, 184.0, 159.0, 214.0, 146.0, 46.0, 242.0, 228.0, 110.0, 169.0, 168.0, 115.0, 154.0, 261.0, 292.0, 172.0, 122.0, 211.0, 229.0, 46.0, 177.0, 53.0, 207.0, 198.0, 170.0, 113.0, 201.0, 204.0, 250.0, 83.0, 170.0, 171.0, 269.0, 206.0, 191.0, 197.0, 208.0, 216.0, 216.0, 268.0, 259.0, 203.0, 133.0, 248.0, 196.0, 152.0, 226.0, 232.0, 182.0, 189.0, 201.0, 159.0, 116.0, 124.0, 193.0, 159.0, 228.0, 154.0, 196.0, 174.0, 177.0, 287.0, 174.0, 308.0, 204.0, 189.0, 292.0, 103.0, 194.0, 199.0, 237.0, 253.0, 292.0, 103.0, 112.0, 82.0, 292.0, 124.0, 193.0, 272.0, 278.0, 124.0, 217.0, 263.0, 228.0, 190.0, 185.0, 201.0, 103.0, 42.0, 207.0, 199.0, 193.0, 141.0, 112.0, 178.0, 117.0, 88.0, 243.0, 249.0, 242.0, 169.0, 246.0, 51.0, 259.0, 223.0, 51.0, 198.0, 151.0, 233.0, 215.0, 158.0, 283.0, 199.0, 228.0, 208.0, 199.0, 171.0, 249.0, 196.0, 257.0, 134.0, 124.0, 233.0, 283.0, 248.0, 253.0, 324.0, 53.0, 176.0, 151.0, 170.0, 110.0, 241.0, 177.0, 171.0, 208.0, 224.0, 193.0, 199.0, 156.0, 286.0, 210.0, 189.0, 242.0, 127.0, 216.0, 195.0, 189.0, 217.0, 46.0, 207.0, 145.0, 201.0, 242.0, 177.0, 142.0, 203.0, 214.0, 212.0, 204.0, 143.0, 180.0, 222.0, 191.0, 110.0, 103.0, 46.0, 103.0, 22.0, 51.0, 104.0, 246.0, 207.0, 306.0, 51.0, 229.0, 223.0, 46.0, 197.0, 170.0, 182.0, 168.0, 268.0, 182.0, 193.0, 251.0, 67.0, 159.0, 174.0, 151.0, 80.0, 256.0, 283.0, 254.0, 234.0, 105.0, 204.0, 302.0, 179.0, 164.0, 192.0, 214.0, 207.0, 191.0, 331.0, 173.0, 177.0, 191.0, 189.0, 191.0, 55.0, 193.0, 308.0, 212.0, 198.0, 80.0, 179.0, 122.0, 75.0, 250.0, 178.0, 204.0, 207.0, 168.0, 262.0, 216.0, 196.0, 237.0, 115.0, 246.0, 227.0, 262.0, 213.0, 131.0, 210.0, 180.0, 231.0, 226.0, 174.0, 192.0, 196.0, 58.0, 124.0, 189.0, 230.0, 235.0, 178.0, 287.0, 172.0, 93.0, 241.0, 243.0, 251.0, 215.0, 186.0, 228.0, 282.0, 248.0, 146.0, 142.0, 238.0, 234.0, 198.0, 168.0, 243.0, 157.0, 233.0, 154.0, 208.0, 194.0, 171.0, 22.0, 180.0, 214.0, 146.0, 194.0, 89.0, 148.0, 198.0, 182.0, 219.0, 216.0, 124.0, 157.0, 283.0, 182.0, 218.0, 90.0, 203.0, 171.0, 173.0, 196.0, 203.0, 259.0, 197.0, 204.0, 229.0, 127.0, 176.0, 143.0, 213.0, 219.0, 249.0, 233.0, 208.0, 251.0, 214.0, 67.0, 166.0, 187.0, 104.0, 234.0, 166.0, 224.0, 234.0, 207.0, 193.0, 106.0, 174.0, 222.0, 113.0, 162.0, 292.0, 110.0, 237.0, 177.0, 88.0, 170.0, 194.0, 246.0, 142.0, 215.0, 293.0, 129.0, 138.0, 219.0, 241.0, 253.0, 209.0, 211.0, 213.0, 147.0, 152.0, 246.0, 117.0, 46.0, 183.0, 193.0, 181.0, 253.0, 196.0, 115.0, 118.0, 219.0, 194.0, 143.0, 278.0, 151.0, 267.0, 246.0, 128.0, 187.0, 214.0, 238.0, 138.0, 241.0, 268.0, 190.0, 204.0, 168.0, 112.0, 166.0, 213.0, 196.0, 170.0, 331.0, 219.0, 256.0, 166.0, 224.0, 218.0, 302.0, 236.0, 231.0, 323.0, 174.0, 242.0, 176.0, 208.0, 229.0, 242.0, 243.0, 196.0, 198.0, 241.0, 171.0, 237.0, 208.0, 202.0, 228.0, 210.0, 154.0, 211.0, 58.0, 156.0, 179.0, 248.0, 170.0, 302.0, 182.0, 189.0, 264.0, 207.0, 230.0, 237.0, 268.0, 115.0, 148.0, 106.0, 213.0, 162.0, 278.0, 134.0, 93.0, 147.0, 145.0, 253.0, 182.0, 204.0, 179.0, 89.0, 48.0, 235.0, 172.0, 194.0, 46.0, 151.0, 308.0, 310.0, 55.0, 201.0, 216.0, 302.0, 230.0, 324.0, 152.0, 192.0, 161.0, 239.0, 142.0, 157.0, 214.0, 286.0, 201.0, 139.0, 229.0, 170.0, 142.0, 162.0, 219.0, 235.0, 216.0, 208.0, 46.0, 146.0, 243.0, 101.0, 194.0, 58.0, 232.0, 211.0, 210.0, 324.0, 89.0, 118.0, 204.0, 198.0, 140.0, 118.0, 189.0, 212.0, 113.0, 228.0, 189.0, 237.0, 193.0, 179.0, 229.0, 196.0, 219.0, 174.0, 179.0, 51.0, 219.0, 248.0, 222.0, 131.0, 210.0, 159.0, 168.0, 193.0, 207.0, 159.0, 230.0, 51.0, 163.0, 196.0, 186.0, 211.0, 174.0, 201.0, 331.0, 243.0, 114.0, 287.0, 172.0, 264.0, 46.0, 210.0, 191.0, 206.0, 174.0, 234.0, 196.0, 112.0, 133.0, 164.0, 278.0, 51.0, 177.0, 221.0, 229.0, 161.0, 192.0, 211.0, 198.0, 193.0, 187.0, 152.0, 127.0, 126.0, 75.0, 117.0, 143.0, 207.0, 193.0, 110.0, 238.0, 308.0, 201.0, 46.0, 245.0, 88.0, 196.0, 157.0, 116.0, 250.0, 230.0, 234.0, 183.0, 178.0, 156.0, 208.0, 242.0, 168.0, 53.0, 207.0, 171.0, 207.0, 189.0, 204.0, 186.0, 206.0, 196.0, 178.0, 164.0, 210.0, 133.0, 214.0, 128.0, 172.0, 191.0, 190.0, 170.0, 106.0, 157.0, 98.0, 178.0, 184.0, 118.0, 168.0, 82.0, 167.0, 278.0, 176.0, 221.0, 178.0, 42.0, 283.0, 222.0, 179.0, 147.0, 174.0, 170.0, 116.0, 176.0, 239.0, 171.0, 293.0, 194.0, 154.0, 205.0, 213.0, 211.0, 186.0, 187.0, 145.0, 114.0, 206.0, 162.0, 199.0, 210.0, 154.0, 239.0, 51.0, 137.0, 182.0, 102.0, 193.0, 242.0, 233.0, 256.0, 191.0, 257.0, 164.0, 75.0, 154.0, 212.0, 170.0, 155.0, 229.0, 132.0, 204.0, 208.0, 333.0, 204.0, 204.0, 88.0, 48.0, 152.0, 242.0, 189.0, 178.0, 142.0, 151.0, 279.0, 237.0, 46.0, 302.0, 195.0, 197.0, 228.0, 143.0, 234.0, 151.0, 217.0, 243.0, 157.0, 192.0, 174.0, 238.0, 216.0, 137.0, 259.0, 218.0, 151.0, 178.0, 264.0, 154.0, 248.0, 53.0, 142.0, 216.0, 188.0, 127.0, 234.0, 264.0, 157.0, 186.0, 203.0, 196.0, 176.0, 166.0, 183.0, 212.0, 227.0, 241.0, 243.0, 139.0, 154.0, 191.0, 227.0, 110.0, 212.0, 204.0, 278.0, 257.0, 158.0, 173.0, 174.0, 287.0, 191.0, 212.0, 246.0, 189.0, 276.0, 138.0, 239.0, 217.0, 133.0, 142.0, 186.0, 233.0, 194.0, 88.0, 224.0, 51.0, 157.0, 211.0, 171.0, 308.0, 283.0, 201.0, 182.0, 278.0, 194.0, 231.0, 158.0, 166.0, 331.0, 164.0, 48.0, 232.0, 173.0, 147.0, 232.0, 192.0, 253.0, 208.0, 267.0, 207.0, 237.0, 221.0, 168.0, 138.0, 106.0, 201.0, 116.0, 214.0, 268.0, 176.0, 215.0, 115.0, 221.0, 127.0, 152.0, 142.0, 145.0, 234.0, 46.0, 238.0, 180.0, 154.0, 279.0, 174.0, 199.0, 204.0, 198.0, 197.0, 154.0, 98.0, 180.0, 264.0, 161.0, 159.0, 106.0, 219.0, 208.0, 155.0, 174.0, 122.0, 326.0, 218.0, 209.0, 133.0, 245.0, 164.0, 116.0, 122.0, 255.0, 241.0, 278.0, 164.0, 216.0, 278.0, 118.0, 235.0, 192.0, 223.0, 173.0, 209.0, 222.0, 146.0, 142.0, 164.0, 241.0, 154.0, 208.0, 264.0, 191.0, 22.0, 197.0, 278.0, 279.0, 293.0, 139.0, 243.0, 196.0, 174.0, 189.0, 112.0, 187.0, 218.0, 187.0, 90.0, 228.0, 58.0, 196.0, 75.0, 51.0, 180.0, 249.0, 323.0, 82.0, 238.0, 53.0, 216.0, 234.0, 302.0, 133.0, 178.0, 213.0, 234.0, 276.0, 116.0, 80.0, 182.0]\n"
          ],
          "name": "stdout"
        }
      ]
    },
    {
      "cell_type": "code",
      "metadata": {
        "id": "fyn4w2YynHK0",
        "colab_type": "code",
        "outputId": "bcb49db4-d5ab-4fcd-d3fc-e1a31d030551",
        "colab": {
          "base_uri": "https://localhost:8080/",
          "height": 136
        }
      },
      "source": [
        "new_wind_mean = np.mean(new_wind)\n",
        "new_wind_med = np.median(new_wind)\n",
        "new_wind_mode = mode(new_wind)\n",
        "print(\n",
        "    \"Wind mean: {}\\n\".format(new_wind_mean),\n",
        "    \"Wind median: {}\\n\".format(new_wind_med),\n",
        "    \"Wind mode: {}\\n\".format(new_wind_mode)\n",
        ")\n",
        "\n",
        "new_temp_mean = np.mean(new_temp)\n",
        "new_temp_med = np.median(new_temp)\n",
        "new_temp_mode = mode(new_temp)\n",
        "print(\n",
        "    \"Temp mean: {}\\n\".format(new_temp_mean),\n",
        "    \"Temp median: {}\\n\".format(new_temp_med),\n",
        "    \"Temp mode: {}\".format(new_temp_mode)\n",
        ")"
      ],
      "execution_count": 0,
      "outputs": [
        {
          "output_type": "stream",
          "text": [
            "Wind mean: 39.8044\n",
            " Wind median: 40.0\n",
            " Wind mode: 31.0\n",
            "\n",
            "Temp mean: 189.1774\n",
            " Temp median: 193.0\n",
            " Temp mode: 196.0\n"
          ],
          "name": "stdout"
        }
      ]
    },
    {
      "cell_type": "markdown",
      "metadata": {
        "id": "sj5RYe9yBlfh",
        "colab_type": "text"
      },
      "source": [
        "## Exercise 4 (*Optional* \"stretch goal\") - Simulate a *lot* of data\n",
        "\n",
        "For *one* of the variables you've been looking at:\n",
        "\n",
        "1. Make an empty list `variablename_means`\n",
        "2. Use your code from exercise 3 to run a Monte Carlo simulation of 1000 experiments where you make a new simulated variable (hint - you'll need a loop)\n",
        "3. For each experiment, calculate the mean of the simulated variable, and append it to the list\n",
        "4. Plot the list as a histogram\n",
        "\n",
        "Once you've done the above, answer the question - how does the distribution of the histogram (of the means of a bunch of simulations of real data) look?"
      ]
    },
    {
      "cell_type": "code",
      "metadata": {
        "id": "rwEMmhqotD-a",
        "colab_type": "code",
        "outputId": "44158163-bb3e-441a-cfc9-3c81709eccbd",
        "colab": {
          "base_uri": "https://localhost:8080/",
          "height": 320
        }
      },
      "source": [
        "plt.hist(df['wind'])"
      ],
      "execution_count": 0,
      "outputs": [
        {
          "output_type": "execute_result",
          "data": {
            "text/plain": [
              "(array([ 14.,  45.,  97.,  93.,  92., 113.,  19.,  26.,   5.,  13.]),\n",
              " array([0.4, 1.3, 2.2, 3.1, 4. , 4.9, 5.8, 6.7, 7.6, 8.5, 9.4]),\n",
              " <a list of 10 Patch objects>)"
            ]
          },
          "metadata": {
            "tags": []
          },
          "execution_count": 12
        },
        {
          "output_type": "display_data",
          "data": {
            "image/png": "[encoded data removed]",
            "text/plain": [
              "<Figure size 432x288 with 1 Axes>"
            ]
          },
          "metadata": {
            "tags": []
          }
        }
      ]
    },
    {
      "cell_type": "code",
      "metadata": {
        "id": "JKlXME96Tuqs",
        "colab_type": "code",
        "outputId": "6e644406-1998-411d-c26a-e6f5fde016bb",
        "colab": {
          "base_uri": "https://localhost:8080/",
          "height": 363
        }
      },
      "source": [
        "variablename_means = []\n",
        "for experiment in range(1000):\n",
        "  simulated_wind = random.sample(new_wind, 30)\n",
        "  variablename_means.append(np.mean(simulated_wind))\n",
        "\n",
        "plt.xlabel('Wind km/h')\n",
        "plt.ylabel('# of days')\n",
        "plt.title('Wind ')\n",
        "plt.hist(variablename_means)\n",
        "\n",
        "# distribution looks smoother"
      ],
      "execution_count": 0,
      "outputs": [
        {
          "output_type": "execute_result",
          "data": {
            "text/plain": [
              "(array([ 15.,  55., 115., 220., 246., 174., 125.,  43.,   4.,   3.]),\n",
              " array([30.9 , 32.92, 34.94, 36.96, 38.98, 41.  , 43.02, 45.04, 47.06,\n",
              "        49.08, 51.1 ]),\n",
              " <a list of 10 Patch objects>)"
            ]
          },
          "metadata": {
            "tags": []
          },
          "execution_count": 13
        },
        {
          "output_type": "display_data",
          "data": {
            "image/png": "[encoded data removed]",
            "text/plain": [
              "<Figure size 432x288 with 1 Axes>"
            ]
          },
          "metadata": {
            "tags": []
          }
        }
      ]
    }
  ]
}
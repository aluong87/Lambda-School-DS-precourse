{
  "nbformat": 4,
  "nbformat_minor": 0,
  "metadata": {
    "colab": {
      "name": "Intro Assignment 8 - Classification.ipynb",
      "version": "0.3.2",
      "provenance": [],
      "collapsed_sections": []
    },
    "kernelspec": {
      "display_name": "Python 3",
      "language": "python",
      "name": "python3"
    }
  },
  "cells": [
    {
      "cell_type": "markdown",
      "metadata": {
        "id": "lOH73mi0Wc3q",
        "colab_type": "text"
      },
      "source": [
        "# Lambda School, Intro to Data Science, Day 8 — Classification!"
      ]
    },
    {
      "cell_type": "markdown",
      "metadata": {
        "id": "EQ6Yq0xkWc3r",
        "colab_type": "text"
      },
      "source": [
        "## Assignment\n",
        "\n",
        "Run this cell to load the Titanic data:"
      ]
    },
    {
      "cell_type": "code",
      "metadata": {
        "id": "MsZf-QBJWc3s",
        "colab_type": "code",
        "colab": {}
      },
      "source": [
        "import pandas as pd\n",
        "import seaborn as sns\n",
        "from sklearn.model_selection import train_test_split\n",
        "train, test = train_test_split(sns.load_dataset('titanic').drop(columns=['alive']), random_state=0)\n",
        "target = 'survived'"
      ],
      "execution_count": 0,
      "outputs": []
    },
    {
      "cell_type": "markdown",
      "metadata": {
        "id": "BWnyTrASWc3v",
        "colab_type": "text"
      },
      "source": [
        "Then, train a [Logistic Regression](http://scikit-learn.org/stable/modules/generated/sklearn.linear_model.LogisticRegression.html#sklearn.linear_model.LogisticRegression.predict_proba), [Decision Tree](http://scikit-learn.org/stable/modules/generated/sklearn.tree.DecisionTreeClassifier.html), or [Random Forest](http://scikit-learn.org/stable/modules/generated/sklearn.ensemble.RandomForestClassifier.html) model. Use any features and parameters you want. \n",
        "\n",
        "Try to get better than 78.0% accuracy on the test set! (This is not required, but encouraged.)\n",
        "\n",
        "Do refer to the lecture notebook — but try not to copy-paste.\n",
        "\n",
        "> You must type each of these exercises in, manually. If you copy and paste, you might as well not even do them. The point of these exercises is to train your hands, your brain, and your mind in how to read, write, and see code. If you copy-paste, you are cheating yourself out of the effectiveness of the lessons. —*[Learn Python the Hard Way](https://learnpythonthehardway.org/book/intro.html)*\n",
        "\n",
        "After this, you may want to try [Kaggle's Titanic challenge](https://www.kaggle.com/c/titanic)!"
      ]
    },
    {
      "cell_type": "code",
      "metadata": {
        "id": "R3VElaA9z_LL",
        "colab_type": "code",
        "outputId": "f2f9c1b0-a579-4ba1-e54d-817c47c2b481",
        "colab": {
          "base_uri": "https://localhost:8080/",
          "height": 34
        }
      },
      "source": [
        "# accuracy score predictions for titanic survivors\n",
        "predictions = [0] * len(train)\n",
        "from sklearn.metrics import accuracy_score\n",
        "accuracy_score(train.survived, predictions)"
      ],
      "execution_count": 0,
      "outputs": [
        {
          "output_type": "execute_result",
          "data": {
            "text/plain": [
              "0.6137724550898204"
            ]
          },
          "metadata": {
            "tags": []
          },
          "execution_count": 2
        }
      ]
    },
    {
      "cell_type": "code",
      "metadata": {
        "id": "lbfd9ZfJzY_z",
        "colab_type": "code",
        "outputId": "2e79f34a-b818-4428-c8e9-cd6f286e2414",
        "colab": {
          "base_uri": "https://localhost:8080/",
          "height": 34
        }
      },
      "source": [
        "# checking for null values in train and test\n",
        "train.sex.isnull().sum()"
      ],
      "execution_count": 0,
      "outputs": [
        {
          "output_type": "execute_result",
          "data": {
            "text/plain": [
              "0"
            ]
          },
          "metadata": {
            "tags": []
          },
          "execution_count": 3
        }
      ]
    },
    {
      "cell_type": "code",
      "metadata": {
        "id": "8yKI8mEUzcbr",
        "colab_type": "code",
        "outputId": "8597c3ea-08e8-41f2-bd2f-8c6cdaeabb03",
        "colab": {
          "base_uri": "https://localhost:8080/",
          "height": 34
        }
      },
      "source": [
        "train.age.isnull().sum()"
      ],
      "execution_count": 0,
      "outputs": [
        {
          "output_type": "execute_result",
          "data": {
            "text/plain": [
              "133"
            ]
          },
          "metadata": {
            "tags": []
          },
          "execution_count": 4
        }
      ]
    },
    {
      "cell_type": "code",
      "metadata": {
        "id": "vfFdh0N8zfOU",
        "colab_type": "code",
        "outputId": "7a8bd95b-2974-4764-8af4-0bac41b0da85",
        "colab": {
          "base_uri": "https://localhost:8080/",
          "height": 34
        }
      },
      "source": [
        "test.sex.isnull().sum()"
      ],
      "execution_count": 0,
      "outputs": [
        {
          "output_type": "execute_result",
          "data": {
            "text/plain": [
              "0"
            ]
          },
          "metadata": {
            "tags": []
          },
          "execution_count": 5
        }
      ]
    },
    {
      "cell_type": "code",
      "metadata": {
        "id": "n3nUjVyizhg7",
        "colab_type": "code",
        "outputId": "5b444ba6-99ce-419c-aaea-ae525a1ab1f9",
        "colab": {
          "base_uri": "https://localhost:8080/",
          "height": 34
        }
      },
      "source": [
        "test.age.isnull().sum()"
      ],
      "execution_count": 0,
      "outputs": [
        {
          "output_type": "execute_result",
          "data": {
            "text/plain": [
              "44"
            ]
          },
          "metadata": {
            "tags": []
          },
          "execution_count": 6
        }
      ]
    },
    {
      "cell_type": "code",
      "metadata": {
        "id": "W90P7eNIziqT",
        "colab_type": "code",
        "colab": {}
      },
      "source": [
        "# replacing null values with train age mean in both\n",
        "train.age.fillna(train.age.mean(), inplace=True)\n",
        "test.age.fillna(train.age.mean(), inplace=True)"
      ],
      "execution_count": 0,
      "outputs": []
    },
    {
      "cell_type": "code",
      "metadata": {
        "id": "8wWXKHO_zvYO",
        "colab_type": "code",
        "outputId": "5a186732-54df-40e4-fdc0-b8509f84b735",
        "colab": {
          "base_uri": "https://localhost:8080/",
          "height": 34
        }
      },
      "source": [
        "train.age.isnull().sum()"
      ],
      "execution_count": 0,
      "outputs": [
        {
          "output_type": "execute_result",
          "data": {
            "text/plain": [
              "0"
            ]
          },
          "metadata": {
            "tags": []
          },
          "execution_count": 8
        }
      ]
    },
    {
      "cell_type": "code",
      "metadata": {
        "id": "QHMNzehHzxI2",
        "colab_type": "code",
        "outputId": "739f798f-e55c-4820-956c-9a9cb72f041c",
        "colab": {
          "base_uri": "https://localhost:8080/",
          "height": 34
        }
      },
      "source": [
        "test.age.isnull().sum()"
      ],
      "execution_count": 0,
      "outputs": [
        {
          "output_type": "execute_result",
          "data": {
            "text/plain": [
              "0"
            ]
          },
          "metadata": {
            "tags": []
          },
          "execution_count": 9
        }
      ]
    },
    {
      "cell_type": "code",
      "metadata": {
        "id": "OQ-V-UOgzzQV",
        "colab_type": "code",
        "colab": {}
      },
      "source": [
        "# changing female object to boolean/integer\n",
        "train['female'] = train.sex == 'female'\n",
        "test['female'] = test.sex == 'female'"
      ],
      "execution_count": 0,
      "outputs": []
    },
    {
      "cell_type": "code",
      "metadata": {
        "id": "EBw74-RDz5CD",
        "colab_type": "code",
        "outputId": "56544e8c-eedb-42ea-87f8-0b3e1d9c6cfd",
        "colab": {
          "base_uri": "https://localhost:8080/",
          "height": 105
        }
      },
      "source": [
        "# logistic regression model\n",
        "from sklearn.linear_model import LogisticRegression\n",
        "model = LogisticRegression()\n",
        "features = ['female', 'age']\n",
        "target = 'survived'\n",
        "\n",
        "model.fit(train[features], train[target])\n",
        "\n",
        "# train accuracy\n",
        "train_true = train[target]\n",
        "train_pred = model.predict(train[features])\n",
        "print('Train accuracy:', accuracy_score(train_true, train_pred))\n",
        "\n",
        "# test accuracy\n",
        "test_true = test[target]\n",
        "test_pred = model.predict(test[features])\n",
        "print('Test accuracy:', accuracy_score(test_true, test_pred))"
      ],
      "execution_count": 0,
      "outputs": [
        {
          "output_type": "stream",
          "text": [
            "Train accuracy: 0.7889221556886228\n",
            "Test accuracy: 0.7802690582959642\n"
          ],
          "name": "stdout"
        },
        {
          "output_type": "stream",
          "text": [
            "/usr/local/lib/python3.6/dist-packages/sklearn/linear_model/logistic.py:432: FutureWarning: Default solver will be changed to 'lbfgs' in 0.22. Specify a solver to silence this warning.\n",
            "  FutureWarning)\n"
          ],
          "name": "stderr"
        }
      ]
    },
    {
      "cell_type": "code",
      "metadata": {
        "id": "zONHNVmF0NQr",
        "colab_type": "code",
        "outputId": "849315e4-4fc2-4b90-f671-5678fd65677e",
        "colab": {
          "base_uri": "https://localhost:8080/",
          "height": 51
        }
      },
      "source": [
        "# decision tree classifier\n",
        "from sklearn.tree import DecisionTreeClassifier\n",
        "model = DecisionTreeClassifier(max_depth=4)\n",
        "model.fit(train[features], train[target])\n",
        "\n",
        "# train accuracy\n",
        "train_true = train[target]\n",
        "train_pred = model.predict(train[features])\n",
        "print('Train accuracy:', accuracy_score(train_true, train_pred))\n",
        "\n",
        "# test accuracy\n",
        "test_true = test[target]\n",
        "test_pred = model.predict(test[features])\n",
        "print('Test accuracy:', accuracy_score(test_true, test_pred))"
      ],
      "execution_count": 0,
      "outputs": [
        {
          "output_type": "stream",
          "text": [
            "Train accuracy: 0.8023952095808383\n",
            "Test accuracy: 0.7892376681614349\n"
          ],
          "name": "stdout"
        }
      ]
    },
    {
      "cell_type": "code",
      "metadata": {
        "id": "dSQM583L1qhj",
        "colab_type": "code",
        "outputId": "cc8adccc-573b-4d69-9ad5-9487f9397a32",
        "colab": {
          "base_uri": "https://localhost:8080/",
          "height": 976
        }
      },
      "source": [
        "# decision tree visual\n",
        "import graphviz\n",
        "from sklearn.tree import export_graphviz\n",
        "\n",
        "dot_data = export_graphviz(\n",
        "    model,\n",
        "    out_file=None,\n",
        "    feature_names=features,\n",
        "    class_names=['Died', 'Survived'],\n",
        "    filled=True,\n",
        "    impurity=False,\n",
        "    rotate=True\n",
        ")\n",
        "\n",
        "graphviz.Source(dot_data)"
      ],
      "execution_count": 0,
      "outputs": [
        {
          "output_type": "execute_result",
          "data": {
            "text/plain": [
              "<graphviz.files.Source at 0x7fc20651fbe0>"
            ],
            "image/svg+xml": "<?xml version=\"1.0\" encoding=\"UTF-8\" standalone=\"no\"?>\n<!DOCTYPE svg PUBLIC \"-//W3C//DTD SVG 1.1//EN\"\n \"http://www.w3.org/Graphics/SVG/1.1/DTD/svg11.dtd\">\n<!-- Generated by graphviz version 2.40.1 (20161225.0304)\n -->\n<!-- Title: Tree Pages: 1 -->\n<svg width=\"745pt\" height=\"716pt\"\n viewBox=\"0.00 0.00 745.00 716.00\" xmlns=\"http://www.w3.org/2000/svg\" xmlns:xlink=\"http://www.w3.org/1999/xlink\">\n<g id=\"graph0\" class=\"graph\" transform=\"scale(1 1) rotate(0) translate(4 712)\">\n<title>Tree</title>\n<polygon fill=\"#ffffff\" stroke=\"transparent\" points=\"-4,4 -4,-712 741,-712 741,4 -4,4\"/>\n<!-- 0 -->\n<g id=\"node1\" class=\"node\">\n<title>0</title>\n<polygon fill=\"#f5d0b6\" stroke=\"#000000\" points=\"125,-418.5 0,-418.5 0,-350.5 125,-350.5 125,-418.5\"/>\n<text text-anchor=\"middle\" x=\"62.5\" y=\"-403.3\" font-family=\"Times,serif\" font-size=\"14.00\" fill=\"#000000\">female &lt;= 0.5</text>\n<text text-anchor=\"middle\" x=\"62.5\" y=\"-388.3\" font-family=\"Times,serif\" font-size=\"14.00\" fill=\"#000000\">samples = 668</text>\n<text text-anchor=\"middle\" x=\"62.5\" y=\"-373.3\" font-family=\"Times,serif\" font-size=\"14.00\" fill=\"#000000\">value = [410, 258]</text>\n<text text-anchor=\"middle\" x=\"62.5\" y=\"-358.3\" font-family=\"Times,serif\" font-size=\"14.00\" fill=\"#000000\">class = Died</text>\n</g>\n<!-- 1 -->\n<g id=\"node2\" class=\"node\">\n<title>1</title>\n<polygon fill=\"#eb9f68\" stroke=\"#000000\" points=\"278,-498.5 161,-498.5 161,-430.5 278,-430.5 278,-498.5\"/>\n<text text-anchor=\"middle\" x=\"219.5\" y=\"-483.3\" font-family=\"Times,serif\" font-size=\"14.00\" fill=\"#000000\">age &lt;= 14.0</text>\n<text text-anchor=\"middle\" x=\"219.5\" y=\"-468.3\" font-family=\"Times,serif\" font-size=\"14.00\" fill=\"#000000\">samples = 437</text>\n<text text-anchor=\"middle\" x=\"219.5\" y=\"-453.3\" font-family=\"Times,serif\" font-size=\"14.00\" fill=\"#000000\">value = [353, 84]</text>\n<text text-anchor=\"middle\" x=\"219.5\" y=\"-438.3\" font-family=\"Times,serif\" font-size=\"14.00\" fill=\"#000000\">class = Died</text>\n</g>\n<!-- 0&#45;&gt;1 -->\n<g id=\"edge1\" class=\"edge\">\n<title>0&#45;&gt;1</title>\n<path fill=\"none\" stroke=\"#000000\" d=\"M125.0017,-416.348C133.76,-420.8108 142.7958,-425.415 151.6476,-429.9255\"/>\n<polygon fill=\"#000000\" stroke=\"#000000\" points=\"150.287,-433.1604 160.7861,-434.5821 153.4652,-426.9234 150.287,-433.1604\"/>\n<text text-anchor=\"middle\" x=\"137.0095\" y=\"-438.607\" font-family=\"Times,serif\" font-size=\"14.00\" fill=\"#000000\">True</text>\n</g>\n<!-- 12 -->\n<g id=\"node13\" class=\"node\">\n<title>12</title>\n<polygon fill=\"#7abdee\" stroke=\"#000000\" points=\"278,-327.5 161,-327.5 161,-259.5 278,-259.5 278,-327.5\"/>\n<text text-anchor=\"middle\" x=\"219.5\" y=\"-312.3\" font-family=\"Times,serif\" font-size=\"14.00\" fill=\"#000000\">age &lt;= 32.25</text>\n<text text-anchor=\"middle\" x=\"219.5\" y=\"-297.3\" font-family=\"Times,serif\" font-size=\"14.00\" fill=\"#000000\">samples = 231</text>\n<text text-anchor=\"middle\" x=\"219.5\" y=\"-282.3\" font-family=\"Times,serif\" font-size=\"14.00\" fill=\"#000000\">value = [57, 174]</text>\n<text text-anchor=\"middle\" x=\"219.5\" y=\"-267.3\" font-family=\"Times,serif\" font-size=\"14.00\" fill=\"#000000\">class = Survived</text>\n</g>\n<!-- 0&#45;&gt;12 -->\n<g id=\"edge12\" class=\"edge\">\n<title>0&#45;&gt;12</title>\n<path fill=\"none\" stroke=\"#000000\" d=\"M121.4077,-350.3561C131.3677,-344.5831 141.7772,-338.5495 151.9374,-332.6605\"/>\n<polygon fill=\"#000000\" stroke=\"#000000\" points=\"153.8877,-335.5755 160.7843,-327.5327 150.3774,-329.5193 153.8877,-335.5755\"/>\n<text text-anchor=\"middle\" x=\"136.6252\" y=\"-317.4032\" font-family=\"Times,serif\" font-size=\"14.00\" fill=\"#000000\">False</text>\n</g>\n<!-- 2 -->\n<g id=\"node3\" class=\"node\">\n<title>2</title>\n<polygon fill=\"#d0e8f9\" stroke=\"#000000\" points=\"428,-636.5 317,-636.5 317,-568.5 428,-568.5 428,-636.5\"/>\n<text text-anchor=\"middle\" x=\"372.5\" y=\"-621.3\" font-family=\"Times,serif\" font-size=\"14.00\" fill=\"#000000\">age &lt;= 0.96</text>\n<text text-anchor=\"middle\" x=\"372.5\" y=\"-606.3\" font-family=\"Times,serif\" font-size=\"14.00\" fill=\"#000000\">samples = 30</text>\n<text text-anchor=\"middle\" x=\"372.5\" y=\"-591.3\" font-family=\"Times,serif\" font-size=\"14.00\" fill=\"#000000\">value = [13, 17]</text>\n<text text-anchor=\"middle\" x=\"372.5\" y=\"-576.3\" font-family=\"Times,serif\" font-size=\"14.00\" fill=\"#000000\">class = Survived</text>\n</g>\n<!-- 1&#45;&gt;2 -->\n<g id=\"edge2\" class=\"edge\">\n<title>1&#45;&gt;2</title>\n<path fill=\"none\" stroke=\"#000000\" d=\"M257.3202,-498.6124C278.3764,-517.6042 304.738,-541.3813 326.926,-561.394\"/>\n<polygon fill=\"#000000\" stroke=\"#000000\" points=\"324.8147,-564.2031 334.5846,-568.3018 329.5031,-559.0051 324.8147,-564.2031\"/>\n</g>\n<!-- 7 -->\n<g id=\"node8\" class=\"node\">\n<title>7</title>\n<polygon fill=\"#ea9a60\" stroke=\"#000000\" points=\"431,-498.5 314,-498.5 314,-430.5 431,-430.5 431,-498.5\"/>\n<text text-anchor=\"middle\" x=\"372.5\" y=\"-483.3\" font-family=\"Times,serif\" font-size=\"14.00\" fill=\"#000000\">age &lt;= 77.0</text>\n<text text-anchor=\"middle\" x=\"372.5\" y=\"-468.3\" font-family=\"Times,serif\" font-size=\"14.00\" fill=\"#000000\">samples = 407</text>\n<text text-anchor=\"middle\" x=\"372.5\" y=\"-453.3\" font-family=\"Times,serif\" font-size=\"14.00\" fill=\"#000000\">value = [340, 67]</text>\n<text text-anchor=\"middle\" x=\"372.5\" y=\"-438.3\" font-family=\"Times,serif\" font-size=\"14.00\" fill=\"#000000\">class = Died</text>\n</g>\n<!-- 1&#45;&gt;7 -->\n<g id=\"edge7\" class=\"edge\">\n<title>1&#45;&gt;7</title>\n<path fill=\"none\" stroke=\"#000000\" d=\"M278.2162,-464.5C286.5439,-464.5 295.1693,-464.5 303.6671,-464.5\"/>\n<polygon fill=\"#000000\" stroke=\"#000000\" points=\"303.9409,-468.0001 313.9409,-464.5 303.9409,-461.0001 303.9409,-468.0001\"/>\n</g>\n<!-- 3 -->\n<g id=\"node4\" class=\"node\">\n<title>3</title>\n<polygon fill=\"#399de5\" stroke=\"#000000\" points=\"581,-708 470,-708 470,-655 581,-655 581,-708\"/>\n<text text-anchor=\"middle\" x=\"525.5\" y=\"-692.8\" font-family=\"Times,serif\" font-size=\"14.00\" fill=\"#000000\">samples = 4</text>\n<text text-anchor=\"middle\" x=\"525.5\" y=\"-677.8\" font-family=\"Times,serif\" font-size=\"14.00\" fill=\"#000000\">value = [0, 4]</text>\n<text text-anchor=\"middle\" x=\"525.5\" y=\"-662.8\" font-family=\"Times,serif\" font-size=\"14.00\" fill=\"#000000\">class = Survived</text>\n</g>\n<!-- 2&#45;&gt;3 -->\n<g id=\"edge3\" class=\"edge\">\n<title>2&#45;&gt;3</title>\n<path fill=\"none\" stroke=\"#000000\" d=\"M428.1693,-631.2443C440.0845,-637.3966 452.7295,-643.9257 464.8229,-650.17\"/>\n<polygon fill=\"#000000\" stroke=\"#000000\" points=\"463.4507,-653.4005 473.942,-654.8785 466.6623,-647.1807 463.4507,-653.4005\"/>\n</g>\n<!-- 4 -->\n<g id=\"node5\" class=\"node\">\n<title>4</title>\n<polygon fill=\"#ffffff\" stroke=\"#000000\" points=\"580.5,-636.5 470.5,-636.5 470.5,-568.5 580.5,-568.5 580.5,-636.5\"/>\n<text text-anchor=\"middle\" x=\"525.5\" y=\"-621.3\" font-family=\"Times,serif\" font-size=\"14.00\" fill=\"#000000\">age &lt;= 11.5</text>\n<text text-anchor=\"middle\" x=\"525.5\" y=\"-606.3\" font-family=\"Times,serif\" font-size=\"14.00\" fill=\"#000000\">samples = 26</text>\n<text text-anchor=\"middle\" x=\"525.5\" y=\"-591.3\" font-family=\"Times,serif\" font-size=\"14.00\" fill=\"#000000\">value = [13, 13]</text>\n<text text-anchor=\"middle\" x=\"525.5\" y=\"-576.3\" font-family=\"Times,serif\" font-size=\"14.00\" fill=\"#000000\">class = Died</text>\n</g>\n<!-- 2&#45;&gt;4 -->\n<g id=\"edge4\" class=\"edge\">\n<title>2&#45;&gt;4</title>\n<path fill=\"none\" stroke=\"#000000\" d=\"M428.1693,-602.5C438.594,-602.5 449.5772,-602.5 460.2609,-602.5\"/>\n<polygon fill=\"#000000\" stroke=\"#000000\" points=\"460.3843,-606.0001 470.3843,-602.5 460.3842,-599.0001 460.3843,-606.0001\"/>\n</g>\n<!-- 5 -->\n<g id=\"node6\" class=\"node\">\n<title>5</title>\n<polygon fill=\"#fdf5f0\" stroke=\"#000000\" points=\"733.5,-700 623.5,-700 623.5,-647 733.5,-647 733.5,-700\"/>\n<text text-anchor=\"middle\" x=\"678.5\" y=\"-684.8\" font-family=\"Times,serif\" font-size=\"14.00\" fill=\"#000000\">samples = 25</text>\n<text text-anchor=\"middle\" x=\"678.5\" y=\"-669.8\" font-family=\"Times,serif\" font-size=\"14.00\" fill=\"#000000\">value = [13, 12]</text>\n<text text-anchor=\"middle\" x=\"678.5\" y=\"-654.8\" font-family=\"Times,serif\" font-size=\"14.00\" fill=\"#000000\">class = Died</text>\n</g>\n<!-- 4&#45;&gt;5 -->\n<g id=\"edge5\" class=\"edge\">\n<title>4&#45;&gt;5</title>\n<path fill=\"none\" stroke=\"#000000\" d=\"M580.7365,-628.1326C591.5697,-633.1598 603.0209,-638.4738 614.1226,-643.6255\"/>\n<polygon fill=\"#000000\" stroke=\"#000000\" points=\"612.8004,-646.8704 623.3446,-647.905 615.747,-640.5207 612.8004,-646.8704\"/>\n</g>\n<!-- 6 -->\n<g id=\"node7\" class=\"node\">\n<title>6</title>\n<polygon fill=\"#399de5\" stroke=\"#000000\" points=\"734,-629 623,-629 623,-576 734,-576 734,-629\"/>\n<text text-anchor=\"middle\" x=\"678.5\" y=\"-613.8\" font-family=\"Times,serif\" font-size=\"14.00\" fill=\"#000000\">samples = 1</text>\n<text text-anchor=\"middle\" x=\"678.5\" y=\"-598.8\" font-family=\"Times,serif\" font-size=\"14.00\" fill=\"#000000\">value = [0, 1]</text>\n<text text-anchor=\"middle\" x=\"678.5\" y=\"-583.8\" font-family=\"Times,serif\" font-size=\"14.00\" fill=\"#000000\">class = Survived</text>\n</g>\n<!-- 4&#45;&gt;6 -->\n<g id=\"edge6\" class=\"edge\">\n<title>4&#45;&gt;6</title>\n<path fill=\"none\" stroke=\"#000000\" d=\"M580.7365,-602.5C591.115,-602.5 602.0607,-602.5 612.7228,-602.5\"/>\n<polygon fill=\"#000000\" stroke=\"#000000\" points=\"612.8307,-606.0001 622.8307,-602.5 612.8306,-599.0001 612.8307,-606.0001\"/>\n</g>\n<!-- 8 -->\n<g id=\"node9\" class=\"node\">\n<title>8</title>\n<polygon fill=\"#ea995f\" stroke=\"#000000\" points=\"584,-538.5 467,-538.5 467,-470.5 584,-470.5 584,-538.5\"/>\n<text text-anchor=\"middle\" x=\"525.5\" y=\"-523.3\" font-family=\"Times,serif\" font-size=\"14.00\" fill=\"#000000\">age &lt;= 53.0</text>\n<text text-anchor=\"middle\" x=\"525.5\" y=\"-508.3\" font-family=\"Times,serif\" font-size=\"14.00\" fill=\"#000000\">samples = 406</text>\n<text text-anchor=\"middle\" x=\"525.5\" y=\"-493.3\" font-family=\"Times,serif\" font-size=\"14.00\" fill=\"#000000\">value = [340, 66]</text>\n<text text-anchor=\"middle\" x=\"525.5\" y=\"-478.3\" font-family=\"Times,serif\" font-size=\"14.00\" fill=\"#000000\">class = Died</text>\n</g>\n<!-- 7&#45;&gt;8 -->\n<g id=\"edge8\" class=\"edge\">\n<title>7&#45;&gt;8</title>\n<path fill=\"none\" stroke=\"#000000\" d=\"M431.2162,-479.8506C439.7269,-482.0757 448.5486,-484.382 457.2273,-486.6509\"/>\n<polygon fill=\"#000000\" stroke=\"#000000\" points=\"456.3808,-490.0472 466.9409,-489.1904 458.1514,-483.2748 456.3808,-490.0472\"/>\n</g>\n<!-- 11 -->\n<g id=\"node12\" class=\"node\">\n<title>11</title>\n<polygon fill=\"#399de5\" stroke=\"#000000\" points=\"581,-452 470,-452 470,-399 581,-399 581,-452\"/>\n<text text-anchor=\"middle\" x=\"525.5\" y=\"-436.8\" font-family=\"Times,serif\" font-size=\"14.00\" fill=\"#000000\">samples = 1</text>\n<text text-anchor=\"middle\" x=\"525.5\" y=\"-421.8\" font-family=\"Times,serif\" font-size=\"14.00\" fill=\"#000000\">value = [0, 1]</text>\n<text text-anchor=\"middle\" x=\"525.5\" y=\"-406.8\" font-family=\"Times,serif\" font-size=\"14.00\" fill=\"#000000\">class = Survived</text>\n</g>\n<!-- 7&#45;&gt;11 -->\n<g id=\"edge11\" class=\"edge\">\n<title>7&#45;&gt;11</title>\n<path fill=\"none\" stroke=\"#000000\" d=\"M431.2162,-449.5331C440.6605,-447.1258 450.4876,-444.6208 460.0775,-442.1763\"/>\n<polygon fill=\"#000000\" stroke=\"#000000\" points=\"461.1336,-445.5191 469.9592,-439.6574 459.4045,-438.736 461.1336,-445.5191\"/>\n</g>\n<!-- 9 -->\n<g id=\"node10\" class=\"node\">\n<title>9</title>\n<polygon fill=\"#ea9b62\" stroke=\"#000000\" points=\"737,-558 620,-558 620,-505 737,-505 737,-558\"/>\n<text text-anchor=\"middle\" x=\"678.5\" y=\"-542.8\" font-family=\"Times,serif\" font-size=\"14.00\" fill=\"#000000\">samples = 381</text>\n<text text-anchor=\"middle\" x=\"678.5\" y=\"-527.8\" font-family=\"Times,serif\" font-size=\"14.00\" fill=\"#000000\">value = [315, 66]</text>\n<text text-anchor=\"middle\" x=\"678.5\" y=\"-512.8\" font-family=\"Times,serif\" font-size=\"14.00\" fill=\"#000000\">class = Died</text>\n</g>\n<!-- 8&#45;&gt;9 -->\n<g id=\"edge9\" class=\"edge\">\n<title>8&#45;&gt;9</title>\n<path fill=\"none\" stroke=\"#000000\" d=\"M584.2162,-514.8617C592.6354,-516.3474 601.3589,-517.8869 609.9473,-519.4025\"/>\n<polygon fill=\"#000000\" stroke=\"#000000\" points=\"609.4848,-522.8748 619.9409,-521.166 610.7013,-515.9814 609.4848,-522.8748\"/>\n</g>\n<!-- 10 -->\n<g id=\"node11\" class=\"node\">\n<title>10</title>\n<polygon fill=\"#e58139\" stroke=\"#000000\" points=\"729.5,-487 627.5,-487 627.5,-434 729.5,-434 729.5,-487\"/>\n<text text-anchor=\"middle\" x=\"678.5\" y=\"-471.8\" font-family=\"Times,serif\" font-size=\"14.00\" fill=\"#000000\">samples = 25</text>\n<text text-anchor=\"middle\" x=\"678.5\" y=\"-456.8\" font-family=\"Times,serif\" font-size=\"14.00\" fill=\"#000000\">value = [25, 0]</text>\n<text text-anchor=\"middle\" x=\"678.5\" y=\"-441.8\" font-family=\"Times,serif\" font-size=\"14.00\" fill=\"#000000\">class = Died</text>\n</g>\n<!-- 8&#45;&gt;10 -->\n<g id=\"edge10\" class=\"edge\">\n<title>8&#45;&gt;10</title>\n<path fill=\"none\" stroke=\"#000000\" d=\"M584.2162,-487.6143C595.0556,-484.4971 606.3992,-481.2349 617.3097,-478.0972\"/>\n<polygon fill=\"#000000\" stroke=\"#000000\" points=\"618.5377,-481.386 627.1808,-475.2585 616.603,-474.6587 618.5377,-481.386\"/>\n</g>\n<!-- 13 -->\n<g id=\"node14\" class=\"node\">\n<title>13</title>\n<polygon fill=\"#87c4ef\" stroke=\"#000000\" points=\"430.5,-327.5 314.5,-327.5 314.5,-259.5 430.5,-259.5 430.5,-327.5\"/>\n<text text-anchor=\"middle\" x=\"372.5\" y=\"-312.3\" font-family=\"Times,serif\" font-size=\"14.00\" fill=\"#000000\">age &lt;= 11.5</text>\n<text text-anchor=\"middle\" x=\"372.5\" y=\"-297.3\" font-family=\"Times,serif\" font-size=\"14.00\" fill=\"#000000\">samples = 163</text>\n<text text-anchor=\"middle\" x=\"372.5\" y=\"-282.3\" font-family=\"Times,serif\" font-size=\"14.00\" fill=\"#000000\">value = [46, 117]</text>\n<text text-anchor=\"middle\" x=\"372.5\" y=\"-267.3\" font-family=\"Times,serif\" font-size=\"14.00\" fill=\"#000000\">class = Survived</text>\n</g>\n<!-- 12&#45;&gt;13 -->\n<g id=\"edge13\" class=\"edge\">\n<title>12&#45;&gt;13</title>\n<path fill=\"none\" stroke=\"#000000\" d=\"M278.2162,-293.5C286.7566,-293.5 295.61,-293.5 304.3179,-293.5\"/>\n<polygon fill=\"#000000\" stroke=\"#000000\" points=\"304.446,-297.0001 314.4459,-293.5 304.4459,-290.0001 304.446,-297.0001\"/>\n</g>\n<!-- 20 -->\n<g id=\"node21\" class=\"node\">\n<title>20</title>\n<polygon fill=\"#5fb0ea\" stroke=\"#000000\" points=\"428,-202.5 317,-202.5 317,-134.5 428,-134.5 428,-202.5\"/>\n<text text-anchor=\"middle\" x=\"372.5\" y=\"-187.3\" font-family=\"Times,serif\" font-size=\"14.00\" fill=\"#000000\">age &lt;= 37.0</text>\n<text text-anchor=\"middle\" x=\"372.5\" y=\"-172.3\" font-family=\"Times,serif\" font-size=\"14.00\" fill=\"#000000\">samples = 68</text>\n<text text-anchor=\"middle\" x=\"372.5\" y=\"-157.3\" font-family=\"Times,serif\" font-size=\"14.00\" fill=\"#000000\">value = [11, 57]</text>\n<text text-anchor=\"middle\" x=\"372.5\" y=\"-142.3\" font-family=\"Times,serif\" font-size=\"14.00\" fill=\"#000000\">class = Survived</text>\n</g>\n<!-- 12&#45;&gt;20 -->\n<g id=\"edge20\" class=\"edge\">\n<title>12&#45;&gt;20</title>\n<path fill=\"none\" stroke=\"#000000\" d=\"M261.3079,-259.3432C280.3665,-243.7724 303.0698,-225.224 322.9776,-208.9595\"/>\n<polygon fill=\"#000000\" stroke=\"#000000\" points=\"325.2129,-211.6528 330.7426,-202.6155 320.7841,-206.232 325.2129,-211.6528\"/>\n</g>\n<!-- 14 -->\n<g id=\"node15\" class=\"node\">\n<title>14</title>\n<polygon fill=\"#c2e1f7\" stroke=\"#000000\" points=\"581,-367.5 470,-367.5 470,-299.5 581,-299.5 581,-367.5\"/>\n<text text-anchor=\"middle\" x=\"525.5\" y=\"-352.3\" font-family=\"Times,serif\" font-size=\"14.00\" fill=\"#000000\">age &lt;= 8.5</text>\n<text text-anchor=\"middle\" x=\"525.5\" y=\"-337.3\" font-family=\"Times,serif\" font-size=\"14.00\" fill=\"#000000\">samples = 22</text>\n<text text-anchor=\"middle\" x=\"525.5\" y=\"-322.3\" font-family=\"Times,serif\" font-size=\"14.00\" fill=\"#000000\">value = [9, 13]</text>\n<text text-anchor=\"middle\" x=\"525.5\" y=\"-307.3\" font-family=\"Times,serif\" font-size=\"14.00\" fill=\"#000000\">class = Survived</text>\n</g>\n<!-- 13&#45;&gt;14 -->\n<g id=\"edge14\" class=\"edge\">\n<title>13&#45;&gt;14</title>\n<path fill=\"none\" stroke=\"#000000\" d=\"M430.7792,-308.7364C440.4064,-311.2533 450.4423,-313.8771 460.2277,-316.4353\"/>\n<polygon fill=\"#000000\" stroke=\"#000000\" points=\"459.345,-319.8221 469.9051,-318.9654 461.1156,-313.0498 459.345,-319.8221\"/>\n</g>\n<!-- 17 -->\n<g id=\"node18\" class=\"node\">\n<title>17</title>\n<polygon fill=\"#7fc0ee\" stroke=\"#000000\" points=\"584,-281.5 467,-281.5 467,-213.5 584,-213.5 584,-281.5\"/>\n<text text-anchor=\"middle\" x=\"525.5\" y=\"-266.3\" font-family=\"Times,serif\" font-size=\"14.00\" fill=\"#000000\">age &lt;= 24.5</text>\n<text text-anchor=\"middle\" x=\"525.5\" y=\"-251.3\" font-family=\"Times,serif\" font-size=\"14.00\" fill=\"#000000\">samples = 141</text>\n<text text-anchor=\"middle\" x=\"525.5\" y=\"-236.3\" font-family=\"Times,serif\" font-size=\"14.00\" fill=\"#000000\">value = [37, 104]</text>\n<text text-anchor=\"middle\" x=\"525.5\" y=\"-221.3\" font-family=\"Times,serif\" font-size=\"14.00\" fill=\"#000000\">class = Survived</text>\n</g>\n<!-- 13&#45;&gt;17 -->\n<g id=\"edge17\" class=\"edge\">\n<title>13&#45;&gt;17</title>\n<path fill=\"none\" stroke=\"#000000\" d=\"M430.7792,-275.9781C439.3692,-273.3955 448.2847,-270.7151 457.0572,-268.0776\"/>\n<polygon fill=\"#000000\" stroke=\"#000000\" points=\"458.3072,-271.3566 466.876,-265.1255 456.2917,-264.653 458.3072,-271.3566\"/>\n</g>\n<!-- 15 -->\n<g id=\"node16\" class=\"node\">\n<title>15</title>\n<polygon fill=\"#94caf1\" stroke=\"#000000\" points=\"734,-416 623,-416 623,-363 734,-363 734,-416\"/>\n<text text-anchor=\"middle\" x=\"678.5\" y=\"-400.8\" font-family=\"Times,serif\" font-size=\"14.00\" fill=\"#000000\">samples = 19</text>\n<text text-anchor=\"middle\" x=\"678.5\" y=\"-385.8\" font-family=\"Times,serif\" font-size=\"14.00\" fill=\"#000000\">value = [6, 13]</text>\n<text text-anchor=\"middle\" x=\"678.5\" y=\"-370.8\" font-family=\"Times,serif\" font-size=\"14.00\" fill=\"#000000\">class = Survived</text>\n</g>\n<!-- 14&#45;&gt;15 -->\n<g id=\"edge15\" class=\"edge\">\n<title>14&#45;&gt;15</title>\n<path fill=\"none\" stroke=\"#000000\" d=\"M581.1693,-353.8757C591.5706,-357.6827 602.528,-361.6933 613.1891,-365.5954\"/>\n<polygon fill=\"#000000\" stroke=\"#000000\" points=\"612.2784,-368.989 622.8721,-369.1395 614.6844,-362.4155 612.2784,-368.989\"/>\n</g>\n<!-- 16 -->\n<g id=\"node17\" class=\"node\">\n<title>16</title>\n<polygon fill=\"#e58139\" stroke=\"#000000\" points=\"726,-345 631,-345 631,-292 726,-292 726,-345\"/>\n<text text-anchor=\"middle\" x=\"678.5\" y=\"-329.8\" font-family=\"Times,serif\" font-size=\"14.00\" fill=\"#000000\">samples = 3</text>\n<text text-anchor=\"middle\" x=\"678.5\" y=\"-314.8\" font-family=\"Times,serif\" font-size=\"14.00\" fill=\"#000000\">value = [3, 0]</text>\n<text text-anchor=\"middle\" x=\"678.5\" y=\"-299.8\" font-family=\"Times,serif\" font-size=\"14.00\" fill=\"#000000\">class = Died</text>\n</g>\n<!-- 14&#45;&gt;16 -->\n<g id=\"edge16\" class=\"edge\">\n<title>14&#45;&gt;16</title>\n<path fill=\"none\" stroke=\"#000000\" d=\"M581.1693,-328.0422C593.979,-326.7864 607.6322,-325.4478 620.5365,-324.1827\"/>\n<polygon fill=\"#000000\" stroke=\"#000000\" points=\"621.0839,-327.6459 630.6946,-323.1868 620.4008,-320.6793 621.0839,-327.6459\"/>\n</g>\n<!-- 18 -->\n<g id=\"node19\" class=\"node\">\n<title>18</title>\n<polygon fill=\"#69b5eb\" stroke=\"#000000\" points=\"734,-274 623,-274 623,-221 734,-221 734,-274\"/>\n<text text-anchor=\"middle\" x=\"678.5\" y=\"-258.8\" font-family=\"Times,serif\" font-size=\"14.00\" fill=\"#000000\">samples = 61</text>\n<text text-anchor=\"middle\" x=\"678.5\" y=\"-243.8\" font-family=\"Times,serif\" font-size=\"14.00\" fill=\"#000000\">value = [12, 49]</text>\n<text text-anchor=\"middle\" x=\"678.5\" y=\"-228.8\" font-family=\"Times,serif\" font-size=\"14.00\" fill=\"#000000\">class = Survived</text>\n</g>\n<!-- 17&#45;&gt;18 -->\n<g id=\"edge18\" class=\"edge\">\n<title>17&#45;&gt;18</title>\n<path fill=\"none\" stroke=\"#000000\" d=\"M584.2162,-247.5C593.5611,-247.5 603.2808,-247.5 612.7746,-247.5\"/>\n<polygon fill=\"#000000\" stroke=\"#000000\" points=\"612.9593,-251.0001 622.9592,-247.5 612.9592,-244.0001 612.9593,-251.0001\"/>\n</g>\n<!-- 19 -->\n<g id=\"node20\" class=\"node\">\n<title>19</title>\n<polygon fill=\"#93caf1\" stroke=\"#000000\" points=\"734,-203 623,-203 623,-150 734,-150 734,-203\"/>\n<text text-anchor=\"middle\" x=\"678.5\" y=\"-187.8\" font-family=\"Times,serif\" font-size=\"14.00\" fill=\"#000000\">samples = 80</text>\n<text text-anchor=\"middle\" x=\"678.5\" y=\"-172.8\" font-family=\"Times,serif\" font-size=\"14.00\" fill=\"#000000\">value = [25, 55]</text>\n<text text-anchor=\"middle\" x=\"678.5\" y=\"-157.8\" font-family=\"Times,serif\" font-size=\"14.00\" fill=\"#000000\">class = Survived</text>\n</g>\n<!-- 17&#45;&gt;19 -->\n<g id=\"edge19\" class=\"edge\">\n<title>17&#45;&gt;19</title>\n<path fill=\"none\" stroke=\"#000000\" d=\"M584.2162,-220.2526C593.8593,-215.7777 603.9016,-211.1176 613.6828,-206.5786\"/>\n<polygon fill=\"#000000\" stroke=\"#000000\" points=\"615.3616,-209.6581 622.9592,-202.2738 612.415,-203.3084 615.3616,-209.6581\"/>\n</g>\n<!-- 21 -->\n<g id=\"node22\" class=\"node\">\n<title>21</title>\n<polygon fill=\"#399de5\" stroke=\"#000000\" points=\"581,-195 470,-195 470,-142 581,-142 581,-195\"/>\n<text text-anchor=\"middle\" x=\"525.5\" y=\"-179.8\" font-family=\"Times,serif\" font-size=\"14.00\" fill=\"#000000\">samples = 21</text>\n<text text-anchor=\"middle\" x=\"525.5\" y=\"-164.8\" font-family=\"Times,serif\" font-size=\"14.00\" fill=\"#000000\">value = [0, 21]</text>\n<text text-anchor=\"middle\" x=\"525.5\" y=\"-149.8\" font-family=\"Times,serif\" font-size=\"14.00\" fill=\"#000000\">class = Survived</text>\n</g>\n<!-- 20&#45;&gt;21 -->\n<g id=\"edge21\" class=\"edge\">\n<title>20&#45;&gt;21</title>\n<path fill=\"none\" stroke=\"#000000\" d=\"M428.1693,-168.5C438.4645,-168.5 449.3044,-168.5 459.8626,-168.5\"/>\n<polygon fill=\"#000000\" stroke=\"#000000\" points=\"459.8722,-172.0001 469.8721,-168.5 459.8721,-165.0001 459.8722,-172.0001\"/>\n</g>\n<!-- 22 -->\n<g id=\"node23\" class=\"node\">\n<title>22</title>\n<polygon fill=\"#76bbed\" stroke=\"#000000\" points=\"581,-123.5 470,-123.5 470,-55.5 581,-55.5 581,-123.5\"/>\n<text text-anchor=\"middle\" x=\"525.5\" y=\"-108.3\" font-family=\"Times,serif\" font-size=\"14.00\" fill=\"#000000\">age &lt;= 50.5</text>\n<text text-anchor=\"middle\" x=\"525.5\" y=\"-93.3\" font-family=\"Times,serif\" font-size=\"14.00\" fill=\"#000000\">samples = 47</text>\n<text text-anchor=\"middle\" x=\"525.5\" y=\"-78.3\" font-family=\"Times,serif\" font-size=\"14.00\" fill=\"#000000\">value = [11, 36]</text>\n<text text-anchor=\"middle\" x=\"525.5\" y=\"-63.3\" font-family=\"Times,serif\" font-size=\"14.00\" fill=\"#000000\">class = Survived</text>\n</g>\n<!-- 20&#45;&gt;22 -->\n<g id=\"edge22\" class=\"edge\">\n<title>20&#45;&gt;22</title>\n<path fill=\"none\" stroke=\"#000000\" d=\"M428.1693,-139.7557C438.7829,-134.2755 449.9755,-128.4963 460.8414,-122.8858\"/>\n<polygon fill=\"#000000\" stroke=\"#000000\" points=\"462.5925,-125.9208 469.8721,-118.2229 459.3809,-119.7009 462.5925,-125.9208\"/>\n</g>\n<!-- 23 -->\n<g id=\"node24\" class=\"node\">\n<title>23</title>\n<polygon fill=\"#8fc8f0\" stroke=\"#000000\" points=\"734,-124 623,-124 623,-71 734,-71 734,-124\"/>\n<text text-anchor=\"middle\" x=\"678.5\" y=\"-108.8\" font-family=\"Times,serif\" font-size=\"14.00\" fill=\"#000000\">samples = 33</text>\n<text text-anchor=\"middle\" x=\"678.5\" y=\"-93.8\" font-family=\"Times,serif\" font-size=\"14.00\" fill=\"#000000\">value = [10, 23]</text>\n<text text-anchor=\"middle\" x=\"678.5\" y=\"-78.8\" font-family=\"Times,serif\" font-size=\"14.00\" fill=\"#000000\">class = Survived</text>\n</g>\n<!-- 22&#45;&gt;23 -->\n<g id=\"edge23\" class=\"edge\">\n<title>22&#45;&gt;23</title>\n<path fill=\"none\" stroke=\"#000000\" d=\"M581.1693,-92.4108C591.4645,-92.9491 602.3044,-93.5159 612.8626,-94.068\"/>\n<polygon fill=\"#000000\" stroke=\"#000000\" points=\"612.703,-97.5643 622.8721,-94.5914 613.0686,-90.5739 612.703,-97.5643\"/>\n</g>\n<!-- 24 -->\n<g id=\"node25\" class=\"node\">\n<title>24</title>\n<polygon fill=\"#48a5e7\" stroke=\"#000000\" points=\"734,-53 623,-53 623,0 734,0 734,-53\"/>\n<text text-anchor=\"middle\" x=\"678.5\" y=\"-37.8\" font-family=\"Times,serif\" font-size=\"14.00\" fill=\"#000000\">samples = 14</text>\n<text text-anchor=\"middle\" x=\"678.5\" y=\"-22.8\" font-family=\"Times,serif\" font-size=\"14.00\" fill=\"#000000\">value = [1, 13]</text>\n<text text-anchor=\"middle\" x=\"678.5\" y=\"-7.8\" font-family=\"Times,serif\" font-size=\"14.00\" fill=\"#000000\">class = Survived</text>\n</g>\n<!-- 22&#45;&gt;24 -->\n<g id=\"edge24\" class=\"edge\">\n<title>22&#45;&gt;24</title>\n<path fill=\"none\" stroke=\"#000000\" d=\"M581.1693,-66.5773C591.6767,-62.2508 602.7517,-57.6905 613.5154,-53.2584\"/>\n<polygon fill=\"#000000\" stroke=\"#000000\" points=\"614.958,-56.4495 622.8721,-49.4056 612.2927,-49.9768 614.958,-56.4495\"/>\n</g>\n</g>\n</svg>\n"
          },
          "metadata": {
            "tags": []
          },
          "execution_count": 13
        }
      ]
    }
  ]
}
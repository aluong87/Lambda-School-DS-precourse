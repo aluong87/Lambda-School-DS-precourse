{
  "nbformat": 4,
  "nbformat_minor": 0,
  "metadata": {
    "colab": {
      "name": "Intro Assignment 4 - Inferential Statistics.ipynb",
      "version": "0.3.2",
      "provenance": [],
      "collapsed_sections": []
    },
    "kernelspec": {
      "display_name": "Python 3",
      "language": "python",
      "name": "python3"
    }
  },
  "cells": [
    {
      "cell_type": "markdown",
      "metadata": {
        "id": "LSwe_aflLNyk",
        "colab_type": "text"
      },
      "source": [
        "# Lambda School, Intro to Data Science, Day 4\n",
        "\n",
        "## Inferential Statistics Assignment"
      ]
    },
    {
      "cell_type": "code",
      "metadata": {
        "id": "i19U8PYQLNym",
        "colab_type": "code",
        "colab": {}
      },
      "source": [
        "%matplotlib inline\n",
        "import matplotlib.pyplot as plt\n",
        "import pandas as pd\n",
        "import random\n",
        "from statistics import mean, stdev"
      ],
      "execution_count": 0,
      "outputs": []
    },
    {
      "cell_type": "markdown",
      "metadata": {
        "id": "Gi1JCNi1LNyp",
        "colab_type": "text"
      },
      "source": [
        "# Titanic\n",
        "\n",
        "Use the [`describe` function in pandas](https://pandas.pydata.org/pandas-docs/stable/generated/pandas.DataFrame.describe.html) to calculate summary statistics (including mean and standard deviation) for `age` and `fare`.\n",
        "\n",
        "Think, and be ready to discuss: How do these two features compare in their central tendency and in their spread?"
      ]
    },
    {
      "cell_type": "code",
      "metadata": {
        "id": "r2ZTA_lILNyq",
        "colab_type": "code",
        "colab": {}
      },
      "source": [
        "df = pd.read_csv('https://raw.githubusercontent.com/ryanleeallred/datasets/master/titanic.csv', index_col=0)\n",
        "features = ['age', 'fare']\n",
        "df.dropna(subset=features, inplace=True)"
      ],
      "execution_count": 0,
      "outputs": []
    },
    {
      "cell_type": "code",
      "metadata": {
        "id": "N04bFF3PLNys",
        "colab_type": "code",
        "outputId": "536ee09d-b132-48ea-c3d5-4767330c5961",
        "colab": {
          "base_uri": "https://localhost:8080/",
          "height": 297
        }
      },
      "source": [
        "df[features].describe()\n",
        "\n",
        "# both have equal counts\n",
        "# means are relatively close\n",
        "# std difference is high\n",
        "# free fare could mean employees\n",
        "# not much discrepancy in interquartile ranges"
      ],
      "execution_count": 0,
      "outputs": [
        {
          "output_type": "execute_result",
          "data": {
            "text/html": [
              "<div>\n",
              "<style scoped>\n",
              "    .dataframe tbody tr th:only-of-type {\n",
              "        vertical-align: middle;\n",
              "    }\n",
              "\n",
              "    .dataframe tbody tr th {\n",
              "        vertical-align: top;\n",
              "    }\n",
              "\n",
              "    .dataframe thead th {\n",
              "        text-align: right;\n",
              "    }\n",
              "</style>\n",
              "<table border=\"1\" class=\"dataframe\">\n",
              "  <thead>\n",
              "    <tr style=\"text-align: right;\">\n",
              "      <th></th>\n",
              "      <th>age</th>\n",
              "      <th>fare</th>\n",
              "    </tr>\n",
              "  </thead>\n",
              "  <tbody>\n",
              "    <tr>\n",
              "      <th>count</th>\n",
              "      <td>714.000000</td>\n",
              "      <td>714.000000</td>\n",
              "    </tr>\n",
              "    <tr>\n",
              "      <th>mean</th>\n",
              "      <td>29.699118</td>\n",
              "      <td>34.694514</td>\n",
              "    </tr>\n",
              "    <tr>\n",
              "      <th>std</th>\n",
              "      <td>14.526497</td>\n",
              "      <td>52.918930</td>\n",
              "    </tr>\n",
              "    <tr>\n",
              "      <th>min</th>\n",
              "      <td>0.420000</td>\n",
              "      <td>0.000000</td>\n",
              "    </tr>\n",
              "    <tr>\n",
              "      <th>25%</th>\n",
              "      <td>20.125000</td>\n",
              "      <td>8.050000</td>\n",
              "    </tr>\n",
              "    <tr>\n",
              "      <th>50%</th>\n",
              "      <td>28.000000</td>\n",
              "      <td>15.741700</td>\n",
              "    </tr>\n",
              "    <tr>\n",
              "      <th>75%</th>\n",
              "      <td>38.000000</td>\n",
              "      <td>33.375000</td>\n",
              "    </tr>\n",
              "    <tr>\n",
              "      <th>max</th>\n",
              "      <td>80.000000</td>\n",
              "      <td>512.329200</td>\n",
              "    </tr>\n",
              "  </tbody>\n",
              "</table>\n",
              "</div>"
            ],
            "text/plain": [
              "              age        fare\n",
              "count  714.000000  714.000000\n",
              "mean    29.699118   34.694514\n",
              "std     14.526497   52.918930\n",
              "min      0.420000    0.000000\n",
              "25%     20.125000    8.050000\n",
              "50%     28.000000   15.741700\n",
              "75%     38.000000   33.375000\n",
              "max     80.000000  512.329200"
            ]
          },
          "metadata": {
            "tags": []
          },
          "execution_count": 3
        }
      ]
    },
    {
      "cell_type": "markdown",
      "metadata": {
        "id": "dfFb3yzjLNyu",
        "colab_type": "text"
      },
      "source": [
        "Plot histograms for both features.\n",
        "\n",
        "Think, and be ready to discuss: What do you notice about the shape of these distributions?"
      ]
    },
    {
      "cell_type": "code",
      "metadata": {
        "id": "KSIYR_sCYvBt",
        "colab_type": "code",
        "outputId": "6a17f5c2-825e-4f6b-c546-9b50b087ce99",
        "colab": {
          "base_uri": "https://localhost:8080/",
          "height": 312
        }
      },
      "source": [
        "plt.hist(df.fare)\n",
        "plt.title(\"Fares\")\n",
        "plt.xlabel(\"Price of fares\")\n",
        "plt.ylabel(\"# of purchases\")"
      ],
      "execution_count": 0,
      "outputs": [
        {
          "output_type": "execute_result",
          "data": {
            "text/plain": [
              "Text(0, 0.5, '# of purchases')"
            ]
          },
          "metadata": {
            "tags": []
          },
          "execution_count": 4
        },
        {
          "output_type": "display_data",
          "data": {
            "image/png": "[encoded data removed]",
            "text/plain": [
              "<Figure size 432x288 with 1 Axes>"
            ]
          },
          "metadata": {
            "tags": []
          }
        }
      ]
    },
    {
      "cell_type": "code",
      "metadata": {
        "id": "K2M9twlfLNyu",
        "colab_type": "code",
        "outputId": "a4092b9a-f6ca-46e8-b14c-9eedc938411a",
        "colab": {
          "base_uri": "https://localhost:8080/",
          "height": 312
        }
      },
      "source": [
        "plt.hist(df.age)\n",
        "plt.title(\"Age of passengers\")\n",
        "plt.xlabel(\"Age\")\n",
        "plt.ylabel(\"# of passengers\")\n",
        "\n",
        "# both are right-skewed\n",
        "# fares are usually less than ~50 but mean is about 35\n",
        "# most passengers are in their 20s and 30s -> mean is close to 30"
      ],
      "execution_count": 0,
      "outputs": [
        {
          "output_type": "execute_result",
          "data": {
            "text/plain": [
              "Text(0, 0.5, '# of passengers')"
            ]
          },
          "metadata": {
            "tags": []
          },
          "execution_count": 5
        },
        {
          "output_type": "display_data",
          "data": {
            "image/png": "[encoded data removed]",
            "text/plain": [
              "<Figure size 432x288 with 1 Axes>"
            ]
          },
          "metadata": {
            "tags": []
          }
        }
      ]
    },
    {
      "cell_type": "markdown",
      "metadata": {
        "id": "5cXkMdm-LNyz",
        "colab_type": "text"
      },
      "source": [
        "# Clumsy Carl\n",
        "\n",
        "Re-do the Clumsy Carl problem -- but suppose that Carl broke **2** of 5 dishes. What's the p-value?\n",
        "\n",
        "Think, and be ready to discuss: Would you reject the null hypothesis?\n",
        "\n",
        "Suggestion: You can look at the lecture notebook, but **don't copy-paste** from it!\n",
        "\n",
        "> You must type each of these exercises in, manually. If you copy and paste, you might as well not even do them. The point of these exercises is to train your hands, your brain, and your mind in how to read, write, and see code. If you copy-paste, you are cheating yourself out of the effectiveness of the lessons. —*[Learn Python the Hard Way](https://learnpythonthehardway.org/book/intro.html)*\n",
        "\n",
        "---\n",
        "\n",
        "Here's the problem restated:\n",
        "\n",
        "Imagine a restaurant employs five dishwashers:\n",
        "- Alice\n",
        "- Bob\n",
        "- Carl\n",
        "- Dave\n",
        "- Eric\n",
        "\n",
        "One week, they break five dishes -- and Carl breaks **two** of the five. So, his coworkers have a hypothesis: Carl is clumsy!\n",
        "\n",
        "Carl says no, it was just bad luck and random chance: it could have happened to anybody. We can call this the null hypothesis.\n",
        "\n",
        "Can we do some math to help answer this argument? What's the probability it was just bad luck?\n",
        "\n",
        "We can write a Monte Carlo simulation to estimate the probability that Carl breaks at least four of the five dishes, assuming that breaking a dish is a truly random event. (We'll assume that the dishwashers have identical workloads and skills.)\n"
      ]
    },
    {
      "cell_type": "code",
      "metadata": {
        "id": "5IdSBJnmLNy0",
        "colab_type": "code",
        "colab": {}
      },
      "source": [
        "dishwashers = ['Alice', 'Bob', 'Carl', 'Dave', 'Eric']"
      ],
      "execution_count": 0,
      "outputs": []
    },
    {
      "cell_type": "code",
      "metadata": {
        "id": "etpy-I1ILNy2",
        "colab_type": "code",
        "outputId": "5b80da2c-63f8-4400-a242-711a3b522db0",
        "colab": {
          "base_uri": "https://localhost:8080/",
          "height": 337
        }
      },
      "source": [
        "def mc():\n",
        "  dishbreakers = [random.choice(dishwashers) for _ in range(5)]\n",
        "  return dishbreakers.count('Carl')\n",
        "\n",
        "mc_dishbreak = [mc() for _ in range(50000)]\n",
        "\n",
        "plt.hist(mc_dishbreak)"
      ],
      "execution_count": 0,
      "outputs": [
        {
          "output_type": "execute_result",
          "data": {
            "text/plain": [
              "(array([1.6438e+04, 0.0000e+00, 2.0503e+04, 0.0000e+00, 1.0229e+04,\n",
              "        0.0000e+00, 2.4950e+03, 0.0000e+00, 3.1800e+02, 1.7000e+01]),\n",
              " array([0. , 0.5, 1. , 1.5, 2. , 2.5, 3. , 3.5, 4. , 4.5, 5. ]),\n",
              " <a list of 10 Patch objects>)"
            ]
          },
          "metadata": {
            "tags": []
          },
          "execution_count": 7
        },
        {
          "output_type": "display_data",
          "data": {
            "image/png": "[encoded data removed]",
            "text/plain": [
              "<Figure size 432x288 with 1 Axes>"
            ]
          },
          "metadata": {
            "tags": []
          }
        }
      ]
    },
    {
      "cell_type": "code",
      "metadata": {
        "id": "NxfW4JRpTS-A",
        "colab_type": "code",
        "outputId": "eae25c76-3042-43da-da35-0c0574ef41ae",
        "colab": {
          "base_uri": "https://localhost:8080/",
          "height": 51
        }
      },
      "source": [
        "# mean and std of broken dishes\n",
        "break_mean = mean(mc_dishbreak)\n",
        "print(\"Mean: {}\".format(break_mean))\n",
        "break_std = stdev(mc_dishbreak)\n",
        "print(\"STD: {}\".format(break_std))"
      ],
      "execution_count": 0,
      "outputs": [
        {
          "output_type": "stream",
          "text": [
            "Mean: 0.99606\n",
            "STD: 0.8919755539294651\n"
          ],
          "name": "stdout"
        }
      ]
    },
    {
      "cell_type": "code",
      "metadata": {
        "id": "lE7C1at_R8VF",
        "colab_type": "code",
        "outputId": "3bc27279-508e-4244-dde0-4820d975d3b3",
        "colab": {
          "base_uri": "https://localhost:8080/",
          "height": 34
        }
      },
      "source": [
        "# z-score of breaking two dishes\n",
        "zscore = (2 - mean(mc_dishbreak)) / stdev(mc_dishbreak)\n",
        "print(\"Z score: {}\".format(zscore))"
      ],
      "execution_count": 0,
      "outputs": [
        {
          "output_type": "stream",
          "text": [
            "Z score: 1.1255241195538288\n"
          ],
          "name": "stdout"
        }
      ]
    },
    {
      "cell_type": "code",
      "metadata": {
        "id": "OZPsFdKWZg4K",
        "colab_type": "code",
        "outputId": "eeba51ec-d630-4381-ff4c-55ea15e54e1f",
        "colab": {
          "base_uri": "https://localhost:8080/",
          "height": 51
        }
      },
      "source": [
        "# p-value for breaking two dishes\n",
        "pvalue2 = sum(dishbreak >= 2 for dishbreak in mc_dishbreak)\n",
        "\n",
        "# p-value percentage for breaking two\n",
        "pvalue_perc2 = sum(dishbreak >= 2 for dishbreak in mc_dishbreak) / len(mc_dishbreak)\n",
        "\n",
        "# if p-value is less than 5% then we reject null hypothesis\n",
        "# otherwise accept it\n",
        "if pvalue2 < .05:\n",
        "  print(\n",
        "      \"Reject null hypothesis. P-value of Carl breaking two dishes is {}, he is clumsy.\\n\".format(pvalue2),\n",
        "      \"Percentage of that happening is {}%\".format(pvalue_perc2)\n",
        "  )\n",
        "else:\n",
        "  print(\n",
        "      \"Accept null hypothesis. P-value of Carl breaking two dishes is {}, he is unlucky.\\n\".format(pvalue2),\n",
        "      \"Percentage of that happening is {}%\".format(pvalue_perc2)\n",
        "  )"
      ],
      "execution_count": 0,
      "outputs": [
        {
          "output_type": "stream",
          "text": [
            "Accept null hypothesis. P-value of Carl breaking two dishes is 13059, he is unlucky.\n",
            " Percentage of that happening is 0.26118%\n"
          ],
          "name": "stdout"
        }
      ]
    },
    {
      "cell_type": "code",
      "metadata": {
        "id": "mbqipHlAaJTd",
        "colab_type": "code",
        "outputId": "2709af4f-914c-4cf5-8533-6e7df099c101",
        "colab": {
          "base_uri": "https://localhost:8080/",
          "height": 51
        }
      },
      "source": [
        "# p-value for breaking four out of five dishes\n",
        "pvalue4 = sum(dishbreak >= 4 for dishbreak in mc_dishbreak)\n",
        "\n",
        "# p-value percentage for breaking four dishes\n",
        "pvalue_perc4 = sum(dishbreak >= 4 for dishbreak in mc_dishbreak) / len(mc_dishbreak)\n",
        "\n",
        "# if p-value is less than 5% then we reject null hypothesis\n",
        "# otherwise accept it\n",
        "if pvalue4 < .05:\n",
        "  print(\n",
        "      \"Reject null hypothesis. P-value of Carl breaking four dishes is {}, he is clumsy.\\n\".format(pvalue4),\n",
        "      \"Percentage of that happening is {}%\".format(pvalue_perc4)\n",
        "  )\n",
        "else:\n",
        "  print(\n",
        "      \"Accept null hypothesis. P-value of Carl breaking four dishes is {}, he is unlucky.\\n\".format(pvalue4),\n",
        "      \"Percentage of that happening is {}%\".format(pvalue_perc4)\n",
        "  )"
      ],
      "execution_count": 0,
      "outputs": [
        {
          "output_type": "stream",
          "text": [
            "Accept null hypothesis. P-value of Carl breaking four dishes is 335, he is unlucky.\n",
            " Percentage of that happening is 0.0067%\n"
          ],
          "name": "stdout"
        }
      ]
    },
    {
      "cell_type": "markdown",
      "metadata": {
        "id": "lbuNLuPVLNy4",
        "colab_type": "text"
      },
      "source": [
        "# Two dice\n",
        "\n",
        "Simulate the distribution of adding two dice.\n",
        "\n",
        "What is the mean? Standard deviation?"
      ]
    },
    {
      "cell_type": "code",
      "metadata": {
        "id": "Cn1yEJDQLNy5",
        "colab_type": "code",
        "outputId": "ce29d8e5-3e09-437a-c02e-dc7e5bae6ebc",
        "colab": {
          "base_uri": "https://localhost:8080/",
          "height": 51
        }
      },
      "source": [
        "def twodice(x):\n",
        "  rolls = []\n",
        "  for i in range(x):\n",
        "    dice = random.randint(1,6) + random.randint(1,6)\n",
        "    rolls.append(dice)\n",
        "  return rolls\n",
        "\n",
        "rolls = twodice(10000)\n",
        "twodice_mean = mean(rolls)\n",
        "print(\"Mean of rolling two dice 10,000 times: {}\".format(twodice_mean))\n",
        "twodice_std = stdev(rolls)\n",
        "print(\"STD: {}\".format(twodice_std))"
      ],
      "execution_count": 0,
      "outputs": [
        {
          "output_type": "stream",
          "text": [
            "Mean of rolling two dice 10,000 times: 7.0139\n",
            "STD: 2.4045966394594855\n"
          ],
          "name": "stdout"
        }
      ]
    },
    {
      "cell_type": "markdown",
      "metadata": {
        "id": "8Q0iMN5-LNy7",
        "colab_type": "text"
      },
      "source": [
        "What is the standard score (z score) of rolling a 10?"
      ]
    },
    {
      "cell_type": "code",
      "metadata": {
        "id": "9kOLJtxjLNy7",
        "colab_type": "code",
        "outputId": "d56c3de7-07d0-4a06-9735-b7c15614e43e",
        "colab": {
          "base_uri": "https://localhost:8080/",
          "height": 34
        }
      },
      "source": [
        "zscore = (10 - twodice_mean) / twodice_std\n",
        "print(\"Z score of rolling a 10 with 10,000 rolls: {}\".format(zscore))"
      ],
      "execution_count": 0,
      "outputs": [
        {
          "output_type": "stream",
          "text": [
            "Z score of rolling a 10 with 10,000 rolls: 1.2418298982033125\n"
          ],
          "name": "stdout"
        }
      ]
    },
    {
      "cell_type": "markdown",
      "metadata": {
        "id": "OXVQVpV0LNy-",
        "colab_type": "text"
      },
      "source": [
        "What is the probability of rolling a 10 or higher?"
      ]
    },
    {
      "cell_type": "code",
      "metadata": {
        "id": "YfWhW40YLNy_",
        "colab_type": "code",
        "outputId": "85b7f3b8-5cf0-4329-8f09-92f4bb8cfebf",
        "colab": {
          "base_uri": "https://localhost:8080/",
          "height": 51
        }
      },
      "source": [
        "probability = sum(roll >= 10 for roll in rolls)\n",
        "prob_percent = sum(roll >= 10 for roll in rolls) / len(rolls)\n",
        "print(\n",
        "    \"Probability of rolling 10 or higher 10,000 times: {}\\n\".format(probability),\n",
        "    \"Percentage: {}%\".format(prob_percent)\n",
        ")"
      ],
      "execution_count": 0,
      "outputs": [
        {
          "output_type": "stream",
          "text": [
            "Probability of rolling 10 or higher 10,000 times: 1682\n",
            " Percentage: 0.1682%\n"
          ],
          "name": "stdout"
        }
      ]
    },
    {
      "cell_type": "markdown",
      "metadata": {
        "id": "p8zeToPqLNzB",
        "colab_type": "text"
      },
      "source": [
        "# Harvest"
      ]
    },
    {
      "cell_type": "markdown",
      "metadata": {
        "id": "xf08Iq7uLNzC",
        "colab_type": "text"
      },
      "source": [
        "Using bootstrap resampling, calculate the 95% confidence interval for mean apple weight ..."
      ]
    },
    {
      "cell_type": "code",
      "metadata": {
        "id": "9pjuLKH5LNzC",
        "colab_type": "code",
        "colab": {}
      },
      "source": [
        "def bootstrap_sample(items):\n",
        "    # Random resample *with replacement*\n",
        "    return random.choices(items, k=len(items))\n",
        "\n",
        "def percentile(x, p):\n",
        "    # x: List of numbers\n",
        "    # p: Percentile, between 0 and 100\n",
        "    i = round((len(x) - 1) * p/100)\n",
        "    return sorted(x)[i]\n",
        "\n",
        "apples = [.5, .4, .5, .6, .3, .7]"
      ],
      "execution_count": 0,
      "outputs": []
    },
    {
      "cell_type": "code",
      "metadata": {
        "id": "khfyPC0ULNzD",
        "colab_type": "code",
        "outputId": "3da12de5-eb3f-49da-9159-67cd2b655f27",
        "colab": {
          "base_uri": "https://localhost:8080/",
          "height": 51
        }
      },
      "source": [
        "# bootstrap resampling for apples out of 10000 samples\n",
        "mean_apples = [mean(bootstrap_sample(apples)) for _ in range(10000)]\n",
        "apples_5, apples_95 = percentile(mean_apples, 5), percentile(mean_apples, 95)\n",
        "print(\n",
        "    \"95% confidence interval for mean apple weight is {}.\\n\".format(apples_95),\n",
        "    \"5% is {}\".format(apples_5)\n",
        ")"
      ],
      "execution_count": 0,
      "outputs": [
        {
          "output_type": "stream",
          "text": [
            "95% confidence interval for mean apple weight is 0.5833333333333333.\n",
            " 5% is 0.41666666666666663\n"
          ],
          "name": "stdout"
        }
      ]
    },
    {
      "cell_type": "markdown",
      "metadata": {
        "id": "xsqjoIYJLNzH",
        "colab_type": "text"
      },
      "source": [
        "... and for mean pumpkin weight:"
      ]
    },
    {
      "cell_type": "code",
      "metadata": {
        "id": "nqXdG9hQLNzH",
        "colab_type": "code",
        "colab": {}
      },
      "source": [
        "pumpkins = [1, 1, 1, 3, 3, 591]"
      ],
      "execution_count": 0,
      "outputs": []
    },
    {
      "cell_type": "code",
      "metadata": {
        "id": "c65JnpNHLNzI",
        "colab_type": "code",
        "outputId": "a8b7dc84-0b9e-4c91-9efe-276d3fed5d05",
        "colab": {
          "base_uri": "https://localhost:8080/",
          "height": 51
        }
      },
      "source": [
        "# bootstrap resampling for pumpkins out of 10000 samples\n",
        "mean_pumpkins = [mean(bootstrap_sample(pumpkins)) for _ in range(10000)]\n",
        "pumpkins_5, pumpkins_95 = percentile(mean_pumpkins, 5), percentile(mean_pumpkins, 95)\n",
        "print(\n",
        "    \"95% confidence interval for mean pumpkin weight is {}\\n\".format(pumpkins_95),\n",
        "    \"5% is {}\".format(pumpkins_5)\n",
        ")"
      ],
      "execution_count": 0,
      "outputs": [
        {
          "output_type": "stream",
          "text": [
            "95% confidence interval for mean pumpkin weight is 296.3333333333333\n",
            " 5% is 1.3333333333333333\n"
          ],
          "name": "stdout"
        }
      ]
    }
  ]
}
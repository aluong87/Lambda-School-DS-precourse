{
  "nbformat": 4,
  "nbformat_minor": 0,
  "metadata": {
    "colab": {
      "name": "Intro Assignment 7 - More Regression.ipynb",
      "version": "0.3.2",
      "provenance": [],
      "collapsed_sections": []
    },
    "kernelspec": {
      "display_name": "Python 3",
      "language": "python",
      "name": "python3"
    }
  },
  "cells": [
    {
      "cell_type": "markdown",
      "metadata": {
        "id": "T9H4rAOJmyXO",
        "colab_type": "text"
      },
      "source": [
        "# Lambda School, Intro to Data Science, Day 7 — More Regression!\n",
        "\n",
        "## Assignment\n",
        "\n",
        "### 1. Experiment with Nearest Neighbor parameter\n",
        "\n",
        "Using the same 10 training data points from the lesson, train a `KNeighborsRegressor` model with `n_neighbors=1`.\n",
        "\n",
        "Use both `carat` and `cut` features.\n",
        "\n",
        "Calculate the mean absolute error on the training data and on the test data."
      ]
    },
    {
      "cell_type": "code",
      "metadata": {
        "id": "CKsxHHzmmyXP",
        "colab_type": "code",
        "colab": {}
      },
      "source": [
        "%matplotlib inline\n",
        "import matplotlib.pyplot as plt\n",
        "import pandas as pd\n",
        "from sklearn.neighbors import KNeighborsRegressor\n",
        "from sklearn.metrics import mean_absolute_error\n",
        "\n",
        "columns = ['carat', 'cut', 'price']\n",
        "\n",
        "train = pd.DataFrame(columns=columns, \n",
        "        data=[[0.3, 'Ideal', 422],\n",
        "        [0.31, 'Ideal', 489],\n",
        "        [0.42, 'Premium', 737],\n",
        "        [0.5, 'Ideal', 1415],\n",
        "        [0.51, 'Premium', 1177],\n",
        "        [0.7, 'Fair', 1865],\n",
        "        [0.73, 'Fair', 2351],\n",
        "        [1.01, 'Good', 3768],\n",
        "        [1.18, 'Very Good', 3965],\n",
        "        [1.18, 'Ideal', 4838]])\n",
        "\n",
        "test  = pd.DataFrame(columns=columns, \n",
        "        data=[[0.3, 'Ideal', 432],\n",
        "        [0.34, 'Ideal', 687],\n",
        "        [0.37, 'Premium', 1124],\n",
        "        [0.4, 'Good', 720],\n",
        "        [0.51, 'Ideal', 1397],\n",
        "        [0.51, 'Very Good', 1284],\n",
        "        [0.59, 'Ideal', 1437],\n",
        "        [0.7, 'Ideal', 3419],\n",
        "        [0.9, 'Premium', 3484],\n",
        "        [0.9, 'Fair', 2964]])\n",
        "\n",
        "cut_ranks = {'Fair': 1, 'Good': 2, 'Very Good': 3, 'Premium': 4, 'Ideal': 5}\n",
        "train.cut = train.cut.map(cut_ranks)\n",
        "test.cut = test.cut.map(cut_ranks)"
      ],
      "execution_count": 0,
      "outputs": []
    },
    {
      "cell_type": "code",
      "metadata": {
        "id": "4MrRasT_myXT",
        "colab_type": "code",
        "outputId": "30bc9a62-2e29-4675-e1d0-ed813e154e38",
        "colab": {
          "base_uri": "https://localhost:8080/",
          "height": 68
        }
      },
      "source": [
        "features = ['carat', 'cut']\n",
        "target = 'price'\n",
        "model = KNeighborsRegressor(n_neighbors=1)\n",
        "\n",
        "# train model\n",
        "model.fit(train[features], train[target])"
      ],
      "execution_count": 0,
      "outputs": [
        {
          "output_type": "execute_result",
          "data": {
            "text/plain": [
              "KNeighborsRegressor(algorithm='auto', leaf_size=30, metric='minkowski',\n",
              "                    metric_params=None, n_jobs=None, n_neighbors=1, p=2,\n",
              "                    weights='uniform')"
            ]
          },
          "metadata": {
            "tags": []
          },
          "execution_count": 2
        }
      ]
    },
    {
      "cell_type": "code",
      "metadata": {
        "id": "LyG8Qg_aKs-f",
        "colab_type": "code",
        "outputId": "ecf9e3a7-fb31-4079-88ba-3b0a13eb7f7b",
        "colab": {
          "base_uri": "https://localhost:8080/",
          "height": 68
        }
      },
      "source": [
        "# test model\n",
        "model.fit(test[features], test[target])"
      ],
      "execution_count": 0,
      "outputs": [
        {
          "output_type": "execute_result",
          "data": {
            "text/plain": [
              "KNeighborsRegressor(algorithm='auto', leaf_size=30, metric='minkowski',\n",
              "                    metric_params=None, n_jobs=None, n_neighbors=1, p=2,\n",
              "                    weights='uniform')"
            ]
          },
          "metadata": {
            "tags": []
          },
          "execution_count": 3
        }
      ]
    },
    {
      "cell_type": "code",
      "metadata": {
        "id": "nnADTAKIK2aK",
        "colab_type": "code",
        "outputId": "7bf0b3ab-7c41-4212-ee80-9b750e229960",
        "colab": {
          "base_uri": "https://localhost:8080/",
          "height": 34
        }
      },
      "source": [
        "# training model mean absolute error\n",
        "true_train = train[target]\n",
        "predict_train = model.predict(train[features])\n",
        "train_error = mean_absolute_error(true_train, predict_train)\n",
        "print(\"Training error:\", round(train_error))"
      ],
      "execution_count": 0,
      "outputs": [
        {
          "output_type": "stream",
          "text": [
            "Training error: 938.0\n"
          ],
          "name": "stdout"
        }
      ]
    },
    {
      "cell_type": "code",
      "metadata": {
        "id": "5vvSsDr0LSzQ",
        "colab_type": "code",
        "outputId": "d553e55d-d330-443f-8dca-6180863bc2df",
        "colab": {
          "base_uri": "https://localhost:8080/",
          "height": 34
        }
      },
      "source": [
        "# test model mean absolute error\n",
        "true_test = test[target]\n",
        "predict_test = model.predict(test[features])\n",
        "test_error = mean_absolute_error(true_test, predict_test)\n",
        "print(\"Testing error:\", round(test_error))"
      ],
      "execution_count": 0,
      "outputs": [
        {
          "output_type": "stream",
          "text": [
            "Testing error: 0.0\n"
          ],
          "name": "stdout"
        }
      ]
    },
    {
      "cell_type": "markdown",
      "metadata": {
        "id": "NQQveVK9myXV",
        "colab_type": "text"
      },
      "source": [
        "How does the train error and test error compare to the previous `KNeighborsRegressor` model from the lesson? (The previous model used `n_neighbors=2` and only the `carat` feature.)\n",
        "\n",
        "- As stated, the previous model used `n_neighbors=2` whereas this model uses `n_neighbors=1` and uses both `carat` and `cut` features. Unfortunately, a `Kneighbor` model is unable to predict a the `price` at a higher `carat`.\n",
        "\n",
        "Is this new model overfitting or underfitting? Why do you think this is happening here? \n",
        "\n",
        "- This `Kneighbor` model is underfitting because training error is much higher than testing error and testing error is zero. This dataset also has much more data than the one in the lecture and `k` value is 1 rather than 2 so the model chooses data points that are clumped closer together resulting in lower testing error."
      ]
    },
    {
      "cell_type": "markdown",
      "metadata": {
        "id": "zQJDW1-QmyXW",
        "colab_type": "text"
      },
      "source": [
        "### 2. More data, two features, linear regression\n",
        "\n",
        "Use the following code to load data for diamonds under $5,000, and split the data into train and test sets. The training data has almost 30,000 rows, and the test data has almost 10,000 rows."
      ]
    },
    {
      "cell_type": "code",
      "metadata": {
        "id": "IDXEn8lvmyXW",
        "colab_type": "code",
        "outputId": "f70af0e9-311d-40ac-c953-595dcbf528cf",
        "colab": {
          "base_uri": "https://localhost:8080/",
          "height": 34
        }
      },
      "source": [
        "import seaborn as sns\n",
        "from sklearn.linear_model import LinearRegression\n",
        "from sklearn.model_selection import train_test_split\n",
        "\n",
        "df = sns.load_dataset('diamonds')\n",
        "df = df[df.price < 5000]\n",
        "train, test = train_test_split(df.copy(), random_state=0)\n",
        "train.shape, test.shape"
      ],
      "execution_count": 0,
      "outputs": [
        {
          "output_type": "execute_result",
          "data": {
            "text/plain": [
              "((29409, 10), (9804, 10))"
            ]
          },
          "metadata": {
            "tags": []
          },
          "execution_count": 6
        }
      ]
    },
    {
      "cell_type": "markdown",
      "metadata": {
        "id": "1VZ7PH6nmyXZ",
        "colab_type": "text"
      },
      "source": [
        "Then, train a Linear Regression model with the `carat` and `cut` features. Calculate the mean absolute error on the training data and on the test data."
      ]
    },
    {
      "cell_type": "code",
      "metadata": {
        "id": "XCTsEqZtmyXZ",
        "colab_type": "code",
        "outputId": "7ab63a68-1442-4b4e-8050-a5fa26489078",
        "colab": {
          "base_uri": "https://localhost:8080/",
          "height": 34
        }
      },
      "source": [
        "model = LinearRegression()\n",
        "cut_ranks = {'Fair': 1, 'Good': 2, 'Very Good': 3, 'Premium': 4, 'Ideal': 5}\n",
        "train.cut = train.cut.map(cut_ranks)\n",
        "test.cut = test.cut.map(cut_ranks)\n",
        "\n",
        "# training model\n",
        "model.fit(train[features], train[target])\n",
        "\n",
        "# testing model\n",
        "model.fit(test[features], test[target])"
      ],
      "execution_count": 0,
      "outputs": [
        {
          "output_type": "execute_result",
          "data": {
            "text/plain": [
              "LinearRegression(copy_X=True, fit_intercept=True, n_jobs=None, normalize=False)"
            ]
          },
          "metadata": {
            "tags": []
          },
          "execution_count": 7
        }
      ]
    },
    {
      "cell_type": "code",
      "metadata": {
        "id": "ovpEBHPJNZXd",
        "colab_type": "code",
        "outputId": "c806f45c-5c63-46b9-bf61-8ad02cbfb236",
        "colab": {
          "base_uri": "https://localhost:8080/",
          "height": 34
        }
      },
      "source": [
        "# training data mean absolute error\n",
        "training_data = train[target]\n",
        "training_data_predict = model.predict(train[features])\n",
        "training_data_error = mean_absolute_error(training_data, training_data_predict)\n",
        "print(\"Training error:\", training_data_error)"
      ],
      "execution_count": 0,
      "outputs": [
        {
          "output_type": "stream",
          "text": [
            "Training error: 309.41076133261504\n"
          ],
          "name": "stdout"
        }
      ]
    },
    {
      "cell_type": "code",
      "metadata": {
        "id": "imVXAr7wNRpP",
        "colab_type": "code",
        "outputId": "aa1f4df5-e552-4253-f504-22c7ce2ad035",
        "colab": {
          "base_uri": "https://localhost:8080/",
          "height": 34
        }
      },
      "source": [
        "# testing data mean absolute error\n",
        "testing_data = test[target]\n",
        "testing_data_predict = model.predict(test[features])\n",
        "testing_data_error = mean_absolute_error(testing_data, testing_data_predict)\n",
        "print(\"Testing error:\", testing_data_error)"
      ],
      "execution_count": 0,
      "outputs": [
        {
          "output_type": "stream",
          "text": [
            "Testing error: 309.0887217763545\n"
          ],
          "name": "stdout"
        }
      ]
    },
    {
      "cell_type": "markdown",
      "metadata": {
        "id": "4jLEcukVmyXb",
        "colab_type": "text"
      },
      "source": [
        "Use this model to predict the price of a half carat diamond with \"very good\" cut\n",
        "\n"
      ]
    },
    {
      "cell_type": "code",
      "metadata": {
        "id": "m1pDzeLZmyXb",
        "colab_type": "code",
        "outputId": "061af9f4-093e-47c4-9870-679178b132b2",
        "colab": {
          "base_uri": "https://localhost:8080/",
          "height": 34
        }
      },
      "source": [
        "model.predict([[0.5, 3]])"
      ],
      "execution_count": 0,
      "outputs": [
        {
          "output_type": "execute_result",
          "data": {
            "text/plain": [
              "array([1489.75066951])"
            ]
          },
          "metadata": {
            "tags": []
          },
          "execution_count": 10
        }
      ]
    },
    {
      "cell_type": "markdown",
      "metadata": {
        "id": "eB-7wzRjmyXe",
        "colab_type": "text"
      },
      "source": [
        "### 3. More data, more features, any model"
      ]
    },
    {
      "cell_type": "markdown",
      "metadata": {
        "id": "OCauk9z2myXf",
        "colab_type": "text"
      },
      "source": [
        "You choose what features and model type to use! Try to get a better mean absolute error on the test set than your model from the last question."
      ]
    },
    {
      "cell_type": "markdown",
      "metadata": {
        "id": "nWVpkz8dmyXf",
        "colab_type": "text"
      },
      "source": [
        "Refer to [this documentation](https://ggplot2.tidyverse.org/reference/diamonds.html) for more explanation of the features.\n",
        "\n",
        "Besides `cut`, there are two more ordinal features, which you'd need to encode as numbers if you want to use in your model:"
      ]
    },
    {
      "cell_type": "code",
      "metadata": {
        "id": "54K95PyEmyXf",
        "colab_type": "code",
        "outputId": "b88c72c2-0dd0-44d1-d717-9a99182d04ec",
        "colab": {
          "base_uri": "https://localhost:8080/",
          "height": 119
        }
      },
      "source": [
        "print(train.describe(include=['object']))\n",
        "print(train.shape)"
      ],
      "execution_count": 0,
      "outputs": [
        {
          "output_type": "stream",
          "text": [
            "        color clarity\n",
            "count   29409   29409\n",
            "unique      7       8\n",
            "top         E     SI1\n",
            "freq     6090    6948\n",
            "(29409, 10)\n"
          ],
          "name": "stdout"
        }
      ]
    },
    {
      "cell_type": "code",
      "metadata": {
        "id": "ZUiQCTdQmyXi",
        "colab_type": "code",
        "colab": {}
      },
      "source": [
        "# mapping clarity and color to number rankings\n",
        "clarity_rank = {\"IF\": 0,\"VVS1\": 1, \"VVS2\": 2,\"VS1\": 3, \"VS2\": 4,\"SI1\": 5, \"SI2\": 6, \"I1\": 7}\n",
        "color_rank = {\"J\": 7, \"I\": 6, \"H\": 5, \"G\": 4, \"F\": 3, \"E\": 2, \"E\":2, \"D\": 1}\n",
        "train.clarity = train.clarity.map(clarity_rank)\n",
        "train.color = train.color.map(color_rank)\n",
        "test.clarity = test.clarity.map(clarity_rank)\n",
        "test.color = test.color.map(color_rank)"
      ],
      "execution_count": 0,
      "outputs": []
    },
    {
      "cell_type": "code",
      "metadata": {
        "id": "hcU-QawGZfi-",
        "colab_type": "code",
        "outputId": "d2cfe7ea-0dec-4ad9-8d9a-8766fb460a20",
        "colab": {
          "base_uri": "https://localhost:8080/",
          "height": 34
        }
      },
      "source": [
        "# checking for null values after mapping\n",
        "train.isnull().values.any()"
      ],
      "execution_count": 0,
      "outputs": [
        {
          "output_type": "execute_result",
          "data": {
            "text/plain": [
              "False"
            ]
          },
          "metadata": {
            "tags": []
          },
          "execution_count": 13
        }
      ]
    },
    {
      "cell_type": "code",
      "metadata": {
        "id": "nin2_uYmiDF5",
        "colab_type": "code",
        "outputId": "f0e5183a-dc6f-4bef-b7da-874644960811",
        "colab": {
          "base_uri": "https://localhost:8080/",
          "height": 204
        }
      },
      "source": [
        "# everything looks good\n",
        "train.isnull().sum()"
      ],
      "execution_count": 0,
      "outputs": [
        {
          "output_type": "execute_result",
          "data": {
            "text/plain": [
              "carat      0\n",
              "cut        0\n",
              "color      0\n",
              "clarity    0\n",
              "depth      0\n",
              "table      0\n",
              "price      0\n",
              "x          0\n",
              "y          0\n",
              "z          0\n",
              "dtype: int64"
            ]
          },
          "metadata": {
            "tags": []
          },
          "execution_count": 14
        }
      ]
    },
    {
      "cell_type": "code",
      "metadata": {
        "id": "3oPle7csd916",
        "colab_type": "code",
        "outputId": "fd2dcb89-e10c-4b1c-bb8d-dbd218471c1f",
        "colab": {
          "base_uri": "https://localhost:8080/",
          "height": 34
        }
      },
      "source": [
        "# using linear regression model but with more features this time\n",
        "# seeing if error numbers are lower than previous linear regression model\n",
        "features = ['carat', 'cut', 'color', 'clarity']\n",
        "target = ['price']\n",
        "model = LinearRegression()\n",
        "model.fit(train[features], train[target])\n",
        "model.fit(test[features], test[target])"
      ],
      "execution_count": 0,
      "outputs": [
        {
          "output_type": "execute_result",
          "data": {
            "text/plain": [
              "LinearRegression(copy_X=True, fit_intercept=True, n_jobs=None, normalize=False)"
            ]
          },
          "metadata": {
            "tags": []
          },
          "execution_count": 15
        }
      ]
    },
    {
      "cell_type": "code",
      "metadata": {
        "id": "Jp5cseGba9fT",
        "colab_type": "code",
        "outputId": "7bd171b2-9e06-40a2-b4e7-58ba2cba38c7",
        "colab": {
          "base_uri": "https://localhost:8080/",
          "height": 34
        }
      },
      "source": [
        "# train mean absolute error\n",
        "train_tar = train[target]\n",
        "predict_tr = model.predict(train[features])\n",
        "tr_error = mean_absolute_error(train_tar, predict_tr)\n",
        "print('Training error:', tr_error)"
      ],
      "execution_count": 0,
      "outputs": [
        {
          "output_type": "stream",
          "text": [
            "Training error: 244.85512977505022\n"
          ],
          "name": "stdout"
        }
      ]
    },
    {
      "cell_type": "code",
      "metadata": {
        "id": "DmWn5_lIbQ-a",
        "colab_type": "code",
        "outputId": "1d90bdb0-7ef1-4f3e-89fd-02deb5ab9188",
        "colab": {
          "base_uri": "https://localhost:8080/",
          "height": 34
        }
      },
      "source": [
        "#test mean absolute error\n",
        "test_tar = test[target]\n",
        "predict_te = model.predict(test[features])\n",
        "te_error = mean_absolute_error(test_tar, predict_te)\n",
        "print('Test error:', te_error)"
      ],
      "execution_count": 0,
      "outputs": [
        {
          "output_type": "stream",
          "text": [
            "Test error: 246.02828588394243\n"
          ],
          "name": "stdout"
        }
      ]
    },
    {
      "cell_type": "markdown",
      "metadata": {
        "id": "_bUUNBdCi3t5",
        "colab_type": "text"
      },
      "source": [
        "Predict the price of a half carat diamond with \"very good\" cut, \"G\" color, \"VS2\" clarity."
      ]
    },
    {
      "cell_type": "code",
      "metadata": {
        "id": "dE0aJ0m9imyh",
        "colab_type": "code",
        "outputId": "26defeba-7c44-468c-bed4-7d13004e0bb8",
        "colab": {
          "base_uri": "https://localhost:8080/",
          "height": 34
        }
      },
      "source": [
        "# carat, cut, color, clarity\n",
        "model.predict([[0.5, 3, 4, 4]])"
      ],
      "execution_count": 0,
      "outputs": [
        {
          "output_type": "execute_result",
          "data": {
            "text/plain": [
              "array([[1379.6009241]])"
            ]
          },
          "metadata": {
            "tags": []
          },
          "execution_count": 18
        }
      ]
    }
  ]
}
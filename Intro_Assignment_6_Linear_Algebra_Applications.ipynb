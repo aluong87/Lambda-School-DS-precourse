{
  "nbformat": 4,
  "nbformat_minor": 0,
  "metadata": {
    "colab": {
      "name": "Intro Day 6 Assignment - Linear Algebra Applications.ipynb",
      "version": "0.3.2",
      "provenance": [],
      "collapsed_sections": []
    },
    "kernelspec": {
      "name": "python3",
      "display_name": "Python 3"
    }
  },
  "cells": [
    {
      "cell_type": "markdown",
      "metadata": {
        "id": "ZBEbTcJDzUmY",
        "colab_type": "text"
      },
      "source": [
        "#Linear Algebra Applications Assignment\n",
        "\n"
      ]
    },
    {
      "cell_type": "markdown",
      "metadata": {
        "id": "eL5Phm9uvdMN",
        "colab_type": "text"
      },
      "source": [
        "\n",
        "\n",
        "### Your data:\n",
        "\n",
        "**chirps_per_sec** = chirps/sec for the striped ground cricket\n",
        "\n",
        "**temperature** = temperature in degrees Fahrenheit\n",
        "\n",
        "Reference: The Song of Insects by Dr.G.W. Pierce, Harvard College Press"
      ]
    },
    {
      "cell_type": "code",
      "metadata": {
        "id": "5gk0TM_HBZQH",
        "colab_type": "code",
        "colab": {}
      },
      "source": [
        ""
      ],
      "execution_count": 0,
      "outputs": []
    },
    {
      "cell_type": "code",
      "metadata": {
        "id": "98zwjiT6XgIu",
        "colab_type": "code",
        "outputId": "c8ebd19e-a602-4691-fc75-08def39c8575",
        "colab": {
          "base_uri": "https://localhost:8080/",
          "height": 238
        }
      },
      "source": [
        "import pandas as pd\n",
        "\n",
        "df = pd.read_excel('https://college.cengage.com/mathematics/brase/understandable_statistics/7e/students/datasets/slr/excel/slr02.xls')\n",
        "df = df.rename(columns={'X':'chirps_per_sec', 'Y':'temperature'})\n",
        "\n",
        "print(df.shape)\n",
        "df.head()"
      ],
      "execution_count": 0,
      "outputs": [
        {
          "output_type": "stream",
          "text": [
            "*** No CODEPAGE record, no encoding_override: will use 'ascii'\n",
            "(15, 2)\n"
          ],
          "name": "stdout"
        },
        {
          "output_type": "execute_result",
          "data": {
            "text/html": [
              "<div>\n",
              "<style scoped>\n",
              "    .dataframe tbody tr th:only-of-type {\n",
              "        vertical-align: middle;\n",
              "    }\n",
              "\n",
              "    .dataframe tbody tr th {\n",
              "        vertical-align: top;\n",
              "    }\n",
              "\n",
              "    .dataframe thead th {\n",
              "        text-align: right;\n",
              "    }\n",
              "</style>\n",
              "<table border=\"1\" class=\"dataframe\">\n",
              "  <thead>\n",
              "    <tr style=\"text-align: right;\">\n",
              "      <th></th>\n",
              "      <th>chirps_per_sec</th>\n",
              "      <th>temperature</th>\n",
              "    </tr>\n",
              "  </thead>\n",
              "  <tbody>\n",
              "    <tr>\n",
              "      <th>0</th>\n",
              "      <td>20.000000</td>\n",
              "      <td>88.599998</td>\n",
              "    </tr>\n",
              "    <tr>\n",
              "      <th>1</th>\n",
              "      <td>16.000000</td>\n",
              "      <td>71.599998</td>\n",
              "    </tr>\n",
              "    <tr>\n",
              "      <th>2</th>\n",
              "      <td>19.799999</td>\n",
              "      <td>93.300003</td>\n",
              "    </tr>\n",
              "    <tr>\n",
              "      <th>3</th>\n",
              "      <td>18.400000</td>\n",
              "      <td>84.300003</td>\n",
              "    </tr>\n",
              "    <tr>\n",
              "      <th>4</th>\n",
              "      <td>17.100000</td>\n",
              "      <td>80.599998</td>\n",
              "    </tr>\n",
              "  </tbody>\n",
              "</table>\n",
              "</div>"
            ],
            "text/plain": [
              "   chirps_per_sec  temperature\n",
              "0       20.000000    88.599998\n",
              "1       16.000000    71.599998\n",
              "2       19.799999    93.300003\n",
              "3       18.400000    84.300003\n",
              "4       17.100000    80.599998"
            ]
          },
          "metadata": {
            "tags": []
          },
          "execution_count": 1
        }
      ]
    },
    {
      "cell_type": "markdown",
      "metadata": {
        "id": "5oZeVIg12QE2",
        "colab_type": "text"
      },
      "source": [
        "## 1) Graph a scatterplot of chirps_per_sec vs temperature "
      ]
    },
    {
      "cell_type": "code",
      "metadata": {
        "id": "AECb-XTY2Ydq",
        "colab_type": "code",
        "outputId": "695f8142-9ee2-4545-a9dc-819dbdfa3791",
        "colab": {
          "base_uri": "https://localhost:8080/",
          "height": 318
        }
      },
      "source": [
        "import matplotlib.pyplot as plt\n",
        "plt.scatter(df['temperature'], df['chirps_per_sec'])\n",
        "plt.title('Chirps_per_sec vs. Temperature', fontsize=16)\n",
        "plt.xlabel('Temp in Fahrenheit', fontsize=14)\n",
        "plt.ylabel('Chirps per second', fontsize=12)"
      ],
      "execution_count": 0,
      "outputs": [
        {
          "output_type": "execute_result",
          "data": {
            "text/plain": [
              "Text(0, 0.5, 'Chirps per second')"
            ]
          },
          "metadata": {
            "tags": []
          },
          "execution_count": 2
        },
        {
          "output_type": "display_data",
          "data": {
            "image/png": "[encoded data removed]",
            "text/plain": [
              "<Figure size 432x288 with 1 Axes>"
            ]
          },
          "metadata": {
            "tags": []
          }
        }
      ]
    },
    {
      "cell_type": "markdown",
      "metadata": {
        "id": "2aWNZV0V2bEJ",
        "colab_type": "text"
      },
      "source": [
        "## 2) Follow the steps below to compute the coefficients (intercept and slope) for the line of best fit:\n",
        "\n",
        "## 2.1) Use np.ones to add a column of ones to the dataframe"
      ]
    },
    {
      "cell_type": "code",
      "metadata": {
        "id": "cRlmMxmi2p1V",
        "colab_type": "code",
        "outputId": "69e26b2f-9537-49dd-d317-93a16cb0f256",
        "colab": {
          "base_uri": "https://localhost:8080/",
          "height": 204
        }
      },
      "source": [
        "import numpy as np\n",
        "df['Ones'] = np.ones(15)\n",
        "df.shape\n",
        "df.head()"
      ],
      "execution_count": 0,
      "outputs": [
        {
          "output_type": "execute_result",
          "data": {
            "text/html": [
              "<div>\n",
              "<style scoped>\n",
              "    .dataframe tbody tr th:only-of-type {\n",
              "        vertical-align: middle;\n",
              "    }\n",
              "\n",
              "    .dataframe tbody tr th {\n",
              "        vertical-align: top;\n",
              "    }\n",
              "\n",
              "    .dataframe thead th {\n",
              "        text-align: right;\n",
              "    }\n",
              "</style>\n",
              "<table border=\"1\" class=\"dataframe\">\n",
              "  <thead>\n",
              "    <tr style=\"text-align: right;\">\n",
              "      <th></th>\n",
              "      <th>chirps_per_sec</th>\n",
              "      <th>temperature</th>\n",
              "      <th>Ones</th>\n",
              "    </tr>\n",
              "  </thead>\n",
              "  <tbody>\n",
              "    <tr>\n",
              "      <th>0</th>\n",
              "      <td>20.000000</td>\n",
              "      <td>88.599998</td>\n",
              "      <td>1.0</td>\n",
              "    </tr>\n",
              "    <tr>\n",
              "      <th>1</th>\n",
              "      <td>16.000000</td>\n",
              "      <td>71.599998</td>\n",
              "      <td>1.0</td>\n",
              "    </tr>\n",
              "    <tr>\n",
              "      <th>2</th>\n",
              "      <td>19.799999</td>\n",
              "      <td>93.300003</td>\n",
              "      <td>1.0</td>\n",
              "    </tr>\n",
              "    <tr>\n",
              "      <th>3</th>\n",
              "      <td>18.400000</td>\n",
              "      <td>84.300003</td>\n",
              "      <td>1.0</td>\n",
              "    </tr>\n",
              "    <tr>\n",
              "      <th>4</th>\n",
              "      <td>17.100000</td>\n",
              "      <td>80.599998</td>\n",
              "      <td>1.0</td>\n",
              "    </tr>\n",
              "  </tbody>\n",
              "</table>\n",
              "</div>"
            ],
            "text/plain": [
              "   chirps_per_sec  temperature  Ones\n",
              "0       20.000000    88.599998   1.0\n",
              "1       16.000000    71.599998   1.0\n",
              "2       19.799999    93.300003   1.0\n",
              "3       18.400000    84.300003   1.0\n",
              "4       17.100000    80.599998   1.0"
            ]
          },
          "metadata": {
            "tags": []
          },
          "execution_count": 3
        }
      ]
    },
    {
      "cell_type": "markdown",
      "metadata": {
        "id": "OJfdQP9x2sI0",
        "colab_type": "text"
      },
      "source": [
        "## 2.2) Create your X matrix from the 'ones' and 'temperature' columns"
      ]
    },
    {
      "cell_type": "code",
      "metadata": {
        "id": "Xv86TNYh2z15",
        "colab_type": "code",
        "outputId": "288e4509-79aa-4ecc-b0e8-395dfdc96817",
        "colab": {
          "base_uri": "https://localhost:8080/",
          "height": 326
        }
      },
      "source": [
        "X = df[['Ones', 'temperature']].as_matrix()\n",
        "print(X)"
      ],
      "execution_count": 0,
      "outputs": [
        {
          "output_type": "stream",
          "text": [
            "[[ 1.         88.59999847]\n",
            " [ 1.         71.59999847]\n",
            " [ 1.         93.30000305]\n",
            " [ 1.         84.30000305]\n",
            " [ 1.         80.59999847]\n",
            " [ 1.         75.19999695]\n",
            " [ 1.         69.69999695]\n",
            " [ 1.         82.        ]\n",
            " [ 1.         69.40000153]\n",
            " [ 1.         83.30000305]\n",
            " [ 1.         79.59999847]\n",
            " [ 1.         82.59999847]\n",
            " [ 1.         80.59999847]\n",
            " [ 1.         83.5       ]\n",
            " [ 1.         76.30000305]]\n"
          ],
          "name": "stdout"
        },
        {
          "output_type": "stream",
          "text": [
            "/usr/local/lib/python3.6/dist-packages/ipykernel_launcher.py:1: FutureWarning: Method .as_matrix will be removed in a future version. Use .values instead.\n",
            "  \"\"\"Entry point for launching an IPython kernel.\n"
          ],
          "name": "stderr"
        }
      ]
    },
    {
      "cell_type": "markdown",
      "metadata": {
        "id": "ynw-nyzF23Wj",
        "colab_type": "text"
      },
      "source": [
        "## 2.3) Create your Y vector from the chips_per_sec column. (Make sure that it is formatted as a column vector.)"
      ]
    },
    {
      "cell_type": "code",
      "metadata": {
        "id": "--prRurc3Buq",
        "colab_type": "code",
        "outputId": "c524bc10-5d2a-4713-a087-fbf2387075b0",
        "colab": {
          "base_uri": "https://localhost:8080/",
          "height": 326
        }
      },
      "source": [
        "Y = df['chirps_per_sec'].as_matrix().reshape(-1, 1)\n",
        "print(Y)"
      ],
      "execution_count": 0,
      "outputs": [
        {
          "output_type": "stream",
          "text": [
            "[[20.        ]\n",
            " [16.        ]\n",
            " [19.79999924]\n",
            " [18.39999962]\n",
            " [17.10000038]\n",
            " [15.5       ]\n",
            " [14.69999981]\n",
            " [17.10000038]\n",
            " [15.39999962]\n",
            " [16.20000076]\n",
            " [15.        ]\n",
            " [17.20000076]\n",
            " [16.        ]\n",
            " [17.        ]\n",
            " [14.39999962]]\n"
          ],
          "name": "stdout"
        },
        {
          "output_type": "stream",
          "text": [
            "/usr/local/lib/python3.6/dist-packages/ipykernel_launcher.py:1: FutureWarning: Method .as_matrix will be removed in a future version. Use .values instead.\n",
            "  \"\"\"Entry point for launching an IPython kernel.\n"
          ],
          "name": "stderr"
        }
      ]
    },
    {
      "cell_type": "markdown",
      "metadata": {
        "id": "m6x387_d3FJF",
        "colab_type": "text"
      },
      "source": [
        "## 2.4) Calculate X_transpose and print the result: $X^{T}$ "
      ]
    },
    {
      "cell_type": "code",
      "metadata": {
        "id": "9ifTSQu93NT7",
        "colab_type": "code",
        "outputId": "6b65cabb-1cd4-475c-d16d-d73a19333443",
        "colab": {
          "base_uri": "https://localhost:8080/",
          "height": 119
        }
      },
      "source": [
        "X_transpose = np.transpose(X)\n",
        "print(X_transpose)"
      ],
      "execution_count": 0,
      "outputs": [
        {
          "output_type": "stream",
          "text": [
            "[[ 1.          1.          1.          1.          1.          1.\n",
            "   1.          1.          1.          1.          1.          1.\n",
            "   1.          1.          1.        ]\n",
            " [88.59999847 71.59999847 93.30000305 84.30000305 80.59999847 75.19999695\n",
            "  69.69999695 82.         69.40000153 83.30000305 79.59999847 82.59999847\n",
            "  80.59999847 83.5        76.30000305]]\n"
          ],
          "name": "stdout"
        }
      ]
    },
    {
      "cell_type": "markdown",
      "metadata": {
        "id": "UXp5-eOH3QgG",
        "colab_type": "text"
      },
      "source": [
        "## 2.5) Calculate X_transpose_X and print the result: $X^{T}X$"
      ]
    },
    {
      "cell_type": "code",
      "metadata": {
        "id": "w6G8_DCw3Pw_",
        "colab_type": "code",
        "outputId": "61a8e604-d088-4420-f392-050e2b50afe8",
        "colab": {
          "base_uri": "https://localhost:8080/",
          "height": 51
        }
      },
      "source": [
        "X_transpose_X = np.matmul(X_transpose, X)\n",
        "print(X_transpose_X)"
      ],
      "execution_count": 0,
      "outputs": [
        {
          "output_type": "stream",
          "text": [
            "[[1.50000000e+01 1.20060000e+03]\n",
            " [1.20060000e+03 9.67258599e+04]]\n"
          ],
          "name": "stdout"
        }
      ]
    },
    {
      "cell_type": "markdown",
      "metadata": {
        "id": "maQVOiZ03fuj",
        "colab_type": "text"
      },
      "source": [
        "## 2.6) Calculate the inverse of X_transpose_X and print the result: $(X^{T}X)^{-1}$ "
      ]
    },
    {
      "cell_type": "code",
      "metadata": {
        "id": "htk9bCmN3zUT",
        "colab_type": "code",
        "outputId": "9206c976-855e-445c-ed55-9c3f006b64c1",
        "colab": {
          "base_uri": "https://localhost:8080/",
          "height": 51
        }
      },
      "source": [
        "inverse = np.linalg.inv(X_transpose_X)\n",
        "print(inverse)"
      ],
      "execution_count": 0,
      "outputs": [
        {
          "output_type": "stream",
          "text": [
            "[[ 1.02382034e+01 -1.27080669e-01]\n",
            " [-1.27080669e-01  1.58771451e-03]]\n"
          ],
          "name": "stdout"
        }
      ]
    },
    {
      "cell_type": "markdown",
      "metadata": {
        "id": "jKEkWq-j30ty",
        "colab_type": "text"
      },
      "source": [
        "## 2.7) An aside: Multiply the X_tranpose_X matrix against its inverse: $(X^{T}X)(X^{T}X)^{-1}$  Print the result. What is the name for the resulting matrix?"
      ]
    },
    {
      "cell_type": "code",
      "metadata": {
        "id": "P5HWnZdS4A3u",
        "colab_type": "code",
        "outputId": "6cb5447b-76cc-4b34-9b5e-54a706ee4680",
        "colab": {
          "base_uri": "https://localhost:8080/",
          "height": 51
        }
      },
      "source": [
        "inverse_X_transpose = np.matmul(X_transpose_X, inverse)\n",
        "print(inverse_X_transpose)\n",
        "# identity matrix"
      ],
      "execution_count": 0,
      "outputs": [
        {
          "output_type": "stream",
          "text": [
            "[[1.00000000e+00 6.01565053e-17]\n",
            " [3.50588784e-13 1.00000000e+00]]\n"
          ],
          "name": "stdout"
        }
      ]
    },
    {
      "cell_type": "markdown",
      "metadata": {
        "id": "aSbkbyT72QYW",
        "colab_type": "text"
      },
      "source": [
        "## 2.8) Calculate X_transpose_Y and print the result: $X^{T}Y$"
      ]
    },
    {
      "cell_type": "code",
      "metadata": {
        "id": "V_05w71-4RLh",
        "colab_type": "code",
        "outputId": "ee49b21b-df6a-48e9-f387-c96b46190425",
        "colab": {
          "base_uri": "https://localhost:8080/",
          "height": 51
        }
      },
      "source": [
        "X_transpose_Y = np.matmul(X_transpose, Y)\n",
        "print(X_transpose_Y)"
      ],
      "execution_count": 0,
      "outputs": [
        {
          "output_type": "stream",
          "text": [
            "[[  249.80000019]\n",
            " [20127.47000262]]\n"
          ],
          "name": "stdout"
        }
      ]
    },
    {
      "cell_type": "markdown",
      "metadata": {
        "id": "rJCc26lh2Qa9",
        "colab_type": "text"
      },
      "source": [
        "## 2.9) Finally, calculate the Beta coefficients vector by multiplying the left and right halfs of the linear regression equation. Print the Beta vector: $\\beta = (X^{T}X)^{-1} X^{T}Y$  \n",
        "(You should have all of the parts to do this now)"
      ]
    },
    {
      "cell_type": "code",
      "metadata": {
        "id": "yTLRwR2h4kaO",
        "colab_type": "code",
        "outputId": "00a6345f-5e93-46b9-c9f9-fb1e2003fe30",
        "colab": {
          "base_uri": "https://localhost:8080/",
          "height": 51
        }
      },
      "source": [
        "beta = np.matmul(inverse, X_transpose_Y)\n",
        "print(beta)"
      ],
      "execution_count": 0,
      "outputs": [
        {
          "output_type": "stream",
          "text": [
            "[[-0.3091419 ]\n",
            " [ 0.21192498]]\n"
          ],
          "name": "stdout"
        }
      ]
    },
    {
      "cell_type": "markdown",
      "metadata": {
        "id": "m0YYw0WQ2Qeq",
        "colab_type": "text"
      },
      "source": [
        "## 3) Graph the line of best fit through the scatterplot of the data points"
      ]
    },
    {
      "cell_type": "code",
      "metadata": {
        "id": "txgLJSAF4Ptc",
        "colab_type": "code",
        "outputId": "5be67654-e783-4c3d-fd19-221b92bdd247",
        "colab": {
          "base_uri": "https://localhost:8080/",
          "height": 295
        }
      },
      "source": [
        "beta_0 = beta[0,0]\n",
        "beta_1 = beta[1,0]\n",
        "\n",
        "plt.scatter(df['temperature'], df['chirps_per_sec'])\n",
        "axes = plt.gca()\n",
        "x_vals = np.array(axes.get_xlim())\n",
        "y_vals = beta_0 + beta_1 * x_vals\n",
        "plt.plot(x_vals, y_vals, '-', color='r')\n",
        "plt.title(\"Best fit line\")\n",
        "plt.xlabel(\"Temp in F\")\n",
        "plt.ylabel(\"Chirps per sec\")\n",
        "axes.legend(['Best fit', 'Chirps'])\n",
        "plt.show()"
      ],
      "execution_count": 0,
      "outputs": [
        {
          "output_type": "display_data",
          "data": {
            "image/png": "[encoded data removed]",
            "text/plain": [
              "<Figure size 432x288 with 1 Axes>"
            ]
          },
          "metadata": {
            "tags": []
          }
        }
      ]
    },
    {
      "cell_type": "markdown",
      "metadata": {
        "id": "aUcBfGgW2QhL",
        "colab_type": "text"
      },
      "source": [
        "## 4) If a cricket has chirped 19 times in a second what is the predicted temperature? Plot this prediction as well."
      ]
    },
    {
      "cell_type": "code",
      "metadata": {
        "id": "ibDbYkdvv9Nt",
        "colab_type": "code",
        "outputId": "d777a1ca-79c7-4b4b-81ad-f67f3f31c587",
        "colab": {
          "base_uri": "https://localhost:8080/",
          "height": 295
        }
      },
      "source": [
        "chirped = 19\n",
        "temp = (chirped - beta_0)/beta_1\n",
        "plt.scatter(df['temperature'], df['chirps_per_sec'])\n",
        "axes = plt.gca()\n",
        "plt.plot(x_vals, y_vals, '-', color='r')\n",
        "plt.axvline(temp, linewidth=2, color='b')\n",
        "plt.title(\"19 chirps prediction\")\n",
        "plt.xlabel('Temp in F')\n",
        "plt.ylabel('Chirps per sec')\n",
        "axes.legend(['Best fit', 'Predicted temp', 'Chirps'])\n",
        "plt.show()"
      ],
      "execution_count": 0,
      "outputs": [
        {
          "output_type": "display_data",
          "data": {
            "image/png": "[encoded data removed]",
            "text/plain": [
              "<Figure size 432x288 with 1 Axes>"
            ]
          },
          "metadata": {
            "tags": []
          }
        }
      ]
    },
    {
      "cell_type": "markdown",
      "metadata": {
        "id": "NTP8CSuQ0_qq",
        "colab_type": "text"
      },
      "source": [
        "##Stretch Problem\n",
        "Let's add a 3rd dimension. \n",
        "\n",
        "X1 = systolic blood pressure\n",
        "\n",
        "X2 = age in years\n",
        "\n",
        "X3 = weight in pounds\n",
        "\n",
        "Compute the coefficients for the **plane** of best fit for\n",
        "\n",
        "$X_1 = \\beta_1X_2 + \\beta_2X_3 + \\beta_0$\n",
        "\n",
        "Then graph the plane in addition to the  datapoints in a **3D** graph.\n",
        "An article to get you started on [3D graphing](https://jakevdp.github.io/PythonDataScienceHandbook/04.12-three-dimensional-plotting.html)"
      ]
    },
    {
      "cell_type": "code",
      "metadata": {
        "id": "wghLKfsz0_HX",
        "colab_type": "code",
        "outputId": "80ce61c5-069e-4b0b-e6a6-009ff3310604",
        "colab": {
          "base_uri": "https://localhost:8080/",
          "height": 153
        }
      },
      "source": [
        "s_data = pd.read_excel('https://college.cengage.com/mathematics/brase/understandable_statistics/7e/students/datasets/mlr/excel/mlr02.xls')\n",
        "print(s_data.head())\n",
        "s_data.shape"
      ],
      "execution_count": 0,
      "outputs": [
        {
          "output_type": "stream",
          "text": [
            "*** No CODEPAGE record, no encoding_override: will use 'ascii'\n",
            "    X1  X2   X3\n",
            "0  132  52  173\n",
            "1  143  59  184\n",
            "2  153  67  194\n",
            "3  162  73  211\n",
            "4  154  64  196\n"
          ],
          "name": "stdout"
        },
        {
          "output_type": "execute_result",
          "data": {
            "text/plain": [
              "(11, 3)"
            ]
          },
          "metadata": {
            "tags": []
          },
          "execution_count": 14
        }
      ]
    },
    {
      "cell_type": "code",
      "metadata": {
        "id": "ld1Ta3rHMoYc",
        "colab_type": "code",
        "outputId": "6cc3e114-ccd6-4317-8dba-9743c1ddabff",
        "colab": {
          "base_uri": "https://localhost:8080/",
          "height": 119
        }
      },
      "source": [
        "s_data['One'] = np.ones(11)\n",
        "print(s_data['One'].head())"
      ],
      "execution_count": 0,
      "outputs": [
        {
          "output_type": "stream",
          "text": [
            "0    1.0\n",
            "1    1.0\n",
            "2    1.0\n",
            "3    1.0\n",
            "4    1.0\n",
            "Name: One, dtype: float64\n"
          ],
          "name": "stdout"
        }
      ]
    },
    {
      "cell_type": "code",
      "metadata": {
        "id": "wibqK9-CMznk",
        "colab_type": "code",
        "outputId": "a76c4414-444b-4960-c977-b2a5ec3d9b9a",
        "colab": {
          "base_uri": "https://localhost:8080/",
          "height": 326
        }
      },
      "source": [
        "X1 = s_data[['One', 'X2', 'X3']].as_matrix()\n",
        "print(X)"
      ],
      "execution_count": 0,
      "outputs": [
        {
          "output_type": "stream",
          "text": [
            "[[ 1.         88.59999847]\n",
            " [ 1.         71.59999847]\n",
            " [ 1.         93.30000305]\n",
            " [ 1.         84.30000305]\n",
            " [ 1.         80.59999847]\n",
            " [ 1.         75.19999695]\n",
            " [ 1.         69.69999695]\n",
            " [ 1.         82.        ]\n",
            " [ 1.         69.40000153]\n",
            " [ 1.         83.30000305]\n",
            " [ 1.         79.59999847]\n",
            " [ 1.         82.59999847]\n",
            " [ 1.         80.59999847]\n",
            " [ 1.         83.5       ]\n",
            " [ 1.         76.30000305]]\n"
          ],
          "name": "stdout"
        },
        {
          "output_type": "stream",
          "text": [
            "/usr/local/lib/python3.6/dist-packages/ipykernel_launcher.py:1: FutureWarning: Method .as_matrix will be removed in a future version. Use .values instead.\n",
            "  \"\"\"Entry point for launching an IPython kernel.\n"
          ],
          "name": "stderr"
        }
      ]
    },
    {
      "cell_type": "code",
      "metadata": {
        "id": "HsrgAnI4Mzse",
        "colab_type": "code",
        "outputId": "7d3407e2-5013-4bd8-8dee-3cac7af9c917",
        "colab": {
          "base_uri": "https://localhost:8080/",
          "height": 326
        }
      },
      "source": [
        "Y1 = s_data['X1'].as_matrix().reshape(-1, 1)\n",
        "print(Y)"
      ],
      "execution_count": 0,
      "outputs": [
        {
          "output_type": "stream",
          "text": [
            "[[20.        ]\n",
            " [16.        ]\n",
            " [19.79999924]\n",
            " [18.39999962]\n",
            " [17.10000038]\n",
            " [15.5       ]\n",
            " [14.69999981]\n",
            " [17.10000038]\n",
            " [15.39999962]\n",
            " [16.20000076]\n",
            " [15.        ]\n",
            " [17.20000076]\n",
            " [16.        ]\n",
            " [17.        ]\n",
            " [14.39999962]]\n"
          ],
          "name": "stdout"
        },
        {
          "output_type": "stream",
          "text": [
            "/usr/local/lib/python3.6/dist-packages/ipykernel_launcher.py:1: FutureWarning: Method .as_matrix will be removed in a future version. Use .values instead.\n",
            "  \"\"\"Entry point for launching an IPython kernel.\n"
          ],
          "name": "stderr"
        }
      ]
    },
    {
      "cell_type": "code",
      "metadata": {
        "id": "K3vCOuAoM-n4",
        "colab_type": "code",
        "outputId": "6e68304d-fdc9-4f1a-d202-333e9e9c73e9",
        "colab": {
          "base_uri": "https://localhost:8080/",
          "height": 68
        }
      },
      "source": [
        "X_transpose1 = np.transpose(X1)\n",
        "X_transpose_X1 = np.matmul(X_transpose1, X1)\n",
        "inverse1 = np.linalg.inv(X_transpose_X1)\n",
        "Y_X_transpose1 = np.matmul(X_transpose1, Y1)\n",
        "beta1 = np.matmul(inverse1, Y_X_transpose1)\n",
        "print(beta1)"
      ],
      "execution_count": 0,
      "outputs": [
        {
          "output_type": "stream",
          "text": [
            "[[30.99410295]\n",
            " [ 0.86141469]\n",
            " [ 0.3348592 ]]\n"
          ],
          "name": "stdout"
        }
      ]
    },
    {
      "cell_type": "code",
      "metadata": {
        "id": "7ga4RF6ZNsin",
        "colab_type": "code",
        "outputId": "dc0ef281-4bf7-4397-e156-d2fd80a2fdec",
        "colab": {
          "base_uri": "https://localhost:8080/",
          "height": 68
        }
      },
      "source": [
        "# one liner:\n",
        "beta2 = np.matmul(np.linalg.inv(np.matmul(np.transpose(X1), X1)), np.matmul(np.transpose(X1), Y1))\n",
        "print(beta2)"
      ],
      "execution_count": 0,
      "outputs": [
        {
          "output_type": "stream",
          "text": [
            "[[30.99410295]\n",
            " [ 0.86141469]\n",
            " [ 0.3348592 ]]\n"
          ],
          "name": "stdout"
        }
      ]
    },
    {
      "cell_type": "code",
      "metadata": {
        "id": "lTCZ_sr4N9b4",
        "colab_type": "code",
        "outputId": "64d5d698-62d3-4788-e608-ccba532dfc38",
        "colab": {
          "base_uri": "https://localhost:8080/",
          "height": 51
        }
      },
      "source": [
        "# using scikit-learn:\n",
        "from sklearn.linear_model import LinearRegression\n",
        "\n",
        "regr = LinearRegression()\n",
        "model = regr.fit(X1, Y1)\n",
        "print(model.intercept_)\n",
        "print(model.coef_)"
      ],
      "execution_count": 0,
      "outputs": [
        {
          "output_type": "stream",
          "text": [
            "[30.99410295]\n",
            "[[0.         0.86141469 0.3348592 ]]\n"
          ],
          "name": "stdout"
        }
      ]
    },
    {
      "cell_type": "code",
      "metadata": {
        "id": "56LxgB4sOQFf",
        "colab_type": "code",
        "outputId": "6f4d2eeb-4477-4c4f-b4be-162bc716cd42",
        "colab": {
          "base_uri": "https://localhost:8080/",
          "height": 248
        }
      },
      "source": [
        "from mpl_toolkits import mplot3d\n",
        "\n",
        "fig = plt.figure()\n",
        "ax = plt.axes(projection='3d')\n",
        "beta_0 = beta1[0,0]\n",
        "beta_1 = beta1[1,0]\n",
        "beta_2 = beta1[2, 0]\n",
        "xd = s_data['X1']\n",
        "yd = s_data['X2']\n",
        "zd = s_data['X3']\n",
        "ax.scatter3D(xd, yd, zd, c=zd, cmap='Reds')\n",
        "\n",
        "y_hat2 = [(x*beta_1) + (y*beta_2) + beta_0 for x in yd for y in zd]"
      ],
      "execution_count": 0,
      "outputs": [
        {
          "output_type": "display_data",
          "data": {
            "image/png": "[encoded data removed]",
            "text/plain": [
              "<Figure size 432x288 with 1 Axes>"
            ]
          },
          "metadata": {
            "tags": []
          }
        }
      ]
    }
  ]
}
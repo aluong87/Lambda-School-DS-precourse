{
  "nbformat": 4,
  "nbformat_minor": 0,
  "metadata": {
    "colab": {
      "name": "Intro Assignment 1 – Intro to Python.ipynb",
      "version": "0.3.2",
      "provenance": [],
      "collapsed_sections": []
    },
    "kernelspec": {
      "name": "python3",
      "display_name": "Python 3"
    }
  },
  "cells": [
    {
      "cell_type": "markdown",
      "metadata": {
        "id": "51dZwqDNc9x6",
        "colab_type": "text"
      },
      "source": [
        "# Lambda School Data Science - Getting Started with Python\n",
        "\n",
        "Following are exercises you should complete after watching the first intro lecture. Workflow:\n",
        "\n",
        "1. Sign in to a Google account\n",
        "2. Copy the notebook (`File` -> `Save a copy in Drive`)\n",
        "3. Complete the exercises! This means fill out the code cells, and run them (shift-enter or click the play button that appears when you're in one of them)\n",
        "4. Take a look at your work, and write comments/add text cells as appropriate to explain\n",
        "5. Make the notebook URL viewable and submit with the standup form"
      ]
    },
    {
      "cell_type": "markdown",
      "metadata": {
        "id": "I6biutgwdgpb",
        "colab_type": "text"
      },
      "source": [
        "## Exercise 1 - A bit of Math\n",
        "\n",
        "For these \"word\" problems, use Python to clearly solve them. Your code will \"show your work\" - use good variable names! To show your answers you should write a `print()` statement at the end.\n",
        "\n",
        "As you work, follow the **20 minute rule** - that means if you're stuck on something for 20 minutes, you should ask a question!\n",
        "\n",
        "### a) It's a gas\n",
        "\n",
        "A taxi driver is calculating their profit over two weeks by adding up the fares they charge and subtracting the cost of gas. The price of gas changes over time - it was `$3.52`/gallon the first week and `$3.57`/gallon this second week. Their car gets 20 miles per gallon.\n",
        "\n",
        "For the first week the driver had a total of 23 passengers with average `$29` fare each, and drove a total of 160 miles. For the second week they had 17 passengers with average `$30` fare each, and drove a total of 220 miles. Assume that for both weeks they purchase all the gas needed during that week (i.e. they refuel every week to maintain a constant level of gas in the tank).\n",
        "\n",
        "Based on the above, answer the following questions:\n",
        "\n",
        "- What is their total profit over both weeks?\n",
        "- During which week was their average (mean) profit per passenger higher?\n"
      ]
    },
    {
      "cell_type": "code",
      "metadata": {
        "id": "CWJeYQW6AoGf",
        "colab_type": "code",
        "outputId": "8049ff7c-bf2c-48dd-c9fe-2f1c198aa474",
        "colab": {
          "base_uri": "https://localhost:8080/",
          "height": 85
        }
      },
      "source": [
        "# create a function with the following arguments:\n",
        "# mpg = miles per gallon\n",
        "# gas_price = weekly gas price per gallon\n",
        "# miles_drove = how many miles the driver drove weekly\n",
        "# passengers = how many passengers took the taxi\n",
        "# avgfare = average fare of each passenger\n",
        "def profit(mpg, gas_price, miles_drove, passengers, avgfare):\n",
        "  weekly_gas = (miles_drove / mpg) * gas_price\n",
        "  total_fares = passengers * avgfare - weekly_gas\n",
        "  return total_fares\n",
        "\n",
        "# calculating total profit for each week\n",
        "# week 1:\n",
        "# mpg = 20\n",
        "# gas_price = 3.52\n",
        "# miles_drove = 160\n",
        "# passengers = 23\n",
        "# avgfare = 29\n",
        "week_1_total = profit(20, 3.52, 160, 23, 29)\n",
        "\n",
        "# week 2:\n",
        "# mpg = 20\n",
        "# gas_price = 3.57\n",
        "# miles_drove = 220\n",
        "# passengers = 17\n",
        "# avg_fare = 30\n",
        "week_2_total = profit(20, 3.57, 220, 17, 30)\n",
        "\n",
        "# rounding to two decimal places for amount in dollars and cents\n",
        "total_profit = round(week_1_total + week_2_total, 2)\n",
        "print(\"The driver's total profit for two weeks is ${}.\".format(total_profit))\n",
        "\n",
        "# calculating average profit per passenger round to two decimal places\n",
        "per_passenger1 = round(week_1_total / 23, 2)\n",
        "per_passenger2 = round(week_2_total / 17, 2)\n",
        "print(\"The profit per passenger for the first week is ${}.\".format(per_passenger1))\n",
        "print(\"The profit per passenger for the second week is ${}.\".format(per_passenger2))\n",
        "print(\"The first week had a higher average profit per passenger.\")"
      ],
      "execution_count": 0,
      "outputs": [
        {
          "output_type": "stream",
          "text": [
            "The driver's total profit for two weeks is $1109.57.\n",
            "The profit per passenger for the first week is $27.78.\n",
            "The profit per passenger for the second week is $27.69.\n",
            "The first week had a higher average profit per passenger.\n"
          ],
          "name": "stdout"
        }
      ]
    },
    {
      "cell_type": "markdown",
      "metadata": {
        "id": "0l4bUPHmR5Ko",
        "colab_type": "text"
      },
      "source": [
        "### b) Mo' money...\n",
        "\n",
        "A cash drawer contains 160 bills, all 10s and 50s. The total value of the 10s and 50s is $1,760.\n",
        "\n",
        "How many of each type of bill are in the drawer? You can figure this out by trial and error (or by doing algebra with pencil and paper), but try to use loops and conditionals to check a plausible possibilities and stop when you find the correct one."
      ]
    },
    {
      "cell_type": "code",
      "metadata": {
        "id": "Q2Atz_kyR8_6",
        "colab_type": "code",
        "outputId": "fd922ab1-b129-4bf7-a7e6-844e3c9cf7e9",
        "colab": {
          "base_uri": "https://localhost:8080/",
          "height": 34
        }
      },
      "source": [
        "# first loop through range 0 to 160 and store with variable ten_bills\n",
        "for ten_bills in range(0, 160):\n",
        "  # second loop through range 0 to 160 and store with fifties_bills\n",
        "  for fifties_bills in range(0, 160):\n",
        "    \n",
        "    # if adding bills together doesn't amount to 160 for this loop:\n",
        "    if ten_bills + fifties_bills != 160:\n",
        "      # loop again\n",
        "      continue\n",
        "    \n",
        "    #  if amount of fifty bills and ten bills don't amount to $1,760\n",
        "    if fifties_bills * 50 + ten_bills * 10 != 1760:\n",
        "      # loop again\n",
        "      continue\n",
        "    \n",
        "    # print statement for amount of ten dollar bills and fifty dollar bills\n",
        "    print(ten_bills, \"ten dollar bills and\", fifties_bills, \"fifty dollar bills add up to $1760 with\", ten_bills + fifties_bills, \"bills.\")\n",
        "    # break out of second loop and go back to first loop\n",
        "    break"
      ],
      "execution_count": 0,
      "outputs": [
        {
          "output_type": "stream",
          "text": [
            "156 ten dollar bills and 4 fifty dollar bills add up to $1760 with 160 bills.\n"
          ],
          "name": "stdout"
        }
      ]
    },
    {
      "cell_type": "markdown",
      "metadata": {
        "id": "UCFtX_q9aQlc",
        "colab_type": "text"
      },
      "source": [
        "## Exercise 2 - Drawing a plot\n",
        "\n",
        "Use NumPy and Matplotlib to draw a scatterplot of uniform random `(x, y)` values all drawn from the `[0, 1]` interval. Helpful documentation:\n",
        "\n",
        "*   https://matplotlib.org/tutorials/index.html\n",
        "*   https://docs.scipy.org/doc/numpy/user/quickstart.html\n",
        "\n",
        "Stretch goal - draw more plots! You can refer to the [Matplotlib gallery](https://matplotlib.org/gallery.html) for inspiration, but don't just reproduce something - try to apply it to your own data.\n",
        "\n",
        "How to get data? There's *many* ways, but a good place to get started is with [sklearn.datasets](http://scikit-learn.org/stable/datasets/index.html):\n",
        "\n",
        "```\n",
        "from sklearn import datasets\n",
        "dir(datasets)\n",
        "```"
      ]
    },
    {
      "cell_type": "code",
      "metadata": {
        "id": "pNEb09gMaltL",
        "colab_type": "code",
        "outputId": "d43896a4-6ba2-4250-ac5c-96275ebd48e9",
        "colab": {
          "base_uri": "https://localhost:8080/",
          "height": 718
        }
      },
      "source": [
        "import matplotlib.pyplot as plt\n",
        "import numpy as np\n",
        "import random\n",
        "\n",
        "N = 50  # number of samples\n",
        "x = range(N) # x = range(0, 50)\n",
        "\n",
        "# uniform generates random numbers in the interval [x, y)\n",
        "# in this case would be [0, 1)\n",
        "y = [random.uniform(0,1) for i in x]\n",
        "plt.scatter(x, y)\n",
        "plt.title('Uniform random values')\n",
        "plt.xlabel('Samples')\n",
        "plt.ylabel('Interval')\n",
        "plt.show()\n",
        "\n",
        "# Creating a scatter plot for load_iris dataset\n",
        "# using seaborn\n",
        "# credit to https://shichaoji.com/2017/02/16/famous-iris-dataset-visualization/\n",
        "import seaborn as sns\n",
        "import pandas as pd\n",
        "from sklearn import datasets\n",
        "iris = datasets.load_iris()\n",
        "df = pd.DataFrame(iris.data, columns=iris.feature_names)\n",
        "df['target'] = iris.target\n",
        "df['species'] = df['target'].map(\n",
        "    {0:iris.target_names[0],\n",
        "     1:iris.target_names[1],\n",
        "     2:iris.target_names[2]}\n",
        ")\n",
        "\n",
        "sns.FacetGrid(df, hue=\"species\", size=5) \\\n",
        "   .map(plt.scatter, \"sepal length (cm)\", \"sepal width (cm)\") \\\n",
        "   .add_legend()"
      ],
      "execution_count": 0,
      "outputs": [
        {
          "output_type": "display_data",
          "data": {
            "image/png": "[encoded data removed]",
            "text/plain": [
              "<Figure size 432x288 with 1 Axes>"
            ]
          },
          "metadata": {
            "tags": []
          }
        },
        {
          "output_type": "stream",
          "text": [
            "/usr/local/lib/python3.6/dist-packages/seaborn/axisgrid.py:230: UserWarning: The `size` paramter has been renamed to `height`; please update your code.\n",
            "  warnings.warn(msg, UserWarning)\n"
          ],
          "name": "stderr"
        },
        {
          "output_type": "execute_result",
          "data": {
            "text/plain": [
              "<seaborn.axisgrid.FacetGrid at 0x7fea4baa1b00>"
            ]
          },
          "metadata": {
            "tags": []
          },
          "execution_count": 3
        },
        {
          "output_type": "display_data",
          "data": {
            "image/png": "[encoded data removed]",
            "text/plain": [
              "<Figure size 444.75x360 with 1 Axes>"
            ]
          },
          "metadata": {
            "tags": []
          }
        }
      ]
    },
    {
      "cell_type": "markdown",
      "metadata": {
        "id": "hGpFAslRhuem",
        "colab_type": "text"
      },
      "source": [
        "## Exercise 3 - Writing a function\n",
        "Write a function that, given a list of numbers, calculates the mean, median, and mode of those numbers. Return a dictionary with properties for the mean, median and mode. \n",
        "\n",
        "For example:\n",
        "\n",
        "```\n",
        "mmm_dict = meanMedianMode([1, 2, 6, 7, 8, 9, 3, 4, 5, 10, 10])\n",
        "print(mmm_dict)\n",
        "> {'mean': 5.909090909090909, 'median': 6, 'mode': 10}\n",
        "```\n",
        "\n",
        "There are Python standard libraries that make calculating these numbers very easy, but first try your hand at implementing it using the `reduce()` function:"
      ]
    },
    {
      "cell_type": "code",
      "metadata": {
        "id": "e8dmYzTmiXD_",
        "colab_type": "code",
        "outputId": "d1d8594f-9fa7-45de-86b6-3578a2db890a",
        "colab": {
          "base_uri": "https://localhost:8080/",
          "height": 221
        }
      },
      "source": [
        "from functools import reduce\n",
        "help(reduce)"
      ],
      "execution_count": 0,
      "outputs": [
        {
          "output_type": "stream",
          "text": [
            "Help on built-in function reduce in module _functools:\n",
            "\n",
            "reduce(...)\n",
            "    reduce(function, sequence[, initial]) -> value\n",
            "    \n",
            "    Apply a function of two arguments cumulatively to the items of a sequence,\n",
            "    from left to right, so as to reduce the sequence to a single value.\n",
            "    For example, reduce(lambda x, y: x+y, [1, 2, 3, 4, 5]) calculates\n",
            "    ((((1+2)+3)+4)+5).  If initial is present, it is placed before the items\n",
            "    of the sequence in the calculation, and serves as a default when the\n",
            "    sequence is empty.\n",
            "\n"
          ],
          "name": "stdout"
        }
      ]
    },
    {
      "cell_type": "code",
      "metadata": {
        "id": "nmkk-CHvh0Nj",
        "colab_type": "code",
        "outputId": "1061185c-f590-48c2-e356-65aa2d72336b",
        "colab": {
          "base_uri": "https://localhost:8080/",
          "height": 34
        }
      },
      "source": [
        "from functools import reduce\n",
        "\n",
        "def meanMedianMode(numbers):\n",
        "    # empty dictionary\n",
        "    dct = {}\n",
        "    \n",
        "    # finding the mean by summing list using reduce function\n",
        "    # then dividing by length of list\n",
        "    mean = reduce(lambda x, y: x + y, numbers) / len(numbers)\n",
        "    \n",
        "    # finding the number in list with most occurrence\n",
        "    def mode(n):\n",
        "      # find the number with most occurrences of list\n",
        "      return max(set(n), key=n.count)\n",
        "    \n",
        "    # finding median of list\n",
        "    def median(n):\n",
        "      # sort the list ascending and find length of list\n",
        "      nsort = sorted(n)\n",
        "      length = len(nsort)\n",
        "      # find middle point\n",
        "      mid = length//2\n",
        "      # if remainder is 0, return middle index\n",
        "      if length % 2:\n",
        "        return nsort[mid]\n",
        "      # otherwise, take both midpoints and divide them by 2\n",
        "      else:\n",
        "        odd_med = (nsort[mid] + nsort[mid-1]) / 2\n",
        "        return odd_med\n",
        "    \n",
        "    # adding to dictionary\n",
        "    dct['mean'] = mean\n",
        "    dct['median'] = median(numbers)\n",
        "    dct['mode'] = mode(numbers)\n",
        "    \n",
        "    return dct\n",
        "  \n",
        "mmm_dict = meanMedianMode([1, 2, 6, 7, 8, 9, 3, 4, 5, 10, 10])\n",
        "print(mmm_dict)"
      ],
      "execution_count": 0,
      "outputs": [
        {
          "output_type": "stream",
          "text": [
            "{'mean': 5.909090909090909, 'median': 6, 'mode': 10}\n"
          ],
          "name": "stdout"
        }
      ]
    },
    {
      "cell_type": "code",
      "metadata": {
        "id": "Bc9iNj9GZ4S6",
        "colab_type": "code",
        "outputId": "ee603efc-4164-4870-c1f4-bc4749a7fda7",
        "colab": {
          "base_uri": "https://localhost:8080/",
          "height": 34
        }
      },
      "source": [
        "def meanMedianMode(numbers):\n",
        "  d = {}\n",
        "  d['mean'] = reduce(lambda x, y: x+y, numbers) / len(numbers)\n",
        "  d['median'] = median(numbers)\n",
        "  d['mode'] = mode(numbers)\n",
        "  return d\n",
        "\n",
        "def median(numbers):\n",
        "  median = sorted(numbers) [len(numbers) // 2]\n",
        "  return median\n",
        "\n",
        "def mode(numbers):\n",
        "  mode = max(numbers, key = numbers.count)\n",
        "  return mode\n",
        "\n",
        "mmm_dict = meanMedianMode([1, 2, 6, 7, 8, 9, 3, 4, 5, 10, 10])\n",
        "\n",
        "print(mmm_dict)"
      ],
      "execution_count": 0,
      "outputs": [
        {
          "output_type": "stream",
          "text": [
            "{'mean': 5.909090909090909, 'median': 6, 'mode': 10}\n"
          ],
          "name": "stdout"
        }
      ]
    },
    {
      "cell_type": "markdown",
      "metadata": {
        "id": "5yFvvgEA2aZZ",
        "colab_type": "text"
      },
      "source": [
        "# New Section"
      ]
    }
  ]
}
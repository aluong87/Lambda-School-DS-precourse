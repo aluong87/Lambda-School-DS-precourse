{
  "nbformat": 4,
  "nbformat_minor": 0,
  "metadata": {
    "colab": {
      "name": "Intro Assignment 5 - Linear Algebra Foundations.ipynb",
      "version": "0.3.2",
      "provenance": [],
      "collapsed_sections": []
    },
    "kernelspec": {
      "name": "python3",
      "display_name": "Python 3"
    }
  },
  "cells": [
    {
      "cell_type": "markdown",
      "metadata": {
        "id": "C6GiJ7ixeOOU",
        "colab_type": "text"
      },
      "source": [
        "#Intro to Data Science Assignment 5\n",
        "##Linear Algebra Foundations\n",
        "\n",
        "For the short answers:\n",
        "     Feel free to do any additional research, but try your best to answer the questions in your own words (don't copy/paste).\n",
        "     \n",
        "For the computations by hand:\n",
        "      If you'd like to use LaTex to make things pretty, by all means give it a try, but it is *optional*. You can answer the questions using algebraic-like notation. For instance if I was adding two vectors:\n",
        "      \n",
        "[1,2] + [2,3] => (1+2), (2+3) => [3,5] \n",
        "\n",
        "**Show your work, not just the answer**\n",
        "\n",
        "For the graphs:\n",
        "   Make them as pretty as you like\n",
        "   \n",
        " For using the tools (numpy):\n",
        "    Use labeled print statements as shown"
      ]
    },
    {
      "cell_type": "markdown",
      "metadata": {
        "id": "yJJdtDoVeiYV",
        "colab_type": "text"
      },
      "source": [
        "#Short Answer Questions\n",
        "\n",
        "1) Describe a vector\n",
        "\n",
        "2) Describe a matrix\n",
        "\n",
        "3) What can we do with vectors?\n",
        "\n",
        "4) What are basis vectors?\n",
        "\n",
        "5) What is an inverse matrix?\n",
        "\n",
        "6) What is the transpose of a matrix?\n"
      ]
    },
    {
      "cell_type": "markdown",
      "metadata": {
        "id": "J2okSel_f1lS",
        "colab_type": "text"
      },
      "source": [
        "##Your Answers go here:\n",
        "\n",
        "1) A vector is a tuple/list of one or more values called scalars. Also one-dimensional and represented either by row or column..<br>\n",
        "Example:<br>\n",
        "$ \\begin {bmatrix} 1 \\ 2 \\ 3 \\ 4 \\end {bmatrix} $<br>\n",
        "2) A matrix is a two-dimensional data structure where numbers are arranged into rows and columns.<br>\n",
        "Example:<br>\n",
        "$ \\begin {bmatrix} 1 \\ 2 \\ 3 \\\\ 4 \\ 5 \\ 6 \\\\ 7 \\ 8 \\ 9 \\end {bmatrix} $<br>\n",
        "\n",
        "3) We can do vector arithmetic such as addition(scaling), subtraction, multiplication, etc.\n",
        "\n",
        "4) Basis vectors are used to build any other vector in that space.\n",
        "\n",
        "5) An inverse matrix is used to rewind or divide matrix multiplication.\n",
        "\n",
        "6) The transpose of a matrix is a row/column swap."
      ]
    },
    {
      "cell_type": "markdown",
      "metadata": {
        "id": "Lb-jyiXZgHfH",
        "colab_type": "text"
      },
      "source": [
        "#Computations by hand\n",
        "\n",
        "1) $ \\begin {bmatrix} 1 \\\\ 3 \\\\ 4 \\end {bmatrix} + \\begin {bmatrix} 4 \\\\ 2 \\\\ 6 \\end {bmatrix} $\n",
        "\n",
        "2) $ 5 \\begin {bmatrix} 1 \\\\ 2 \\\\ 3 \\end{bmatrix} $\n",
        "\n",
        "3) $ \\begin {bmatrix} 1  &  3\\\\ 2 & 3  \\end{bmatrix} \\begin {bmatrix} 1 \\\\ 2 \\end{bmatrix} $\n",
        "\n",
        "4) $ \\begin {bmatrix} 1  &  3\\\\ 2 & 3 \\end{bmatrix} \\begin {bmatrix} 2 & 2 \\\\ 3 & 1 \\end{bmatrix} $\n",
        "\n",
        "5) What is the transpose of :\n",
        "\n",
        "$ \\begin{bmatrix} 1 & 4 \\\\ 2 & 5 \\\\ 3 & 6 \\end{bmatrix} $ \n",
        "\n",
        "6) What is the determinant of:\n",
        "\n",
        " $\\begin {bmatrix} 2 & 2 \\\\ 3 & 1 \\end{bmatrix}$\n",
        " \n",
        " 7) What is the inverse matrix of: \n",
        " \n",
        "  $\\begin {bmatrix} 3 & 2 \\\\ 1 & 2 \\end{bmatrix}$"
      ]
    },
    {
      "cell_type": "markdown",
      "metadata": {
        "id": "LdnLfusWjcZQ",
        "colab_type": "text"
      },
      "source": [
        "## Your Answers go here:\n",
        "\n",
        "1) Add two vectors:<br>[1 + 4, 3 + 2, 4 + 6] = $ \\begin {bmatrix} 5 \\\\ 5 \\\\ 10 \\end {bmatrix} $\n",
        "<br><br>\n",
        "2) Vector times 5:<br>[1 * 5, 2 * 5, 3 * 5] = $ \\begin {bmatrix} 5 \\\\  10 \\\\ 15 \\end {bmatrix} $\n",
        "<br><br>\n",
        "3) Matrix times vector:<br>\n",
        "1 * [1] + 2 * [3] = 7<br>\n",
        "1 * [2] + 2 * [3] = 8<br>\n",
        "$ \\begin {bmatrix} 7 \\\\  8 \\end {bmatrix} $\n",
        "<br><br>\n",
        "4)  Multiply two matrices:<br>\n",
        "Split second matrix into two vectors:<br>\n",
        "$ \\begin {bmatrix} 1 \\ 3 \\\\ 2 \\ 3 \\end {bmatrix} $*\n",
        "$ \\begin {bmatrix} 2 \\\\ 3 \\end {bmatrix} $<br>\n",
        "2 * [1] + 3 * [3] = [11]<br>\n",
        "2 * [2] + 3 * [3] = [13]<br>\n",
        "$ \\begin {bmatrix} 1 \\ 3 \\\\ 2 \\ 3 \\end {bmatrix} $ *\n",
        "$ \\begin {bmatrix} 2 \\\\ 1 \\end {bmatrix} $<br>\n",
        "2 * [1] + 1 * [3] = [5]<br>\n",
        "2 * [2] + 1 * [3] = [7]<br>\n",
        "Answer:\n",
        "<br>$ \\begin {bmatrix} 11 \\ 5 \\\\ 13 \\ 7 \\end {bmatrix} $\n",
        "<br><br>\n",
        "5) Matrix transpose:<br>\n",
        "$ \\begin {bmatrix} 1 \\ 4 \\\\ 2 \\ 5 \\\\ 3 \\ 6 \\end {bmatrix} $ =>\n",
        "$ \\begin {bmatrix} 1 \\ 2 \\ 3 \\\\ 4 \\ 5 \\ 6 \\end {bmatrix} $<br><br>\n",
        "\n",
        "6) Determinant:<br>(2 * 1) - (3 * 2) = 2 - 6 = -4<br><br>\n",
        "\n",
        "7) Inverse Matrix:<br>\n",
        "$ \\begin {bmatrix} 3 \\ 2 \\\\ 1 \\ 2 \\end {bmatrix}$\n",
        "= $ \\begin {bmatrix} 2 \\ -2 \\\\ -1 \\ 3 \\end {bmatrix} $\n",
        "\n",
        "determinant = (2 * 3) - (-1 * -2) = 6 - 2 = 4<br>\n",
        "[2 * 1/4, -2 * 1/4] = $ \\begin {bmatrix} .5 \\ -.5 \\end {bmatrix} $<br>\n",
        "[-1 * 1/4, 3 * 1/4] = $ \\begin {bmatrix} -.25 \\ .75 \\end {bmatrix} $<br>\n",
        "Answer:<br>\n",
        "$ \\begin {bmatrix} 0.5 \\ -0.5 \\\\ -0.25 \\ 0.75 \\end {bmatrix}$"
      ]
    },
    {
      "cell_type": "markdown",
      "metadata": {
        "id": "B7q5osaBjo10",
        "colab_type": "text"
      },
      "source": [
        "##Visualize the Vectors\n",
        "\n",
        "Graph the following:\n",
        "\n",
        "  Vector v_1 = [1,0] \n",
        "  \n",
        "  Vector v_2 = v_1 scaled by 2\n",
        "  \n",
        "  Vector v_3 = [0,-1]\n",
        "  \n",
        "  Vector v_4 = the sum of v_2 and v_3\n",
        " "
      ]
    },
    {
      "cell_type": "code",
      "metadata": {
        "id": "uy65IMqbeNKw",
        "colab_type": "code",
        "outputId": "880053a3-b9de-4cc8-9076-dee5cd164187",
        "colab": {
          "base_uri": "https://localhost:8080/",
          "height": 281
        }
      },
      "source": [
        "import matplotlib.pyplot as plt\n",
        "import numpy as np\n",
        "\n",
        "# Vector v_1\n",
        "v_1 = [1, 0]\n",
        "\n",
        "plt.axis([-1.5, 1.5, -1.5, 1.5])\n",
        "plt.arrow(0, 0, v_1[0], v_1[1], head_width=.1, head_length=.25, color='b')\n",
        "plt.title('Vector V_1 arrow')\n",
        "plt.show()"
      ],
      "execution_count": 0,
      "outputs": [
        {
          "output_type": "display_data",
          "data": {
            "image/png": "[encoded data removed]",
            "text/plain": [
              "<Figure size 432x288 with 1 Axes>"
            ]
          },
          "metadata": {
            "tags": []
          }
        }
      ]
    },
    {
      "cell_type": "code",
      "metadata": {
        "id": "5smS_YKbuyVK",
        "colab_type": "code",
        "outputId": "355c3599-80c5-4778-889c-605009edecc4",
        "colab": {
          "base_uri": "https://localhost:8080/",
          "height": 281
        }
      },
      "source": [
        "# Vector v_2\n",
        "v_2 = list(map(lambda v: v*2, v_1))\n",
        "\n",
        "plt.axis([-2.5, 2.5, -2.5, 2.5])\n",
        "plt.arrow(0, 0, v_2[0], v_2[1], head_width=.1, head_length=.25, color='b')\n",
        "plt.title('Vector V_2 arrow')\n",
        "plt.show()"
      ],
      "execution_count": 0,
      "outputs": [
        {
          "output_type": "display_data",
          "data": {
            "image/png": "[encoded data removed]",
            "text/plain": [
              "<Figure size 432x288 with 1 Axes>"
            ]
          },
          "metadata": {
            "tags": []
          }
        }
      ]
    },
    {
      "cell_type": "code",
      "metadata": {
        "id": "edgHswMCvfU7",
        "colab_type": "code",
        "outputId": "c6dfa333-d8f2-430d-aad0-848cc0bd1456",
        "colab": {
          "base_uri": "https://localhost:8080/",
          "height": 281
        }
      },
      "source": [
        "# Vector v_3\n",
        "v_3 = [0, -1]\n",
        "\n",
        "plt.axis([-1.5, 1.5, -1.5, 1.5])\n",
        "plt.arrow(0, 0, v_3[0], v_3[1], head_width=.1, head_length=.25, color='b')\n",
        "plt.title('Vector V_3 arrow')\n",
        "plt.show()"
      ],
      "execution_count": 0,
      "outputs": [
        {
          "output_type": "display_data",
          "data": {
            "image/png": "[encoded data removed]",
            "text/plain": [
              "<Figure size 432x288 with 1 Axes>"
            ]
          },
          "metadata": {
            "tags": []
          }
        }
      ]
    },
    {
      "cell_type": "code",
      "metadata": {
        "id": "e56zObxMv62g",
        "colab_type": "code",
        "outputId": "adf6ceae-a9fd-41ba-eae8-0d4768353151",
        "colab": {
          "base_uri": "https://localhost:8080/",
          "height": 281
        }
      },
      "source": [
        "# Vector v_4\n",
        "def add_v(c, d):\n",
        "  new_v = list(map(lambda a,b: a+b, c, d))\n",
        "  return new_v\n",
        "\n",
        "v_4 = add_v(v_2, v_3)\n",
        "\n",
        "plt.axis([-2.5, 2.5, -2.5, 2.5])\n",
        "plt.arrow(0, 0, v_4[0], v_4[1], head_width=.1, head_length=.25, color='b')\n",
        "plt.title('Vector V_4 arrow')\n",
        "plt.show()"
      ],
      "execution_count": 0,
      "outputs": [
        {
          "output_type": "display_data",
          "data": {
            "image/png": "[encoded data removed]",
            "text/plain": [
              "<Figure size 432x288 with 1 Axes>"
            ]
          },
          "metadata": {
            "tags": []
          }
        }
      ]
    },
    {
      "cell_type": "markdown",
      "metadata": {
        "id": "jWDov3LvlF9C",
        "colab_type": "text"
      },
      "source": [
        "## Graph the Matrix\n",
        "\n",
        "Graph the columns and rows of this matrix: \n",
        " $\\begin {bmatrix} 2 & 2 \\\\ 3 & 1 \\end{bmatrix}$"
      ]
    },
    {
      "cell_type": "code",
      "metadata": {
        "id": "Vru0b8zOlEUQ",
        "colab_type": "code",
        "outputId": "e5e63fe2-6989-4dbd-8882-5bca1073f581",
        "colab": {
          "base_uri": "https://localhost:8080/",
          "height": 281
        }
      },
      "source": [
        "matrix = np.matrix('2 2; 3 1')\n",
        "\n",
        "plt.axis([-4, 4, -4, 4])\n",
        "plt.arrow(0, 0, matrix[0,0], matrix[1,0], head_width=.1, head_length=.25, color='b')\n",
        "plt.arrow(0, 0, matrix[1,0], matrix[1,1], head_width=.1, head_length=.25, color='r')\n",
        "plt.title('Matrix arrow')\n",
        "plt.show()"
      ],
      "execution_count": 0,
      "outputs": [
        {
          "output_type": "display_data",
          "data": {
            "image/png": "[encoded data removed]",
            "text/plain": [
              "<Figure size 432x288 with 1 Axes>"
            ]
          },
          "metadata": {
            "tags": []
          }
        }
      ]
    },
    {
      "cell_type": "markdown",
      "metadata": {
        "id": "QbBhyPwhlggH",
        "colab_type": "text"
      },
      "source": [
        "## Using the tools: NumPy Edition\n",
        "\n",
        "Use the NumPy library to compute the \"Computations by Hand\" section. Make sure to print each answer and label your print statement"
      ]
    },
    {
      "cell_type": "code",
      "metadata": {
        "id": "JcjUoEANlf8Q",
        "colab_type": "code",
        "outputId": "5abe0a0c-3c42-41ef-adcb-51b2b0b30fd5",
        "colab": {
          "base_uri": "https://localhost:8080/",
          "height": 1054
        }
      },
      "source": [
        "# Answers using Python\n",
        "\n",
        "# Question 1:\n",
        "print(\"Question 1:\")\n",
        "vector1 = [1, 3, 4]\n",
        "vector2 = [4, 2, 6]\n",
        "print(\"Add two vectors.\")\n",
        "print(\"1 -\", vector1)\n",
        "print(\"2 -\", vector2)\n",
        "answer_1 = add_v(vector1, vector2)\n",
        "print(\"Answer:\\n\", answer_1)\n",
        "print(\"\\n\")\n",
        "\n",
        "# Question 2:\n",
        "print(\"Question 2:\")\n",
        "vector3 = [1, 2, 3]\n",
        "print(\"Multiply vector by 5.\")\n",
        "print(vector3, \"* 5\")\n",
        "answer_2 = list(map(lambda v: v*5, vector3))\n",
        "print(\"Answer:\\n\", answer_2)\n",
        "print(\"\\n\")\n",
        "\n",
        "# Question 3:\n",
        "print(\"Question 3:\")\n",
        "print(\"Multiply matrix and vector:\")\n",
        "vector4 = np.matrix('1 3; 2 3')\n",
        "vector5 = [1, 2]\n",
        "print(vector4, \"*\", vector5)\n",
        "answer_3 = np.matmul(vector4, vector5)\n",
        "print(\"Answer:\\n\", answer_3)\n",
        "print(\"\\n\")\n",
        "\n",
        "# Question 4:\n",
        "print(\"Question 4:\")\n",
        "vector6 = np.matrix('1 3; 2 3')\n",
        "vector7 = np.matrix('2 2; 3 1')\n",
        "print(\"Multiply two matrices.\")\n",
        "print(vector6, \"\\n*\\n\", vector7)\n",
        "answer_4 = np.matmul(vector6, vector7)\n",
        "print(\"Answer:\\n\", answer_4)\n",
        "print(\"\\n\")\n",
        "\n",
        "# Question 5:\n",
        "print(\"Question 5:\")\n",
        "matrix1 = np.matrix('1 4; 2 5; 3 6')\n",
        "print(\"Transpose the matrix.\\n\", matrix1)\n",
        "matrix1_transpose = np.transpose(matrix1)\n",
        "print(\"Answer:\\n\", matrix1_transpose)\n",
        "print(\"\\n\")\n",
        "\n",
        "# Question 6:\n",
        "print(\"Question 6:\")\n",
        "matrix2 = np.matrix('2 2; 3 1')\n",
        "print(\"Find determinant of matrix.\\n\", matrix2)\n",
        "matrix2_determinant = round(np.linalg.det(matrix2))\n",
        "print(\"Answer:\\n\", matrix2_determinant)\n",
        "print(\"\\n\")\n",
        "\n",
        "# Question 7:\n",
        "print(\"Question 7:\")\n",
        "matrix3 = np.matrix('3 2; 1 2')\n",
        "print(\"Find inverse of matrix.\\n\", matrix3)\n",
        "print(\"Determinant:\", round(np.linalg.det(matrix3)))\n",
        "inverse_mat = np.linalg.inv(matrix3)\n",
        "print('Answer: \\n', inverse_mat)"
      ],
      "execution_count": 0,
      "outputs": [
        {
          "output_type": "stream",
          "text": [
            "Question 1:\n",
            "Add two vectors.\n",
            "1 - [1, 3, 4]\n",
            "2 - [4, 2, 6]\n",
            "Answer:\n",
            " [5, 5, 10]\n",
            "\n",
            "\n",
            "Question 2:\n",
            "Multiply vector by 5.\n",
            "[1, 2, 3] * 5\n",
            "Answer:\n",
            " [5, 10, 15]\n",
            "\n",
            "\n",
            "Question 3:\n",
            "Multiply matrix and vector:\n",
            "[[1 3]\n",
            " [2 3]] * [1, 2]\n",
            "Answer:\n",
            " [[7 8]]\n",
            "\n",
            "\n",
            "Question 4:\n",
            "Multiply two matrices.\n",
            "[[1 3]\n",
            " [2 3]] \n",
            "*\n",
            " [[2 2]\n",
            " [3 1]]\n",
            "Answer:\n",
            " [[11  5]\n",
            " [13  7]]\n",
            "\n",
            "\n",
            "Question 5:\n",
            "Transpose the matrix.\n",
            " [[1 4]\n",
            " [2 5]\n",
            " [3 6]]\n",
            "Answer:\n",
            " [[1 2 3]\n",
            " [4 5 6]]\n",
            "\n",
            "\n",
            "Question 6:\n",
            "Find determinant of matrix.\n",
            " [[2 2]\n",
            " [3 1]]\n",
            "Answer:\n",
            " -4.0\n",
            "\n",
            "\n",
            "Question 7:\n",
            "Find inverse of matrix.\n",
            " [[3 2]\n",
            " [1 2]]\n",
            "Determinant: 4.0\n",
            "Answer: \n",
            " [[ 0.5  -0.5 ]\n",
            " [-0.25  0.75]]\n"
          ],
          "name": "stdout"
        }
      ]
    }
  ]
}